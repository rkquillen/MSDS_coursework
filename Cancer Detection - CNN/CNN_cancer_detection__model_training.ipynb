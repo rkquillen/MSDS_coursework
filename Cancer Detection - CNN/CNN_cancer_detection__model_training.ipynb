{
  "nbformat": 4,
  "nbformat_minor": 0,
  "metadata": {
    "colab": {
      "provenance": []
    },
    "kernelspec": {
      "name": "python3",
      "display_name": "Python 3"
    },
    "language_info": {
      "name": "python"
    },
    "accelerator": "GPU",
    "gpuClass": "standard"
  },
  "cells": [
    {
      "cell_type": "markdown",
      "source": [
        "# About this notebook:\n",
        "* this notebook is just the code that generated the models and some plots\n",
        "* models and their training histories are saved so they can be loaded by the \"report\" notebook\n",
        "* analysis and rationale are presented [here](https://colab.research.google.com/drive/1fJA9XcmsS3agc_xWDTjZ4gOX6YH9JJLM?usp=sharing)"
      ],
      "metadata": {
        "id": "6bkXI43W6hcO"
      }
    },
    {
      "cell_type": "code",
      "source": [
        "from google.colab import drive\n",
        "drive.mount('/content/gdrive/')"
      ],
      "metadata": {
        "id": "ttEbG2wBTh-6"
      },
      "execution_count": null,
      "outputs": []
    },
    {
      "cell_type": "markdown",
      "source": [
        "# Dependencies"
      ],
      "metadata": {
        "id": "lblK1OeylIFR"
      }
    },
    {
      "cell_type": "code",
      "source": [
        "%%capture  \n",
        "!pip install ktrain"
      ],
      "metadata": {
        "id": "Ceq8EkZSE-h9"
      },
      "execution_count": null,
      "outputs": []
    },
    {
      "cell_type": "code",
      "source": [
        "import ktrain\n",
        "import numpy as np \n",
        "import pandas as pd \n",
        "import matplotlib.pyplot as plt\n",
        "from matplotlib.image import imread\n",
        "import tensorflow as tf\n",
        "from tensorflow import keras\n",
        "from keras.preprocessing.image  import ImageDataGenerator\n",
        "from keras.models import Sequential\n",
        "from keras.layers import Flatten, Dense, Activation, Conv2D, MaxPooling2D\n",
        "from keras.layers import BatchNormalization, Dropout\n",
        "from keras.layers import CenterCrop, InputLayer\n",
        "\n",
        "%matplotlib inline"
      ],
      "metadata": {
        "id": "-7Do_ajwG8I3"
      },
      "execution_count": null,
      "outputs": []
    },
    {
      "cell_type": "markdown",
      "source": [
        "# Get datasets from Kaggle"
      ],
      "metadata": {
        "id": "AvYf2ghsk4f2"
      }
    },
    {
      "cell_type": "code",
      "source": [
        "#define paths\n",
        "\n",
        "## Kaggle paths\n",
        "# TRAIN_DIR = \"/input/histopathologic-cancer-detection/train/\"\n",
        "# TEST_DIR = \"/input/histopathologic-cancer-detection/test/\"\n",
        "# label_path = \"/input/train_labels.csv\"\"\n",
        "# model_path = \"/models/\"\n",
        "\n",
        "# Colab paths\n",
        "TRAIN_DIR = \"/content/input/train/\"\n",
        "TEST_DIR = \"/content/input/test/\"\n",
        "label_path = \"/content/input/train_labels.csv\"\n",
        "model_path = \"/content/gdrive/MyDrive/!Data/kaggle_cancer/models/\""
      ],
      "metadata": {
        "id": "a7eYaoQStET9"
      },
      "execution_count": null,
      "outputs": []
    },
    {
      "cell_type": "code",
      "source": [
        "import os\n",
        "os.environ['KAGGLE_USERNAME'] = \"USERNAME\" # Kaggle username\n",
        "os.environ['KAGGLE_KEY'] = \"API KEY\" # Kaggle key\n",
        "! kaggle competitions download -c histopathologic-cancer-detection\n",
        "! mkdir input\n",
        "! unzip /content/histopathologic-cancer-detection.zip -d input\n"
      ],
      "metadata": {
        "id": "oiBssc8lpdpm"
      },
      "execution_count": null,
      "outputs": []
    },
    {
      "cell_type": "code",
      "source": [
        "df_train = pd.read_csv(label_path)\n",
        "# add file extension to file names\n",
        "df_train[\"id\"] = df_train[\"id\"]+\".tif\"\n",
        "# convert labels into strings for compatibility with keras ImageDataGenerator\n",
        "df_train[\"label\"] = df_train[\"label\"].astype(str)\n",
        "df_train.head()"
      ],
      "metadata": {
        "colab": {
          "base_uri": "https://localhost:8080/",
          "height": 206
        },
        "id": "hSEM0E5rIGa5",
        "outputId": "0da0b515-1db6-46d6-9d35-d652e2dd3800"
      },
      "execution_count": null,
      "outputs": [
        {
          "output_type": "execute_result",
          "data": {
            "text/plain": [
              "                                             id label\n",
              "0  f38a6374c348f90b587e046aac6079959adf3835.tif     0\n",
              "1  c18f2d887b7ae4f6742ee445113fa1aef383ed77.tif     1\n",
              "2  755db6279dae599ebb4d39a9123cce439965282d.tif     0\n",
              "3  bc3f0c64fb968ff4a8bd33af6971ecae77c75e08.tif     0\n",
              "4  068aba587a4950175d04c680d38943fd488d6a9d.tif     0"
            ],
            "text/html": [
              "\n",
              "  <div id=\"df-cee417e9-507c-4130-b3d0-bf1f51bb84ab\">\n",
              "    <div class=\"colab-df-container\">\n",
              "      <div>\n",
              "<style scoped>\n",
              "    .dataframe tbody tr th:only-of-type {\n",
              "        vertical-align: middle;\n",
              "    }\n",
              "\n",
              "    .dataframe tbody tr th {\n",
              "        vertical-align: top;\n",
              "    }\n",
              "\n",
              "    .dataframe thead th {\n",
              "        text-align: right;\n",
              "    }\n",
              "</style>\n",
              "<table border=\"1\" class=\"dataframe\">\n",
              "  <thead>\n",
              "    <tr style=\"text-align: right;\">\n",
              "      <th></th>\n",
              "      <th>id</th>\n",
              "      <th>label</th>\n",
              "    </tr>\n",
              "  </thead>\n",
              "  <tbody>\n",
              "    <tr>\n",
              "      <th>0</th>\n",
              "      <td>f38a6374c348f90b587e046aac6079959adf3835.tif</td>\n",
              "      <td>0</td>\n",
              "    </tr>\n",
              "    <tr>\n",
              "      <th>1</th>\n",
              "      <td>c18f2d887b7ae4f6742ee445113fa1aef383ed77.tif</td>\n",
              "      <td>1</td>\n",
              "    </tr>\n",
              "    <tr>\n",
              "      <th>2</th>\n",
              "      <td>755db6279dae599ebb4d39a9123cce439965282d.tif</td>\n",
              "      <td>0</td>\n",
              "    </tr>\n",
              "    <tr>\n",
              "      <th>3</th>\n",
              "      <td>bc3f0c64fb968ff4a8bd33af6971ecae77c75e08.tif</td>\n",
              "      <td>0</td>\n",
              "    </tr>\n",
              "    <tr>\n",
              "      <th>4</th>\n",
              "      <td>068aba587a4950175d04c680d38943fd488d6a9d.tif</td>\n",
              "      <td>0</td>\n",
              "    </tr>\n",
              "  </tbody>\n",
              "</table>\n",
              "</div>\n",
              "      <button class=\"colab-df-convert\" onclick=\"convertToInteractive('df-cee417e9-507c-4130-b3d0-bf1f51bb84ab')\"\n",
              "              title=\"Convert this dataframe to an interactive table.\"\n",
              "              style=\"display:none;\">\n",
              "        \n",
              "  <svg xmlns=\"http://www.w3.org/2000/svg\" height=\"24px\"viewBox=\"0 0 24 24\"\n",
              "       width=\"24px\">\n",
              "    <path d=\"M0 0h24v24H0V0z\" fill=\"none\"/>\n",
              "    <path d=\"M18.56 5.44l.94 2.06.94-2.06 2.06-.94-2.06-.94-.94-2.06-.94 2.06-2.06.94zm-11 1L8.5 8.5l.94-2.06 2.06-.94-2.06-.94L8.5 2.5l-.94 2.06-2.06.94zm10 10l.94 2.06.94-2.06 2.06-.94-2.06-.94-.94-2.06-.94 2.06-2.06.94z\"/><path d=\"M17.41 7.96l-1.37-1.37c-.4-.4-.92-.59-1.43-.59-.52 0-1.04.2-1.43.59L10.3 9.45l-7.72 7.72c-.78.78-.78 2.05 0 2.83L4 21.41c.39.39.9.59 1.41.59.51 0 1.02-.2 1.41-.59l7.78-7.78 2.81-2.81c.8-.78.8-2.07 0-2.86zM5.41 20L4 18.59l7.72-7.72 1.47 1.35L5.41 20z\"/>\n",
              "  </svg>\n",
              "      </button>\n",
              "      \n",
              "  <style>\n",
              "    .colab-df-container {\n",
              "      display:flex;\n",
              "      flex-wrap:wrap;\n",
              "      gap: 12px;\n",
              "    }\n",
              "\n",
              "    .colab-df-convert {\n",
              "      background-color: #E8F0FE;\n",
              "      border: none;\n",
              "      border-radius: 50%;\n",
              "      cursor: pointer;\n",
              "      display: none;\n",
              "      fill: #1967D2;\n",
              "      height: 32px;\n",
              "      padding: 0 0 0 0;\n",
              "      width: 32px;\n",
              "    }\n",
              "\n",
              "    .colab-df-convert:hover {\n",
              "      background-color: #E2EBFA;\n",
              "      box-shadow: 0px 1px 2px rgba(60, 64, 67, 0.3), 0px 1px 3px 1px rgba(60, 64, 67, 0.15);\n",
              "      fill: #174EA6;\n",
              "    }\n",
              "\n",
              "    [theme=dark] .colab-df-convert {\n",
              "      background-color: #3B4455;\n",
              "      fill: #D2E3FC;\n",
              "    }\n",
              "\n",
              "    [theme=dark] .colab-df-convert:hover {\n",
              "      background-color: #434B5C;\n",
              "      box-shadow: 0px 1px 3px 1px rgba(0, 0, 0, 0.15);\n",
              "      filter: drop-shadow(0px 1px 2px rgba(0, 0, 0, 0.3));\n",
              "      fill: #FFFFFF;\n",
              "    }\n",
              "  </style>\n",
              "\n",
              "      <script>\n",
              "        const buttonEl =\n",
              "          document.querySelector('#df-cee417e9-507c-4130-b3d0-bf1f51bb84ab button.colab-df-convert');\n",
              "        buttonEl.style.display =\n",
              "          google.colab.kernel.accessAllowed ? 'block' : 'none';\n",
              "\n",
              "        async function convertToInteractive(key) {\n",
              "          const element = document.querySelector('#df-cee417e9-507c-4130-b3d0-bf1f51bb84ab');\n",
              "          const dataTable =\n",
              "            await google.colab.kernel.invokeFunction('convertToInteractive',\n",
              "                                                     [key], {});\n",
              "          if (!dataTable) return;\n",
              "\n",
              "          const docLinkHtml = 'Like what you see? Visit the ' +\n",
              "            '<a target=\"_blank\" href=https://colab.research.google.com/notebooks/data_table.ipynb>data table notebook</a>'\n",
              "            + ' to learn more about interactive tables.';\n",
              "          element.innerHTML = '';\n",
              "          dataTable['output_type'] = 'display_data';\n",
              "          await google.colab.output.renderOutput(dataTable, element);\n",
              "          const docLink = document.createElement('div');\n",
              "          docLink.innerHTML = docLinkHtml;\n",
              "          element.appendChild(docLink);\n",
              "        }\n",
              "      </script>\n",
              "    </div>\n",
              "  </div>\n",
              "  "
            ]
          },
          "metadata": {},
          "execution_count": 6
        }
      ]
    },
    {
      "cell_type": "markdown",
      "source": [
        "# Balance dataset"
      ],
      "metadata": {
        "id": "5IuAmIoPLfa2"
      }
    },
    {
      "cell_type": "code",
      "source": [
        "df_train[\"label\"].value_counts().plot.pie()"
      ],
      "metadata": {
        "colab": {
          "base_uri": "https://localhost:8080/",
          "height": 265
        },
        "id": "zbqeW1ufJCnH",
        "outputId": "f306ce94-49f0-4b41-c028-84281ea378cc"
      },
      "execution_count": null,
      "outputs": [
        {
          "output_type": "execute_result",
          "data": {
            "text/plain": [
              "<matplotlib.axes._subplots.AxesSubplot at 0x7f250d44ef50>"
            ]
          },
          "metadata": {},
          "execution_count": 12
        },
        {
          "output_type": "display_data",
          "data": {
            "text/plain": [
              "<Figure size 432x288 with 1 Axes>"
            ],
            "image/png": "[encoded data removed]"
          },
          "metadata": {}
        }
      ]
    },
    {
      "cell_type": "code",
      "source": [
        "# balance the dataset through downsampling\n",
        "pos_subset = df_train[df_train.label == \"1\"]\n",
        "neg_subset = df_train[df_train.label == \"0\"].sample(n=pos_subset.shape[0], random_state=1)\n",
        "df_train = pd.concat([pos_subset, neg_subset]).sample(frac=1, random_state=1).reset_index(drop=True)\n",
        "\n",
        "print(pos_subset.shape)\n",
        "print(neg_subset.shape)\n",
        "print(df_train.shape)"
      ],
      "metadata": {
        "colab": {
          "base_uri": "https://localhost:8080/"
        },
        "id": "1w_ezJqaKuo4",
        "outputId": "408cb958-7cdb-447c-fa5e-21d9ebd18e85"
      },
      "execution_count": null,
      "outputs": [
        {
          "output_type": "stream",
          "name": "stdout",
          "text": [
            "(89117, 2)\n",
            "(89117, 2)\n",
            "(178234, 2)\n"
          ]
        }
      ]
    },
    {
      "cell_type": "markdown",
      "source": [
        "# Build ImageDataGenerators "
      ],
      "metadata": {
        "id": "Ni3mE-NgOWS4"
      }
    },
    {
      "cell_type": "code",
      "source": [
        "batch_size = 64\n",
        "\n",
        "img_data_generator = ImageDataGenerator(\n",
        "    validation_split=0.2, \n",
        "    rescale=1/255, \n",
        "    horizontal_flip=True,\n",
        "    vertical_flip=True)\n",
        "\n",
        "train_data = img_data_generator.flow_from_dataframe(\n",
        "    dataframe = df_train,\n",
        "    directory = TRAIN_DIR,\n",
        "    x_col=\"id\",\n",
        "    y_col=\"label\",\n",
        "    class_mode=\"binary\",\n",
        "    target_size = (96,96),\n",
        "    color_mode = \"rgb\",\n",
        "    batch_size = batch_size,\n",
        "    seed = 1,\n",
        "    subset=\"training\")\n",
        "\n",
        "val_data = img_data_generator.flow_from_dataframe(\n",
        "    dataframe = df_train,\n",
        "    directory = TRAIN_DIR,\n",
        "    x_col=\"id\",\n",
        "    y_col=\"label\",\n",
        "    class_mode=\"binary\",\n",
        "    target_size = (96,96),\n",
        "    color_mode = \"rgb\",\n",
        "    batch_size = batch_size,\n",
        "    seed = 1,\n",
        "    subset=\"validation\")\n",
        "\n"
      ],
      "metadata": {
        "id": "jjZUQSviOg5a",
        "colab": {
          "base_uri": "https://localhost:8080/"
        },
        "outputId": "7c649a86-2ca7-4c13-8bad-b4a89f115dc3"
      },
      "execution_count": null,
      "outputs": [
        {
          "output_type": "stream",
          "name": "stdout",
          "text": [
            "Found 142588 validated image filenames belonging to 2 classes.\n",
            "Found 35646 validated image filenames belonging to 2 classes.\n"
          ]
        }
      ]
    },
    {
      "cell_type": "code",
      "source": [
        "test_files = os.listdir(TEST_DIR)"
      ],
      "metadata": {
        "id": "3F6UnPk2Kr13"
      },
      "execution_count": null,
      "outputs": []
    },
    {
      "cell_type": "code",
      "source": [
        "df_test = pd.DataFrame({\"id\":test_files})\n",
        "df_test.head()"
      ],
      "metadata": {
        "colab": {
          "base_uri": "https://localhost:8080/",
          "height": 206
        },
        "id": "eNGJdmy6MEIA",
        "outputId": "ad94054d-b824-4d66-bfce-065992e402b1"
      },
      "execution_count": null,
      "outputs": [
        {
          "output_type": "execute_result",
          "data": {
            "text/plain": [
              "                                             id\n",
              "0  f92a6f09739c848e3827530e2c96b090bad3f2c2.tif\n",
              "1  f13e5b15506693c232ada2ca7992ccfd32036842.tif\n",
              "2  46eb06c3676f065aecba50109266bdd270a07443.tif\n",
              "3  a798897b84653ad94668433e17c8c0d000d85132.tif\n",
              "4  ca37b04d764f2267f85341125af749c6e5e90845.tif"
            ],
            "text/html": [
              "\n",
              "  <div id=\"df-2805b5c0-e334-4c32-b404-c433b8a7beab\">\n",
              "    <div class=\"colab-df-container\">\n",
              "      <div>\n",
              "<style scoped>\n",
              "    .dataframe tbody tr th:only-of-type {\n",
              "        vertical-align: middle;\n",
              "    }\n",
              "\n",
              "    .dataframe tbody tr th {\n",
              "        vertical-align: top;\n",
              "    }\n",
              "\n",
              "    .dataframe thead th {\n",
              "        text-align: right;\n",
              "    }\n",
              "</style>\n",
              "<table border=\"1\" class=\"dataframe\">\n",
              "  <thead>\n",
              "    <tr style=\"text-align: right;\">\n",
              "      <th></th>\n",
              "      <th>id</th>\n",
              "    </tr>\n",
              "  </thead>\n",
              "  <tbody>\n",
              "    <tr>\n",
              "      <th>0</th>\n",
              "      <td>f92a6f09739c848e3827530e2c96b090bad3f2c2.tif</td>\n",
              "    </tr>\n",
              "    <tr>\n",
              "      <th>1</th>\n",
              "      <td>f13e5b15506693c232ada2ca7992ccfd32036842.tif</td>\n",
              "    </tr>\n",
              "    <tr>\n",
              "      <th>2</th>\n",
              "      <td>46eb06c3676f065aecba50109266bdd270a07443.tif</td>\n",
              "    </tr>\n",
              "    <tr>\n",
              "      <th>3</th>\n",
              "      <td>a798897b84653ad94668433e17c8c0d000d85132.tif</td>\n",
              "    </tr>\n",
              "    <tr>\n",
              "      <th>4</th>\n",
              "      <td>ca37b04d764f2267f85341125af749c6e5e90845.tif</td>\n",
              "    </tr>\n",
              "  </tbody>\n",
              "</table>\n",
              "</div>\n",
              "      <button class=\"colab-df-convert\" onclick=\"convertToInteractive('df-2805b5c0-e334-4c32-b404-c433b8a7beab')\"\n",
              "              title=\"Convert this dataframe to an interactive table.\"\n",
              "              style=\"display:none;\">\n",
              "        \n",
              "  <svg xmlns=\"http://www.w3.org/2000/svg\" height=\"24px\"viewBox=\"0 0 24 24\"\n",
              "       width=\"24px\">\n",
              "    <path d=\"M0 0h24v24H0V0z\" fill=\"none\"/>\n",
              "    <path d=\"M18.56 5.44l.94 2.06.94-2.06 2.06-.94-2.06-.94-.94-2.06-.94 2.06-2.06.94zm-11 1L8.5 8.5l.94-2.06 2.06-.94-2.06-.94L8.5 2.5l-.94 2.06-2.06.94zm10 10l.94 2.06.94-2.06 2.06-.94-2.06-.94-.94-2.06-.94 2.06-2.06.94z\"/><path d=\"M17.41 7.96l-1.37-1.37c-.4-.4-.92-.59-1.43-.59-.52 0-1.04.2-1.43.59L10.3 9.45l-7.72 7.72c-.78.78-.78 2.05 0 2.83L4 21.41c.39.39.9.59 1.41.59.51 0 1.02-.2 1.41-.59l7.78-7.78 2.81-2.81c.8-.78.8-2.07 0-2.86zM5.41 20L4 18.59l7.72-7.72 1.47 1.35L5.41 20z\"/>\n",
              "  </svg>\n",
              "      </button>\n",
              "      \n",
              "  <style>\n",
              "    .colab-df-container {\n",
              "      display:flex;\n",
              "      flex-wrap:wrap;\n",
              "      gap: 12px;\n",
              "    }\n",
              "\n",
              "    .colab-df-convert {\n",
              "      background-color: #E8F0FE;\n",
              "      border: none;\n",
              "      border-radius: 50%;\n",
              "      cursor: pointer;\n",
              "      display: none;\n",
              "      fill: #1967D2;\n",
              "      height: 32px;\n",
              "      padding: 0 0 0 0;\n",
              "      width: 32px;\n",
              "    }\n",
              "\n",
              "    .colab-df-convert:hover {\n",
              "      background-color: #E2EBFA;\n",
              "      box-shadow: 0px 1px 2px rgba(60, 64, 67, 0.3), 0px 1px 3px 1px rgba(60, 64, 67, 0.15);\n",
              "      fill: #174EA6;\n",
              "    }\n",
              "\n",
              "    [theme=dark] .colab-df-convert {\n",
              "      background-color: #3B4455;\n",
              "      fill: #D2E3FC;\n",
              "    }\n",
              "\n",
              "    [theme=dark] .colab-df-convert:hover {\n",
              "      background-color: #434B5C;\n",
              "      box-shadow: 0px 1px 3px 1px rgba(0, 0, 0, 0.15);\n",
              "      filter: drop-shadow(0px 1px 2px rgba(0, 0, 0, 0.3));\n",
              "      fill: #FFFFFF;\n",
              "    }\n",
              "  </style>\n",
              "\n",
              "      <script>\n",
              "        const buttonEl =\n",
              "          document.querySelector('#df-2805b5c0-e334-4c32-b404-c433b8a7beab button.colab-df-convert');\n",
              "        buttonEl.style.display =\n",
              "          google.colab.kernel.accessAllowed ? 'block' : 'none';\n",
              "\n",
              "        async function convertToInteractive(key) {\n",
              "          const element = document.querySelector('#df-2805b5c0-e334-4c32-b404-c433b8a7beab');\n",
              "          const dataTable =\n",
              "            await google.colab.kernel.invokeFunction('convertToInteractive',\n",
              "                                                     [key], {});\n",
              "          if (!dataTable) return;\n",
              "\n",
              "          const docLinkHtml = 'Like what you see? Visit the ' +\n",
              "            '<a target=\"_blank\" href=https://colab.research.google.com/notebooks/data_table.ipynb>data table notebook</a>'\n",
              "            + ' to learn more about interactive tables.';\n",
              "          element.innerHTML = '';\n",
              "          dataTable['output_type'] = 'display_data';\n",
              "          await google.colab.output.renderOutput(dataTable, element);\n",
              "          const docLink = document.createElement('div');\n",
              "          docLink.innerHTML = docLinkHtml;\n",
              "          element.appendChild(docLink);\n",
              "        }\n",
              "      </script>\n",
              "    </div>\n",
              "  </div>\n",
              "  "
            ]
          },
          "metadata": {},
          "execution_count": 16
        }
      ]
    },
    {
      "cell_type": "code",
      "source": [
        "test_img_data_generator = ImageDataGenerator(rescale=1/255)\n",
        "\n",
        "test_data = test_img_data_generator.flow_from_dataframe(\n",
        "    dataframe = df_test,\n",
        "    x_col=\"id\",\n",
        "    directory = TEST_DIR,\n",
        "    class_mode=None,\n",
        "    target_size = (96,96),\n",
        "    color_mode = \"rgb\",\n",
        "    batch_size = 32,\n",
        "    shuffle=False)"
      ],
      "metadata": {
        "colab": {
          "base_uri": "https://localhost:8080/"
        },
        "id": "E7BikXg8LP8e",
        "outputId": "687a43c9-4ddf-44b3-918f-fd70efd5db2d"
      },
      "execution_count": null,
      "outputs": [
        {
          "output_type": "stream",
          "name": "stdout",
          "text": [
            "Found 57458 validated image filenames.\n"
          ]
        }
      ]
    },
    {
      "cell_type": "code",
      "source": [
        "# example image\n",
        "plt.imshow(train_data.next()[0][0])"
      ],
      "metadata": {
        "colab": {
          "base_uri": "https://localhost:8080/",
          "height": 286
        },
        "id": "nIEV7Oq7OhJE",
        "outputId": "667edec4-1e6b-481a-fe2f-67f1a94b1915"
      },
      "execution_count": null,
      "outputs": [
        {
          "output_type": "execute_result",
          "data": {
            "text/plain": [
              "<matplotlib.image.AxesImage at 0x7f1666906410>"
            ]
          },
          "metadata": {},
          "execution_count": 12
        },
        {
          "output_type": "display_data",
          "data": {
            "text/plain": [
              "<Figure size 432x288 with 1 Axes>"
            ],
            "image/png": "[encoded data removed]"
          },
          "metadata": {
            "needs_background": "light"
          }
        }
      ]
    },
    {
      "cell_type": "markdown",
      "source": [
        "# Candidate Models"
      ],
      "metadata": {
        "id": "nw48rxLUlOyS"
      }
    },
    {
      "cell_type": "markdown",
      "source": [
        "## model_crop_34\n",
        "2.4M trainable parameters"
      ],
      "metadata": {
        "id": "JogO5TLLlSaZ"
      }
    },
    {
      "cell_type": "code",
      "source": [
        "# # cropped to better fit the central portion of the image from which the labels are determined \n",
        "model_crop_34 = Sequential([\n",
        "    InputLayer(input_shape=(96,96,3)),\n",
        "    CenterCrop(34,34),     \n",
        "\n",
        "    Conv2D(32,(3,3), padding=\"valid\"),\n",
        "    BatchNormalization(),\n",
        "    Activation(\"relu\"),\n",
        "    Conv2D(32,(3,3), padding=\"same\"),\n",
        "    BatchNormalization(),\n",
        "    Activation(\"relu\"),\n",
        "    MaxPooling2D(pool_size=(2, 2)),\n",
        "\n",
        "    Conv2D(64,(3,3), padding=\"same\"),\n",
        "    BatchNormalization(),\n",
        "    Activation(\"relu\"),\n",
        "    Conv2D(64,(3,3), padding=\"same\"),\n",
        "    BatchNormalization(),\n",
        "    Activation(\"relu\"),\n",
        "    MaxPooling2D(pool_size=(2, 2)),\n",
        "    \n",
        "    Conv2D(128,(3,3), padding=\"same\"),\n",
        "    BatchNormalization(),\n",
        "    Activation(\"relu\"),\n",
        "    Conv2D(128,(3,3), padding=\"same\"),\n",
        "    BatchNormalization(),\n",
        "    Activation(\"relu\"),\n",
        "    \n",
        "    Flatten(),\n",
        "    Dense(256),\n",
        "    BatchNormalization(),\n",
        "    Activation(\"relu\"),\n",
        "    \n",
        "    Dense(1),\n",
        "    Activation(\"sigmoid\")\n",
        "])\n",
        "\n",
        "model_crop_34.compile(\n",
        "    loss='binary_crossentropy',\n",
        "    optimizer=tf.keras.optimizers.Adam(.001), \n",
        "    metrics=['accuracy'])\n"
      ],
      "metadata": {
        "id": "SFvLEgPZQOaM"
      },
      "execution_count": null,
      "outputs": []
    },
    {
      "cell_type": "code",
      "source": [
        "model_crop_34.summary()"
      ],
      "metadata": {
        "colab": {
          "base_uri": "https://localhost:8080/"
        },
        "id": "SEsKgBLG2dnm",
        "outputId": "4db62509-cb7e-4dfb-b92f-ff410e26039e"
      },
      "execution_count": null,
      "outputs": [
        {
          "output_type": "stream",
          "name": "stdout",
          "text": [
            "Model: \"sequential\"\n",
            "_________________________________________________________________\n",
            " Layer (type)                Output Shape              Param #   \n",
            "=================================================================\n",
            " center_crop (CenterCrop)    (None, 34, 34, 3)         0         \n",
            "                                                                 \n",
            " conv2d (Conv2D)             (None, 32, 32, 32)        896       \n",
            "                                                                 \n",
            " batch_normalization (BatchN  (None, 32, 32, 32)       128       \n",
            " ormalization)                                                   \n",
            "                                                                 \n",
            " activation (Activation)     (None, 32, 32, 32)        0         \n",
            "                                                                 \n",
            " conv2d_1 (Conv2D)           (None, 32, 32, 32)        9248      \n",
            "                                                                 \n",
            " batch_normalization_1 (Batc  (None, 32, 32, 32)       128       \n",
            " hNormalization)                                                 \n",
            "                                                                 \n",
            " activation_1 (Activation)   (None, 32, 32, 32)        0         \n",
            "                                                                 \n",
            " max_pooling2d (MaxPooling2D  (None, 16, 16, 32)       0         \n",
            " )                                                               \n",
            "                                                                 \n",
            " conv2d_2 (Conv2D)           (None, 16, 16, 64)        18496     \n",
            "                                                                 \n",
            " batch_normalization_2 (Batc  (None, 16, 16, 64)       256       \n",
            " hNormalization)                                                 \n",
            "                                                                 \n",
            " activation_2 (Activation)   (None, 16, 16, 64)        0         \n",
            "                                                                 \n",
            " conv2d_3 (Conv2D)           (None, 16, 16, 64)        36928     \n",
            "                                                                 \n",
            " batch_normalization_3 (Batc  (None, 16, 16, 64)       256       \n",
            " hNormalization)                                                 \n",
            "                                                                 \n",
            " activation_3 (Activation)   (None, 16, 16, 64)        0         \n",
            "                                                                 \n",
            " max_pooling2d_1 (MaxPooling  (None, 8, 8, 64)         0         \n",
            " 2D)                                                             \n",
            "                                                                 \n",
            " conv2d_4 (Conv2D)           (None, 8, 8, 128)         73856     \n",
            "                                                                 \n",
            " batch_normalization_4 (Batc  (None, 8, 8, 128)        512       \n",
            " hNormalization)                                                 \n",
            "                                                                 \n",
            " activation_4 (Activation)   (None, 8, 8, 128)         0         \n",
            "                                                                 \n",
            " conv2d_5 (Conv2D)           (None, 8, 8, 128)         147584    \n",
            "                                                                 \n",
            " batch_normalization_5 (Batc  (None, 8, 8, 128)        512       \n",
            " hNormalization)                                                 \n",
            "                                                                 \n",
            " activation_5 (Activation)   (None, 8, 8, 128)         0         \n",
            "                                                                 \n",
            " flatten (Flatten)           (None, 8192)              0         \n",
            "                                                                 \n",
            " dense (Dense)               (None, 256)               2097408   \n",
            "                                                                 \n",
            " batch_normalization_6 (Batc  (None, 256)              1024      \n",
            " hNormalization)                                                 \n",
            "                                                                 \n",
            " activation_6 (Activation)   (None, 256)               0         \n",
            "                                                                 \n",
            " dense_1 (Dense)             (None, 1)                 257       \n",
            "                                                                 \n",
            " activation_7 (Activation)   (None, 1)                 0         \n",
            "                                                                 \n",
            "=================================================================\n",
            "Total params: 2,387,489\n",
            "Trainable params: 2,386,081\n",
            "Non-trainable params: 1,408\n",
            "_________________________________________________________________\n"
          ]
        }
      ]
    },
    {
      "cell_type": "code",
      "source": [
        "history_crop_34 = model_crop_34.fit(\n",
        "    x=train_data,\n",
        "    epochs=5,\n",
        "    verbose=\"auto\",\n",
        "    validation_data=val_data,\n",
        "    validation_steps=None,\n",
        "    validation_freq=1,\n",
        "    max_queue_size=10,\n",
        "    workers=8\n",
        ")\n",
        "\n",
        "model_crop_34.save(model_path+\"model_crop_34\")"
      ],
      "metadata": {
        "id": "o_1TVNIPQZrB",
        "colab": {
          "base_uri": "https://localhost:8080/"
        },
        "outputId": "bcd0539e-2de6-4f27-95ba-65eac17abf08"
      },
      "execution_count": null,
      "outputs": [
        {
          "output_type": "stream",
          "name": "stdout",
          "text": [
            "Epoch 1/5\n",
            "2228/2228 [==============================] - 198s 83ms/step - loss: 0.4463 - accuracy: 0.7975 - val_loss: 0.4484 - val_accuracy: 0.8072\n",
            "Epoch 2/5\n",
            "2228/2228 [==============================] - 182s 82ms/step - loss: 0.3950 - accuracy: 0.8264 - val_loss: 0.5114 - val_accuracy: 0.7560\n",
            "Epoch 3/5\n",
            "2228/2228 [==============================] - 178s 80ms/step - loss: 0.3712 - accuracy: 0.8389 - val_loss: 0.3669 - val_accuracy: 0.8357\n",
            "Epoch 4/5\n",
            "2228/2228 [==============================] - 151s 68ms/step - loss: 0.3577 - accuracy: 0.8457 - val_loss: 0.4193 - val_accuracy: 0.8102\n",
            "Epoch 5/5\n",
            "2228/2228 [==============================] - 146s 65ms/step - loss: 0.3455 - accuracy: 0.8514 - val_loss: 0.6504 - val_accuracy: 0.7195\n"
          ]
        }
      ]
    },
    {
      "cell_type": "code",
      "source": [
        "# save model history\n",
        "# convert history to DataFrame:     \n",
        "df_history_crop_34 = pd.DataFrame(history_crop_34.history) \n",
        "df_history_crop_34[\"epoch\"] = range(1,df_history_crop_34.shape[0]+1)\n",
        "\n",
        "# save to csv: \n",
        "hist_csv_file = model_path+'history_crop_34.csv'\n",
        "with open(hist_csv_file, mode='w') as f:\n",
        "    df_history_crop_34.to_csv(f)"
      ],
      "metadata": {
        "id": "dYyQul8aQeUV"
      },
      "execution_count": null,
      "outputs": []
    },
    {
      "cell_type": "code",
      "source": [
        "df_history_crop_34.head()"
      ],
      "metadata": {
        "colab": {
          "base_uri": "https://localhost:8080/",
          "height": 206
        },
        "id": "ibJPad_Gqb2U",
        "outputId": "b4cbfd2b-f2ad-4b84-b436-26dc7543c124"
      },
      "execution_count": null,
      "outputs": [
        {
          "output_type": "execute_result",
          "data": {
            "text/plain": [
              "       loss  accuracy  val_loss  val_accuracy  epoch\n",
              "0  0.446278  0.797514  0.448377      0.807243      1\n",
              "1  0.394983  0.826430  0.511445      0.755989      2\n",
              "2  0.371186  0.838942  0.366939      0.835662      3\n",
              "3  0.357651  0.845744  0.419299      0.810245      4\n",
              "4  0.345531  0.851362  0.650384      0.719520      5"
            ],
            "text/html": [
              "\n",
              "  <div id=\"df-b63d5ece-8289-454a-bff1-6595a1da47b3\">\n",
              "    <div class=\"colab-df-container\">\n",
              "      <div>\n",
              "<style scoped>\n",
              "    .dataframe tbody tr th:only-of-type {\n",
              "        vertical-align: middle;\n",
              "    }\n",
              "\n",
              "    .dataframe tbody tr th {\n",
              "        vertical-align: top;\n",
              "    }\n",
              "\n",
              "    .dataframe thead th {\n",
              "        text-align: right;\n",
              "    }\n",
              "</style>\n",
              "<table border=\"1\" class=\"dataframe\">\n",
              "  <thead>\n",
              "    <tr style=\"text-align: right;\">\n",
              "      <th></th>\n",
              "      <th>loss</th>\n",
              "      <th>accuracy</th>\n",
              "      <th>val_loss</th>\n",
              "      <th>val_accuracy</th>\n",
              "      <th>epoch</th>\n",
              "    </tr>\n",
              "  </thead>\n",
              "  <tbody>\n",
              "    <tr>\n",
              "      <th>0</th>\n",
              "      <td>0.446278</td>\n",
              "      <td>0.797514</td>\n",
              "      <td>0.448377</td>\n",
              "      <td>0.807243</td>\n",
              "      <td>1</td>\n",
              "    </tr>\n",
              "    <tr>\n",
              "      <th>1</th>\n",
              "      <td>0.394983</td>\n",
              "      <td>0.826430</td>\n",
              "      <td>0.511445</td>\n",
              "      <td>0.755989</td>\n",
              "      <td>2</td>\n",
              "    </tr>\n",
              "    <tr>\n",
              "      <th>2</th>\n",
              "      <td>0.371186</td>\n",
              "      <td>0.838942</td>\n",
              "      <td>0.366939</td>\n",
              "      <td>0.835662</td>\n",
              "      <td>3</td>\n",
              "    </tr>\n",
              "    <tr>\n",
              "      <th>3</th>\n",
              "      <td>0.357651</td>\n",
              "      <td>0.845744</td>\n",
              "      <td>0.419299</td>\n",
              "      <td>0.810245</td>\n",
              "      <td>4</td>\n",
              "    </tr>\n",
              "    <tr>\n",
              "      <th>4</th>\n",
              "      <td>0.345531</td>\n",
              "      <td>0.851362</td>\n",
              "      <td>0.650384</td>\n",
              "      <td>0.719520</td>\n",
              "      <td>5</td>\n",
              "    </tr>\n",
              "  </tbody>\n",
              "</table>\n",
              "</div>\n",
              "      <button class=\"colab-df-convert\" onclick=\"convertToInteractive('df-b63d5ece-8289-454a-bff1-6595a1da47b3')\"\n",
              "              title=\"Convert this dataframe to an interactive table.\"\n",
              "              style=\"display:none;\">\n",
              "        \n",
              "  <svg xmlns=\"http://www.w3.org/2000/svg\" height=\"24px\"viewBox=\"0 0 24 24\"\n",
              "       width=\"24px\">\n",
              "    <path d=\"M0 0h24v24H0V0z\" fill=\"none\"/>\n",
              "    <path d=\"M18.56 5.44l.94 2.06.94-2.06 2.06-.94-2.06-.94-.94-2.06-.94 2.06-2.06.94zm-11 1L8.5 8.5l.94-2.06 2.06-.94-2.06-.94L8.5 2.5l-.94 2.06-2.06.94zm10 10l.94 2.06.94-2.06 2.06-.94-2.06-.94-.94-2.06-.94 2.06-2.06.94z\"/><path d=\"M17.41 7.96l-1.37-1.37c-.4-.4-.92-.59-1.43-.59-.52 0-1.04.2-1.43.59L10.3 9.45l-7.72 7.72c-.78.78-.78 2.05 0 2.83L4 21.41c.39.39.9.59 1.41.59.51 0 1.02-.2 1.41-.59l7.78-7.78 2.81-2.81c.8-.78.8-2.07 0-2.86zM5.41 20L4 18.59l7.72-7.72 1.47 1.35L5.41 20z\"/>\n",
              "  </svg>\n",
              "      </button>\n",
              "      \n",
              "  <style>\n",
              "    .colab-df-container {\n",
              "      display:flex;\n",
              "      flex-wrap:wrap;\n",
              "      gap: 12px;\n",
              "    }\n",
              "\n",
              "    .colab-df-convert {\n",
              "      background-color: #E8F0FE;\n",
              "      border: none;\n",
              "      border-radius: 50%;\n",
              "      cursor: pointer;\n",
              "      display: none;\n",
              "      fill: #1967D2;\n",
              "      height: 32px;\n",
              "      padding: 0 0 0 0;\n",
              "      width: 32px;\n",
              "    }\n",
              "\n",
              "    .colab-df-convert:hover {\n",
              "      background-color: #E2EBFA;\n",
              "      box-shadow: 0px 1px 2px rgba(60, 64, 67, 0.3), 0px 1px 3px 1px rgba(60, 64, 67, 0.15);\n",
              "      fill: #174EA6;\n",
              "    }\n",
              "\n",
              "    [theme=dark] .colab-df-convert {\n",
              "      background-color: #3B4455;\n",
              "      fill: #D2E3FC;\n",
              "    }\n",
              "\n",
              "    [theme=dark] .colab-df-convert:hover {\n",
              "      background-color: #434B5C;\n",
              "      box-shadow: 0px 1px 3px 1px rgba(0, 0, 0, 0.15);\n",
              "      filter: drop-shadow(0px 1px 2px rgba(0, 0, 0, 0.3));\n",
              "      fill: #FFFFFF;\n",
              "    }\n",
              "  </style>\n",
              "\n",
              "      <script>\n",
              "        const buttonEl =\n",
              "          document.querySelector('#df-b63d5ece-8289-454a-bff1-6595a1da47b3 button.colab-df-convert');\n",
              "        buttonEl.style.display =\n",
              "          google.colab.kernel.accessAllowed ? 'block' : 'none';\n",
              "\n",
              "        async function convertToInteractive(key) {\n",
              "          const element = document.querySelector('#df-b63d5ece-8289-454a-bff1-6595a1da47b3');\n",
              "          const dataTable =\n",
              "            await google.colab.kernel.invokeFunction('convertToInteractive',\n",
              "                                                     [key], {});\n",
              "          if (!dataTable) return;\n",
              "\n",
              "          const docLinkHtml = 'Like what you see? Visit the ' +\n",
              "            '<a target=\"_blank\" href=https://colab.research.google.com/notebooks/data_table.ipynb>data table notebook</a>'\n",
              "            + ' to learn more about interactive tables.';\n",
              "          element.innerHTML = '';\n",
              "          dataTable['output_type'] = 'display_data';\n",
              "          await google.colab.output.renderOutput(dataTable, element);\n",
              "          const docLink = document.createElement('div');\n",
              "          docLink.innerHTML = docLinkHtml;\n",
              "          element.appendChild(docLink);\n",
              "        }\n",
              "      </script>\n",
              "    </div>\n",
              "  </div>\n",
              "  "
            ]
          },
          "metadata": {},
          "execution_count": 19
        }
      ]
    },
    {
      "cell_type": "code",
      "source": [
        "plt.plot(\"epoch\", \"loss\", data = df_history_crop_34)\n",
        "plt.plot(\"epoch\", \"val_loss\", data = df_history_crop_34)\n",
        "plt.ylabel('loss')\n",
        "plt.xlabel('epoch')\n",
        "plt.legend(['train', 'val'], loc='upper left')\n",
        "plt.title(\"model: cropped 34x34\")\n",
        "plt.show()"
      ],
      "metadata": {
        "colab": {
          "base_uri": "https://localhost:8080/",
          "height": 295
        },
        "id": "s28Do3vcqca6",
        "outputId": "98f4b0cf-747b-4872-f777-9f6c8586f6b0"
      },
      "execution_count": null,
      "outputs": [
        {
          "output_type": "display_data",
          "data": {
            "text/plain": [
              "<Figure size 432x288 with 1 Axes>"
            ],
            "image/png": "[encoded data removed]"
          },
          "metadata": {
            "needs_background": "light"
          }
        }
      ]
    },
    {
      "cell_type": "code",
      "source": [
        "plt.plot(\"epoch\", \"accuracy\", data = df_history_crop_34)\n",
        "plt.plot(\"epoch\", \"val_accuracy\", data = df_history_crop_34)\n",
        "plt.ylabel('accuracy')\n",
        "plt.xlabel('epoch')\n",
        "plt.legend(['train', 'val'], loc='upper left')\n",
        "plt.title(\"model: cropped 34x34\")\n",
        "plt.show()"
      ],
      "metadata": {
        "colab": {
          "base_uri": "https://localhost:8080/",
          "height": 295
        },
        "id": "VsFVjFbNqcdY",
        "outputId": "6bdcaf4b-37ef-4b96-8166-353812ad0567"
      },
      "execution_count": null,
      "outputs": [
        {
          "output_type": "display_data",
          "data": {
            "text/plain": [
              "<Figure size 432x288 with 1 Axes>"
            ],
            "image/png": "[encoded data removed]"
          },
          "metadata": {
            "needs_background": "light"
          }
        }
      ]
    },
    {
      "cell_type": "markdown",
      "source": [
        "## model_crop_64\n",
        "5.4M trainable parameters"
      ],
      "metadata": {
        "id": "tG1h51ZZqcfl"
      }
    },
    {
      "cell_type": "code",
      "source": [
        "# moderate crop model (64x64)\n",
        "model_crop_64 = Sequential([\n",
        "    InputLayer(input_shape=(96,96,3)),\n",
        "    CenterCrop(64,64),     \n",
        "    Conv2D(32,(3,3), padding=\"same\"),\n",
        "    BatchNormalization(),\n",
        "    Activation(\"relu\"),\n",
        "\n",
        "    Conv2D(64,(3,3), padding=\"same\"),\n",
        "    BatchNormalization(),\n",
        "    Activation(\"relu\"),\n",
        "    Conv2D(64,(3,3), padding=\"same\"),\n",
        "    BatchNormalization(),\n",
        "    Activation(\"relu\"),\n",
        "    MaxPooling2D(pool_size=(2, 2)),\n",
        "\n",
        "    Conv2D(128,(3,3), padding=\"same\"),\n",
        "    BatchNormalization(),\n",
        "    Activation(\"relu\"),\n",
        "    Conv2D(128,(3,3), padding=\"same\"),\n",
        "    BatchNormalization(),\n",
        "    Activation(\"relu\"),\n",
        "    MaxPooling2D(pool_size=(2, 2)),\n",
        "    \n",
        "\n",
        "    Conv2D(256,(3,3), padding=\"same\"),\n",
        "    BatchNormalization(),\n",
        "    Activation(\"relu\"),\n",
        "    Conv2D(256,(3,3), padding=\"same\"),\n",
        "    BatchNormalization(),\n",
        "    Activation(\"relu\"),\n",
        "    MaxPooling2D(pool_size=(2, 2)),\n",
        "    \n",
        "    Flatten(),\n",
        "    Dense(256),\n",
        "    BatchNormalization(),\n",
        "    Activation(\"relu\"),\n",
        "    \n",
        "    Dense(1),\n",
        "    Activation(\"sigmoid\")\n",
        "])\n",
        "\n",
        "model_crop_64.compile(\n",
        "    loss='binary_crossentropy',\n",
        "    optimizer=tf.keras.optimizers.Adam(.001), \n",
        "    metrics=['accuracy'])\n"
      ],
      "metadata": {
        "id": "wPpngSbnPlwG"
      },
      "execution_count": null,
      "outputs": []
    },
    {
      "cell_type": "code",
      "source": [
        "model_crop_64.summary()"
      ],
      "metadata": {
        "colab": {
          "base_uri": "https://localhost:8080/"
        },
        "id": "Y9qe6T8S3TZm",
        "outputId": "420d0ce9-8c63-4942-bc72-d8e5768dfc99"
      },
      "execution_count": null,
      "outputs": [
        {
          "output_type": "stream",
          "name": "stdout",
          "text": [
            "Model: \"sequential_1\"\n",
            "_________________________________________________________________\n",
            " Layer (type)                Output Shape              Param #   \n",
            "=================================================================\n",
            " center_crop_1 (CenterCrop)  (None, 64, 64, 3)         0         \n",
            "                                                                 \n",
            " conv2d_6 (Conv2D)           (None, 64, 64, 32)        896       \n",
            "                                                                 \n",
            " batch_normalization_7 (Batc  (None, 64, 64, 32)       128       \n",
            " hNormalization)                                                 \n",
            "                                                                 \n",
            " activation_8 (Activation)   (None, 64, 64, 32)        0         \n",
            "                                                                 \n",
            " conv2d_7 (Conv2D)           (None, 64, 64, 64)        18496     \n",
            "                                                                 \n",
            " batch_normalization_8 (Batc  (None, 64, 64, 64)       256       \n",
            " hNormalization)                                                 \n",
            "                                                                 \n",
            " activation_9 (Activation)   (None, 64, 64, 64)        0         \n",
            "                                                                 \n",
            " conv2d_8 (Conv2D)           (None, 64, 64, 64)        36928     \n",
            "                                                                 \n",
            " batch_normalization_9 (Batc  (None, 64, 64, 64)       256       \n",
            " hNormalization)                                                 \n",
            "                                                                 \n",
            " activation_10 (Activation)  (None, 64, 64, 64)        0         \n",
            "                                                                 \n",
            " max_pooling2d_2 (MaxPooling  (None, 32, 32, 64)       0         \n",
            " 2D)                                                             \n",
            "                                                                 \n",
            " conv2d_9 (Conv2D)           (None, 32, 32, 128)       73856     \n",
            "                                                                 \n",
            " batch_normalization_10 (Bat  (None, 32, 32, 128)      512       \n",
            " chNormalization)                                                \n",
            "                                                                 \n",
            " activation_11 (Activation)  (None, 32, 32, 128)       0         \n",
            "                                                                 \n",
            " conv2d_10 (Conv2D)          (None, 32, 32, 128)       147584    \n",
            "                                                                 \n",
            " batch_normalization_11 (Bat  (None, 32, 32, 128)      512       \n",
            " chNormalization)                                                \n",
            "                                                                 \n",
            " activation_12 (Activation)  (None, 32, 32, 128)       0         \n",
            "                                                                 \n",
            " max_pooling2d_3 (MaxPooling  (None, 16, 16, 128)      0         \n",
            " 2D)                                                             \n",
            "                                                                 \n",
            " conv2d_11 (Conv2D)          (None, 16, 16, 256)       295168    \n",
            "                                                                 \n",
            " batch_normalization_12 (Bat  (None, 16, 16, 256)      1024      \n",
            " chNormalization)                                                \n",
            "                                                                 \n",
            " activation_13 (Activation)  (None, 16, 16, 256)       0         \n",
            "                                                                 \n",
            " conv2d_12 (Conv2D)          (None, 16, 16, 256)       590080    \n",
            "                                                                 \n",
            " batch_normalization_13 (Bat  (None, 16, 16, 256)      1024      \n",
            " chNormalization)                                                \n",
            "                                                                 \n",
            " activation_14 (Activation)  (None, 16, 16, 256)       0         \n",
            "                                                                 \n",
            " max_pooling2d_4 (MaxPooling  (None, 8, 8, 256)        0         \n",
            " 2D)                                                             \n",
            "                                                                 \n",
            " flatten_1 (Flatten)         (None, 16384)             0         \n",
            "                                                                 \n",
            " dense_2 (Dense)             (None, 256)               4194560   \n",
            "                                                                 \n",
            " batch_normalization_14 (Bat  (None, 256)              1024      \n",
            " chNormalization)                                                \n",
            "                                                                 \n",
            " activation_15 (Activation)  (None, 256)               0         \n",
            "                                                                 \n",
            " dense_3 (Dense)             (None, 1)                 257       \n",
            "                                                                 \n",
            " activation_16 (Activation)  (None, 1)                 0         \n",
            "                                                                 \n",
            "=================================================================\n",
            "Total params: 5,362,561\n",
            "Trainable params: 5,360,193\n",
            "Non-trainable params: 2,368\n",
            "_________________________________________________________________\n"
          ]
        }
      ]
    },
    {
      "cell_type": "code",
      "source": [
        "history_crop_64 = model_crop_64.fit(\n",
        "    x=train_data,\n",
        "    epochs=5,\n",
        "    verbose=\"auto\",\n",
        "    validation_data=val_data,\n",
        "    validation_steps=None,\n",
        "    validation_freq=1,\n",
        "    max_queue_size=10,\n",
        "    workers=8\n",
        ")\n",
        "\n",
        "model_crop_64.save(model_path+\"model_crop_64\")"
      ],
      "metadata": {
        "colab": {
          "base_uri": "https://localhost:8080/"
        },
        "id": "2f3Y9mON3X1P",
        "outputId": "28ce1afc-175d-4ccf-c245-acdd8a748514"
      },
      "execution_count": null,
      "outputs": [
        {
          "output_type": "stream",
          "name": "stdout",
          "text": [
            "Epoch 1/5\n",
            "2228/2228 [==============================] - 182s 81ms/step - loss: 0.3795 - accuracy: 0.8343 - val_loss: 0.4259 - val_accuracy: 0.8167\n",
            "Epoch 2/5\n",
            "2228/2228 [==============================] - 169s 76ms/step - loss: 0.2899 - accuracy: 0.8803 - val_loss: 0.3913 - val_accuracy: 0.8309\n",
            "Epoch 3/5\n",
            "2228/2228 [==============================] - 167s 75ms/step - loss: 0.2527 - accuracy: 0.8975 - val_loss: 0.3220 - val_accuracy: 0.8712\n",
            "Epoch 4/5\n",
            "2228/2228 [==============================] - 166s 74ms/step - loss: 0.2317 - accuracy: 0.9089 - val_loss: 1.4129 - val_accuracy: 0.6579\n",
            "Epoch 5/5\n",
            "2228/2228 [==============================] - 166s 74ms/step - loss: 0.2174 - accuracy: 0.9137 - val_loss: 0.3051 - val_accuracy: 0.8823\n"
          ]
        }
      ]
    },
    {
      "cell_type": "code",
      "source": [
        "# save model history\n",
        "# convert history to DataFrame:     \n",
        "df_history_crop_64 = pd.DataFrame(history_crop_64.history) \n",
        "df_history_crop_64[\"epoch\"] = range(1,df_history_crop_64.shape[0]+1)\n",
        "\n",
        "# save to csv: \n",
        "hist_csv_file = model_path+'history_crop_64.csv'\n",
        "with open(hist_csv_file, mode='w') as f:\n",
        "    df_history_crop_64.to_csv(f)"
      ],
      "metadata": {
        "id": "OTPondQ23X3S"
      },
      "execution_count": null,
      "outputs": []
    },
    {
      "cell_type": "code",
      "source": [
        "plt.plot(\"epoch\", \"loss\", data = df_history_crop_64)\n",
        "plt.plot(\"epoch\", \"val_loss\", data = df_history_crop_64)\n",
        "plt.ylabel('loss')\n",
        "plt.xlabel('epoch')\n",
        "plt.legend(['train', 'val'], loc='upper left')\n",
        "plt.title(\"model: cropped 64x64\")\n",
        "plt.show()"
      ],
      "metadata": {
        "colab": {
          "base_uri": "https://localhost:8080/",
          "height": 295
        },
        "id": "4a04aj0536Um",
        "outputId": "a9c75538-ab1b-4023-d52d-3efb25c0e0c1"
      },
      "execution_count": null,
      "outputs": [
        {
          "output_type": "display_data",
          "data": {
            "text/plain": [
              "<Figure size 432x288 with 1 Axes>"
            ],
            "image/png": "[encoded data removed]"
          },
          "metadata": {
            "needs_background": "light"
          }
        }
      ]
    },
    {
      "cell_type": "code",
      "source": [
        "plt.plot(\"epoch\", \"accuracy\", data = df_history_crop_64)\n",
        "plt.plot(\"epoch\", \"val_accuracy\", data = df_history_crop_64)\n",
        "plt.ylabel('accuracy')\n",
        "plt.xlabel('epoch')\n",
        "plt.legend(['train', 'val'], loc='upper left')\n",
        "plt.title(\"model: cropped 64x64\")\n",
        "plt.show()"
      ],
      "metadata": {
        "colab": {
          "base_uri": "https://localhost:8080/",
          "height": 295
        },
        "id": "d8J9kTpY36Wk",
        "outputId": "f4bd8652-f8b8-445b-8d2a-a32f1d637c01"
      },
      "execution_count": null,
      "outputs": [
        {
          "output_type": "display_data",
          "data": {
            "text/plain": [
              "<Figure size 432x288 with 1 Axes>"
            ],
            "image/png": "[encoded data removed]"
          },
          "metadata": {
            "needs_background": "light"
          }
        }
      ]
    },
    {
      "cell_type": "markdown",
      "source": [
        "## model_raw\n",
        "10.6M trainable parameters"
      ],
      "metadata": {
        "id": "PA47nxc-36aE"
      }
    },
    {
      "cell_type": "code",
      "source": [
        "# uncropped image\n",
        "model_raw = Sequential([\n",
        "    Conv2D(32,(3,3), padding=\"same\", input_shape=(96,96,3)),\n",
        "    BatchNormalization(),\n",
        "    Activation(\"relu\"),\n",
        "    \n",
        "    Conv2D(64,(3,3), padding=\"same\"),\n",
        "    BatchNormalization(),\n",
        "    Activation(\"relu\"),\n",
        "    Conv2D(64,(3,3), padding=\"same\"),\n",
        "    BatchNormalization(),\n",
        "    Activation(\"relu\"),\n",
        "    MaxPooling2D(pool_size=(2, 2)),\n",
        "    \n",
        "    Conv2D(128,(3,3), padding=\"same\"),\n",
        "    BatchNormalization(),\n",
        "    Activation(\"relu\"),\n",
        "    Conv2D(128,(3,3), padding=\"same\"),\n",
        "    BatchNormalization(),\n",
        "    Activation(\"relu\"),\n",
        "    MaxPooling2D(pool_size=(2, 2)),\n",
        "    \n",
        "    Conv2D(256, (3,3), padding=\"same\"),\n",
        "    BatchNormalization(),\n",
        "    Activation(\"relu\"),\n",
        "    Conv2D(256, (3,3), padding=\"same\"),\n",
        "    BatchNormalization(),\n",
        "    Activation(\"relu\"),\n",
        "    MaxPooling2D(pool_size=(2, 2)),\n",
        "    \n",
        "    Flatten(),\n",
        "    Dense(256),\n",
        "    BatchNormalization(),\n",
        "    Activation(\"relu\"),\n",
        "\n",
        "    Dense(1),\n",
        "    Activation(\"sigmoid\")\n",
        "])\n",
        "\n",
        "model_raw.compile(\n",
        "    loss='binary_crossentropy',\n",
        "    optimizer=tf.keras.optimizers.Adam(.001), \n",
        "    metrics=['accuracy'])"
      ],
      "metadata": {
        "id": "7ajQwQCSwlNa"
      },
      "execution_count": null,
      "outputs": []
    },
    {
      "cell_type": "code",
      "source": [
        "model_raw.summary()"
      ],
      "metadata": {
        "colab": {
          "base_uri": "https://localhost:8080/"
        },
        "id": "pFfhsJNI60Ha",
        "outputId": "b0df6fc4-2aa2-45d9-d04a-da17cfe73fc3"
      },
      "execution_count": null,
      "outputs": [
        {
          "output_type": "stream",
          "name": "stdout",
          "text": [
            "Model: \"sequential_2\"\n",
            "_________________________________________________________________\n",
            " Layer (type)                Output Shape              Param #   \n",
            "=================================================================\n",
            " conv2d_13 (Conv2D)          (None, 96, 96, 32)        896       \n",
            "                                                                 \n",
            " batch_normalization_15 (Bat  (None, 96, 96, 32)       128       \n",
            " chNormalization)                                                \n",
            "                                                                 \n",
            " activation_17 (Activation)  (None, 96, 96, 32)        0         \n",
            "                                                                 \n",
            " conv2d_14 (Conv2D)          (None, 96, 96, 64)        18496     \n",
            "                                                                 \n",
            " batch_normalization_16 (Bat  (None, 96, 96, 64)       256       \n",
            " chNormalization)                                                \n",
            "                                                                 \n",
            " activation_18 (Activation)  (None, 96, 96, 64)        0         \n",
            "                                                                 \n",
            " conv2d_15 (Conv2D)          (None, 96, 96, 64)        36928     \n",
            "                                                                 \n",
            " batch_normalization_17 (Bat  (None, 96, 96, 64)       256       \n",
            " chNormalization)                                                \n",
            "                                                                 \n",
            " activation_19 (Activation)  (None, 96, 96, 64)        0         \n",
            "                                                                 \n",
            " max_pooling2d_5 (MaxPooling  (None, 48, 48, 64)       0         \n",
            " 2D)                                                             \n",
            "                                                                 \n",
            " conv2d_16 (Conv2D)          (None, 48, 48, 128)       73856     \n",
            "                                                                 \n",
            " batch_normalization_18 (Bat  (None, 48, 48, 128)      512       \n",
            " chNormalization)                                                \n",
            "                                                                 \n",
            " activation_20 (Activation)  (None, 48, 48, 128)       0         \n",
            "                                                                 \n",
            " conv2d_17 (Conv2D)          (None, 48, 48, 128)       147584    \n",
            "                                                                 \n",
            " batch_normalization_19 (Bat  (None, 48, 48, 128)      512       \n",
            " chNormalization)                                                \n",
            "                                                                 \n",
            " activation_21 (Activation)  (None, 48, 48, 128)       0         \n",
            "                                                                 \n",
            " max_pooling2d_6 (MaxPooling  (None, 24, 24, 128)      0         \n",
            " 2D)                                                             \n",
            "                                                                 \n",
            " conv2d_18 (Conv2D)          (None, 24, 24, 256)       295168    \n",
            "                                                                 \n",
            " batch_normalization_20 (Bat  (None, 24, 24, 256)      1024      \n",
            " chNormalization)                                                \n",
            "                                                                 \n",
            " activation_22 (Activation)  (None, 24, 24, 256)       0         \n",
            "                                                                 \n",
            " conv2d_19 (Conv2D)          (None, 24, 24, 256)       590080    \n",
            "                                                                 \n",
            " batch_normalization_21 (Bat  (None, 24, 24, 256)      1024      \n",
            " chNormalization)                                                \n",
            "                                                                 \n",
            " activation_23 (Activation)  (None, 24, 24, 256)       0         \n",
            "                                                                 \n",
            " max_pooling2d_7 (MaxPooling  (None, 12, 12, 256)      0         \n",
            " 2D)                                                             \n",
            "                                                                 \n",
            " flatten_2 (Flatten)         (None, 36864)             0         \n",
            "                                                                 \n",
            " dense_4 (Dense)             (None, 256)               9437440   \n",
            "                                                                 \n",
            " batch_normalization_22 (Bat  (None, 256)              1024      \n",
            " chNormalization)                                                \n",
            "                                                                 \n",
            " activation_24 (Activation)  (None, 256)               0         \n",
            "                                                                 \n",
            " dense_5 (Dense)             (None, 1)                 257       \n",
            "                                                                 \n",
            " activation_25 (Activation)  (None, 1)                 0         \n",
            "                                                                 \n",
            "=================================================================\n",
            "Total params: 10,605,441\n",
            "Trainable params: 10,603,073\n",
            "Non-trainable params: 2,368\n",
            "_________________________________________________________________\n"
          ]
        }
      ]
    },
    {
      "cell_type": "code",
      "source": [
        "history_raw = model_raw.fit(\n",
        "    x=train_data,\n",
        "    epochs=5,\n",
        "    verbose=\"auto\",\n",
        "    validation_data=val_data,\n",
        "    validation_steps=None,\n",
        "    validation_freq=1,\n",
        "    max_queue_size=10,\n",
        "    workers=8\n",
        ")\n",
        "\n",
        "model_raw.save(model_path+\"model_raw\")"
      ],
      "metadata": {
        "colab": {
          "base_uri": "https://localhost:8080/"
        },
        "id": "lvA7CwpE60Jk",
        "outputId": "03fd761c-98f4-4606-b41b-7db0254dc1be"
      },
      "execution_count": null,
      "outputs": [
        {
          "output_type": "stream",
          "name": "stdout",
          "text": [
            "Epoch 1/5\n",
            "2228/2228 [==============================] - 220s 97ms/step - loss: 0.3343 - accuracy: 0.8578 - val_loss: 0.8712 - val_accuracy: 0.7246\n",
            "Epoch 2/5\n",
            "2228/2228 [==============================] - 218s 98ms/step - loss: 0.2302 - accuracy: 0.9099 - val_loss: 0.8792 - val_accuracy: 0.7529\n",
            "Epoch 3/5\n",
            "2228/2228 [==============================] - 216s 97ms/step - loss: 0.1949 - accuracy: 0.9255 - val_loss: 0.8099 - val_accuracy: 0.7806\n",
            "Epoch 4/5\n",
            "2228/2228 [==============================] - 215s 96ms/step - loss: 0.1744 - accuracy: 0.9339 - val_loss: 0.5693 - val_accuracy: 0.7721\n",
            "Epoch 5/5\n",
            "2228/2228 [==============================] - 215s 96ms/step - loss: 0.1611 - accuracy: 0.9401 - val_loss: 0.1884 - val_accuracy: 0.9287\n"
          ]
        }
      ]
    },
    {
      "cell_type": "code",
      "source": [
        "# save model history\n",
        "# convert history to DataFrame:     \n",
        "df_history_raw = pd.DataFrame(history_raw.history) \n",
        "df_history_raw[\"epoch\"] = range(1,df_history_raw.shape[0]+1)\n",
        "\n",
        "# save to csv: \n",
        "hist_csv_file = model_path+'history_raw.csv'\n",
        "with open(hist_csv_file, mode='w') as f:\n",
        "    df_history_raw.to_csv(f)"
      ],
      "metadata": {
        "id": "GxiWuaRO62qc"
      },
      "execution_count": null,
      "outputs": []
    },
    {
      "cell_type": "code",
      "source": [
        "plt.plot(\"epoch\", \"loss\", data = df_history_raw)\n",
        "plt.plot(\"epoch\", \"val_loss\", data = df_history_raw)\n",
        "plt.ylabel('loss')\n",
        "plt.xlabel('epoch')\n",
        "plt.legend(['train', 'val'], loc='upper left')\n",
        "plt.title(\"model: raw image\")\n",
        "plt.show()"
      ],
      "metadata": {
        "colab": {
          "base_uri": "https://localhost:8080/",
          "height": 295
        },
        "id": "Xxk_SfJc62uB",
        "outputId": "41c662c8-fa38-435c-f955-5d391fded885"
      },
      "execution_count": null,
      "outputs": [
        {
          "output_type": "display_data",
          "data": {
            "text/plain": [
              "<Figure size 432x288 with 1 Axes>"
            ],
            "image/png": "[encoded data removed]"
          },
          "metadata": {
            "needs_background": "light"
          }
        }
      ]
    },
    {
      "cell_type": "code",
      "source": [
        "plt.plot(\"epoch\", \"accuracy\", data = df_history_raw)\n",
        "plt.plot(\"epoch\", \"val_accuracy\", data = df_history_raw)\n",
        "plt.ylabel('accuracy')\n",
        "plt.xlabel('epoch')\n",
        "plt.legend(['train', 'val'], loc='upper left')\n",
        "plt.title(\"model: raw image\")\n",
        "plt.show()"
      ],
      "metadata": {
        "colab": {
          "base_uri": "https://localhost:8080/",
          "height": 295
        },
        "id": "N9vB5zss62vm",
        "outputId": "82f8aaa5-5ac3-4b20-9933-dd4f7adfdaaa"
      },
      "execution_count": null,
      "outputs": [
        {
          "output_type": "display_data",
          "data": {
            "text/plain": [
              "<Figure size 432x288 with 1 Axes>"
            ],
            "image/png": "[encoded data removed]"
          },
          "metadata": {
            "needs_background": "light"
          }
        }
      ]
    },
    {
      "cell_type": "markdown",
      "source": [
        "## model_raw_2\n",
        "5.9M trainable parameters"
      ],
      "metadata": {
        "id": "v_CK0tbp62w3"
      }
    },
    {
      "cell_type": "code",
      "source": [
        "# FC layers: 128 -> 64\n",
        "model_raw_2 = Sequential([\n",
        "    Conv2D(32,(3,3), padding=\"same\", input_shape=(96,96,3)),\n",
        "    BatchNormalization(),\n",
        "    Activation(\"relu\"),\n",
        "    \n",
        "    Conv2D(64,(3,3), padding=\"same\"),\n",
        "    BatchNormalization(),\n",
        "    Activation(\"relu\"),\n",
        "    Conv2D(64,(3,3), padding=\"same\"),\n",
        "    BatchNormalization(),\n",
        "    Activation(\"relu\"),\n",
        "    MaxPooling2D(pool_size=(2, 2)),\n",
        "    \n",
        "    Conv2D(128,(3,3), padding=\"same\"),\n",
        "    BatchNormalization(),\n",
        "    Activation(\"relu\"),\n",
        "    Conv2D(128,(3,3), padding=\"same\"),\n",
        "    BatchNormalization(),\n",
        "    Activation(\"relu\"),\n",
        "    MaxPooling2D(pool_size=(2, 2)),\n",
        "    \n",
        "    Conv2D(256, (3,3), padding=\"same\"),\n",
        "    BatchNormalization(),\n",
        "    Activation(\"relu\"),\n",
        "    Conv2D(256, (3,3), padding=\"same\"),\n",
        "    BatchNormalization(),\n",
        "    Activation(\"relu\"),\n",
        "    MaxPooling2D(pool_size=(2, 2)),\n",
        "    \n",
        "    Flatten(),\n",
        "    Dense(128),\n",
        "    BatchNormalization(),\n",
        "    Activation(\"relu\"),\n",
        "    \n",
        "    Dense(64),\n",
        "    BatchNormalization(),\n",
        "    Activation(\"relu\"),\n",
        "\n",
        "    Dense(1),\n",
        "    Activation(\"sigmoid\")\n",
        "])\n",
        "\n",
        "model_raw_2.compile(\n",
        "    loss='binary_crossentropy',\n",
        "    optimizer=tf.keras.optimizers.Adam(.001), \n",
        "    metrics=['accuracy']\n",
        ")"
      ],
      "metadata": {
        "id": "O5WlYfl8620z"
      },
      "execution_count": null,
      "outputs": []
    },
    {
      "cell_type": "code",
      "source": [
        "model_raw_2.summary()"
      ],
      "metadata": {
        "colab": {
          "base_uri": "https://localhost:8080/"
        },
        "id": "q7hTh25o622W",
        "outputId": "b24c10a5-3b25-4b71-f39f-a46fcc891a65"
      },
      "execution_count": null,
      "outputs": [
        {
          "output_type": "stream",
          "name": "stdout",
          "text": [
            "Model: \"sequential_3\"\n",
            "_________________________________________________________________\n",
            " Layer (type)                Output Shape              Param #   \n",
            "=================================================================\n",
            " conv2d_20 (Conv2D)          (None, 96, 96, 32)        896       \n",
            "                                                                 \n",
            " batch_normalization_23 (Bat  (None, 96, 96, 32)       128       \n",
            " chNormalization)                                                \n",
            "                                                                 \n",
            " activation_26 (Activation)  (None, 96, 96, 32)        0         \n",
            "                                                                 \n",
            " conv2d_21 (Conv2D)          (None, 96, 96, 64)        18496     \n",
            "                                                                 \n",
            " batch_normalization_24 (Bat  (None, 96, 96, 64)       256       \n",
            " chNormalization)                                                \n",
            "                                                                 \n",
            " activation_27 (Activation)  (None, 96, 96, 64)        0         \n",
            "                                                                 \n",
            " conv2d_22 (Conv2D)          (None, 96, 96, 64)        36928     \n",
            "                                                                 \n",
            " batch_normalization_25 (Bat  (None, 96, 96, 64)       256       \n",
            " chNormalization)                                                \n",
            "                                                                 \n",
            " activation_28 (Activation)  (None, 96, 96, 64)        0         \n",
            "                                                                 \n",
            " max_pooling2d_8 (MaxPooling  (None, 48, 48, 64)       0         \n",
            " 2D)                                                             \n",
            "                                                                 \n",
            " conv2d_23 (Conv2D)          (None, 48, 48, 128)       73856     \n",
            "                                                                 \n",
            " batch_normalization_26 (Bat  (None, 48, 48, 128)      512       \n",
            " chNormalization)                                                \n",
            "                                                                 \n",
            " activation_29 (Activation)  (None, 48, 48, 128)       0         \n",
            "                                                                 \n",
            " conv2d_24 (Conv2D)          (None, 48, 48, 128)       147584    \n",
            "                                                                 \n",
            " batch_normalization_27 (Bat  (None, 48, 48, 128)      512       \n",
            " chNormalization)                                                \n",
            "                                                                 \n",
            " activation_30 (Activation)  (None, 48, 48, 128)       0         \n",
            "                                                                 \n",
            " max_pooling2d_9 (MaxPooling  (None, 24, 24, 128)      0         \n",
            " 2D)                                                             \n",
            "                                                                 \n",
            " conv2d_25 (Conv2D)          (None, 24, 24, 256)       295168    \n",
            "                                                                 \n",
            " batch_normalization_28 (Bat  (None, 24, 24, 256)      1024      \n",
            " chNormalization)                                                \n",
            "                                                                 \n",
            " activation_31 (Activation)  (None, 24, 24, 256)       0         \n",
            "                                                                 \n",
            " conv2d_26 (Conv2D)          (None, 24, 24, 256)       590080    \n",
            "                                                                 \n",
            " batch_normalization_29 (Bat  (None, 24, 24, 256)      1024      \n",
            " chNormalization)                                                \n",
            "                                                                 \n",
            " activation_32 (Activation)  (None, 24, 24, 256)       0         \n",
            "                                                                 \n",
            " max_pooling2d_10 (MaxPoolin  (None, 12, 12, 256)      0         \n",
            " g2D)                                                            \n",
            "                                                                 \n",
            " flatten_3 (Flatten)         (None, 36864)             0         \n",
            "                                                                 \n",
            " dense_6 (Dense)             (None, 128)               4718720   \n",
            "                                                                 \n",
            " batch_normalization_30 (Bat  (None, 128)              512       \n",
            " chNormalization)                                                \n",
            "                                                                 \n",
            " activation_33 (Activation)  (None, 128)               0         \n",
            "                                                                 \n",
            " dense_7 (Dense)             (None, 64)                8256      \n",
            "                                                                 \n",
            " batch_normalization_31 (Bat  (None, 64)               256       \n",
            " chNormalization)                                                \n",
            "                                                                 \n",
            " activation_34 (Activation)  (None, 64)                0         \n",
            "                                                                 \n",
            " dense_8 (Dense)             (None, 1)                 65        \n",
            "                                                                 \n",
            " activation_35 (Activation)  (None, 1)                 0         \n",
            "                                                                 \n",
            "=================================================================\n",
            "Total params: 5,894,529\n",
            "Trainable params: 5,892,289\n",
            "Non-trainable params: 2,240\n",
            "_________________________________________________________________\n"
          ]
        }
      ]
    },
    {
      "cell_type": "code",
      "source": [
        "history_raw_2 = model_raw_2.fit(\n",
        "    x=train_data,\n",
        "    epochs=5,\n",
        "    verbose=\"auto\",\n",
        "    validation_data=val_data,\n",
        "    validation_steps=None,\n",
        "    validation_freq=1,\n",
        "    max_queue_size=10,\n",
        "    workers=8\n",
        ")\n",
        "\n",
        "model_raw_2.save(model_path+\"model_raw_2\")"
      ],
      "metadata": {
        "colab": {
          "base_uri": "https://localhost:8080/"
        },
        "id": "aEQDznKa8n_y",
        "outputId": "f841cd60-ebef-47aa-8779-c904a6f59ef2"
      },
      "execution_count": null,
      "outputs": [
        {
          "output_type": "stream",
          "name": "stdout",
          "text": [
            "Epoch 1/5\n",
            "2228/2228 [==============================] - 239s 106ms/step - loss: 0.3174 - accuracy: 0.8673 - val_loss: 0.4934 - val_accuracy: 0.8353\n",
            "Epoch 2/5\n",
            "2228/2228 [==============================] - 220s 99ms/step - loss: 0.2215 - accuracy: 0.9128 - val_loss: 0.2774 - val_accuracy: 0.8898\n",
            "Epoch 3/5\n",
            "2228/2228 [==============================] - 219s 98ms/step - loss: 0.1906 - accuracy: 0.9279 - val_loss: 0.3690 - val_accuracy: 0.8521\n",
            "Epoch 4/5\n",
            "2228/2228 [==============================] - 217s 97ms/step - loss: 0.1707 - accuracy: 0.9352 - val_loss: 0.4407 - val_accuracy: 0.8143\n",
            "Epoch 5/5\n",
            "2228/2228 [==============================] - 235s 105ms/step - loss: 0.1554 - accuracy: 0.9421 - val_loss: 0.2591 - val_accuracy: 0.8984\n"
          ]
        }
      ]
    },
    {
      "cell_type": "code",
      "source": [
        "# save model history\n",
        "# convert history to DataFrame:     \n",
        "df_history_raw_2 = pd.DataFrame(history_raw_2.history) \n",
        "df_history_raw_2[\"epoch\"] = range(1,df_history_raw_2.shape[0]+1)\n",
        "\n",
        "# save to csv: \n",
        "hist_csv_file = model_path+'history_raw_2.csv'\n",
        "with open(hist_csv_file, mode='w') as f:\n",
        "    df_history_raw_2.to_csv(f)"
      ],
      "metadata": {
        "id": "oT8YD1aK8oBw"
      },
      "execution_count": null,
      "outputs": []
    },
    {
      "cell_type": "code",
      "source": [
        "plt.plot(\"epoch\", \"loss\", data = df_history_raw_2)\n",
        "plt.plot(\"epoch\", \"val_loss\", data = df_history_raw_2)\n",
        "plt.ylabel('loss')\n",
        "plt.xlabel('epoch')\n",
        "plt.legend(['train', 'val'], loc='upper left')\n",
        "plt.title(\"model: raw image \\n FC layers: 128 --> 64 \")\n",
        "plt.show()"
      ],
      "metadata": {
        "colab": {
          "base_uri": "https://localhost:8080/",
          "height": 310
        },
        "id": "JzG4P1k8BZw8",
        "outputId": "1d154dcb-48ce-4267-f768-1ea65c08fed6"
      },
      "execution_count": null,
      "outputs": [
        {
          "output_type": "display_data",
          "data": {
            "text/plain": [
              "<Figure size 432x288 with 1 Axes>"
            ],
            "image/png": "[encoded data removed]"
          },
          "metadata": {
            "needs_background": "light"
          }
        }
      ]
    },
    {
      "cell_type": "code",
      "source": [
        "plt.plot(\"epoch\", \"accuracy\", data = df_history_raw_2)\n",
        "plt.plot(\"epoch\", \"val_accuracy\", data = df_history_raw_2)\n",
        "plt.ylabel('accuracy')\n",
        "plt.xlabel('epoch')\n",
        "plt.legend(['train', 'val'], loc='upper left')\n",
        "plt.title(\"model: raw image \\n FC layers: 128 --> 64 \")\n",
        "plt.show()"
      ],
      "metadata": {
        "colab": {
          "base_uri": "https://localhost:8080/",
          "height": 310
        },
        "id": "sWbz6_BBBZzr",
        "outputId": "43b08ec6-1a1f-4d5f-f8c3-d85904a657fc"
      },
      "execution_count": null,
      "outputs": [
        {
          "output_type": "display_data",
          "data": {
            "text/plain": [
              "<Figure size 432x288 with 1 Axes>"
            ],
            "image/png": "[encoded data removed]"
          },
          "metadata": {
            "needs_background": "light"
          }
        }
      ]
    },
    {
      "cell_type": "markdown",
      "source": [
        "## model_raw_2_do\n",
        "5.9M trainable parameters"
      ],
      "metadata": {
        "id": "_mPHvHJhOwyG"
      }
    },
    {
      "cell_type": "code",
      "source": [
        "# FC layers: 128 -> 64; dropout between FC layers\n",
        "model_raw_2_do = Sequential([\n",
        "    Conv2D(32,(3,3), padding=\"same\", input_shape=(96,96,3)),\n",
        "    BatchNormalization(),\n",
        "    Activation(\"relu\"),\n",
        "    \n",
        "    Conv2D(64,(3,3), padding=\"same\"),\n",
        "    BatchNormalization(),\n",
        "    Activation(\"relu\"),\n",
        "    Conv2D(64,(3,3), padding=\"same\"),\n",
        "    BatchNormalization(),\n",
        "    Activation(\"relu\"),\n",
        "    MaxPooling2D(pool_size=(2, 2)),\n",
        "    \n",
        "    Conv2D(128,(3,3), padding=\"same\"),\n",
        "    BatchNormalization(),\n",
        "    Activation(\"relu\"),\n",
        "    Conv2D(128,(3,3), padding=\"same\"),\n",
        "    BatchNormalization(),\n",
        "    Activation(\"relu\"),\n",
        "    MaxPooling2D(pool_size=(2, 2)),\n",
        "    \n",
        "    Conv2D(256, (3,3), padding=\"same\"),\n",
        "    BatchNormalization(),\n",
        "    Activation(\"relu\"),\n",
        "    Conv2D(256, (3,3), padding=\"same\"),\n",
        "    BatchNormalization(),\n",
        "    Activation(\"relu\"),\n",
        "    MaxPooling2D(pool_size=(2, 2)),\n",
        "    \n",
        "    Flatten(),\n",
        "    Dense(128),\n",
        "    BatchNormalization(),\n",
        "    Activation(\"relu\"),\n",
        "    Dropout(0.5),\n",
        "    \n",
        "    Dense(64),\n",
        "    BatchNormalization(),\n",
        "    Activation(\"relu\"),\n",
        "    Dropout(0.5),\n",
        "\n",
        "    Dense(1),\n",
        "    Activation(\"sigmoid\")\n",
        "])\n",
        "\n",
        "model_raw_2_do.compile(\n",
        "    loss='binary_crossentropy',\n",
        "    optimizer=tf.keras.optimizers.Adam(.001), \n",
        "    metrics=['accuracy']\n",
        ")"
      ],
      "metadata": {
        "id": "iOpAYDb1O6ap"
      },
      "execution_count": null,
      "outputs": []
    },
    {
      "cell_type": "code",
      "source": [
        "model_raw_2_do.summary()"
      ],
      "metadata": {
        "colab": {
          "base_uri": "https://localhost:8080/"
        },
        "outputId": "50f642c5-4a1c-4736-8794-457bbcb288de",
        "id": "B29GxuZkO6ap"
      },
      "execution_count": null,
      "outputs": [
        {
          "output_type": "stream",
          "name": "stdout",
          "text": [
            "Model: \"sequential_5\"\n",
            "_________________________________________________________________\n",
            " Layer (type)                Output Shape              Param #   \n",
            "=================================================================\n",
            " conv2d_34 (Conv2D)          (None, 96, 96, 32)        896       \n",
            "                                                                 \n",
            " batch_normalization_41 (Bat  (None, 96, 96, 32)       128       \n",
            " chNormalization)                                                \n",
            "                                                                 \n",
            " activation_46 (Activation)  (None, 96, 96, 32)        0         \n",
            "                                                                 \n",
            " conv2d_35 (Conv2D)          (None, 96, 96, 64)        18496     \n",
            "                                                                 \n",
            " batch_normalization_42 (Bat  (None, 96, 96, 64)       256       \n",
            " chNormalization)                                                \n",
            "                                                                 \n",
            " activation_47 (Activation)  (None, 96, 96, 64)        0         \n",
            "                                                                 \n",
            " conv2d_36 (Conv2D)          (None, 96, 96, 64)        36928     \n",
            "                                                                 \n",
            " batch_normalization_43 (Bat  (None, 96, 96, 64)       256       \n",
            " chNormalization)                                                \n",
            "                                                                 \n",
            " activation_48 (Activation)  (None, 96, 96, 64)        0         \n",
            "                                                                 \n",
            " max_pooling2d_14 (MaxPoolin  (None, 48, 48, 64)       0         \n",
            " g2D)                                                            \n",
            "                                                                 \n",
            " conv2d_37 (Conv2D)          (None, 48, 48, 128)       73856     \n",
            "                                                                 \n",
            " batch_normalization_44 (Bat  (None, 48, 48, 128)      512       \n",
            " chNormalization)                                                \n",
            "                                                                 \n",
            " activation_49 (Activation)  (None, 48, 48, 128)       0         \n",
            "                                                                 \n",
            " conv2d_38 (Conv2D)          (None, 48, 48, 128)       147584    \n",
            "                                                                 \n",
            " batch_normalization_45 (Bat  (None, 48, 48, 128)      512       \n",
            " chNormalization)                                                \n",
            "                                                                 \n",
            " activation_50 (Activation)  (None, 48, 48, 128)       0         \n",
            "                                                                 \n",
            " max_pooling2d_15 (MaxPoolin  (None, 24, 24, 128)      0         \n",
            " g2D)                                                            \n",
            "                                                                 \n",
            " conv2d_39 (Conv2D)          (None, 24, 24, 256)       295168    \n",
            "                                                                 \n",
            " batch_normalization_46 (Bat  (None, 24, 24, 256)      1024      \n",
            " chNormalization)                                                \n",
            "                                                                 \n",
            " activation_51 (Activation)  (None, 24, 24, 256)       0         \n",
            "                                                                 \n",
            " conv2d_40 (Conv2D)          (None, 24, 24, 256)       590080    \n",
            "                                                                 \n",
            " batch_normalization_47 (Bat  (None, 24, 24, 256)      1024      \n",
            " chNormalization)                                                \n",
            "                                                                 \n",
            " activation_52 (Activation)  (None, 24, 24, 256)       0         \n",
            "                                                                 \n",
            " max_pooling2d_16 (MaxPoolin  (None, 12, 12, 256)      0         \n",
            " g2D)                                                            \n",
            "                                                                 \n",
            " flatten_5 (Flatten)         (None, 36864)             0         \n",
            "                                                                 \n",
            " dense_12 (Dense)            (None, 128)               4718720   \n",
            "                                                                 \n",
            " batch_normalization_48 (Bat  (None, 128)              512       \n",
            " chNormalization)                                                \n",
            "                                                                 \n",
            " activation_53 (Activation)  (None, 128)               0         \n",
            "                                                                 \n",
            " dropout (Dropout)           (None, 128)               0         \n",
            "                                                                 \n",
            " dense_13 (Dense)            (None, 64)                8256      \n",
            "                                                                 \n",
            " batch_normalization_49 (Bat  (None, 64)               256       \n",
            " chNormalization)                                                \n",
            "                                                                 \n",
            " activation_54 (Activation)  (None, 64)                0         \n",
            "                                                                 \n",
            " dropout_1 (Dropout)         (None, 64)                0         \n",
            "                                                                 \n",
            " dense_14 (Dense)            (None, 1)                 65        \n",
            "                                                                 \n",
            " activation_55 (Activation)  (None, 1)                 0         \n",
            "                                                                 \n",
            "=================================================================\n",
            "Total params: 5,894,529\n",
            "Trainable params: 5,892,289\n",
            "Non-trainable params: 2,240\n",
            "_________________________________________________________________\n"
          ]
        }
      ]
    },
    {
      "cell_type": "code",
      "source": [
        "history_raw_2_do = model_raw_2_do.fit(\n",
        "    x=train_data,\n",
        "    epochs=5,\n",
        "    verbose=\"auto\",\n",
        "    validation_data=val_data,\n",
        "    validation_steps=None,\n",
        "    validation_freq=1,\n",
        "    max_queue_size=10,\n",
        "    workers=8\n",
        ")\n",
        "\n",
        "model_raw_2_do.save(model_path+\"model_raw_2_do\")"
      ],
      "metadata": {
        "colab": {
          "base_uri": "https://localhost:8080/"
        },
        "outputId": "db5b36f5-b0ff-4c94-c93d-885a1ed1321f",
        "id": "zOvJ5KYMO6aq"
      },
      "execution_count": null,
      "outputs": [
        {
          "output_type": "stream",
          "name": "stdout",
          "text": [
            "Epoch 1/5\n",
            "2228/2228 [==============================] - 222s 99ms/step - loss: 0.3433 - accuracy: 0.8576 - val_loss: 0.3630 - val_accuracy: 0.8476\n",
            "Epoch 2/5\n",
            "2228/2228 [==============================] - 236s 106ms/step - loss: 0.2398 - accuracy: 0.9073 - val_loss: 0.3713 - val_accuracy: 0.8596\n",
            "Epoch 3/5\n",
            "2228/2228 [==============================] - 220s 99ms/step - loss: 0.2066 - accuracy: 0.9219 - val_loss: 1.6414 - val_accuracy: 0.6340\n",
            "Epoch 4/5\n",
            "2228/2228 [==============================] - 219s 98ms/step - loss: 0.1860 - accuracy: 0.9310 - val_loss: 0.2305 - val_accuracy: 0.9080\n",
            "Epoch 5/5\n",
            "2228/2228 [==============================] - 218s 98ms/step - loss: 0.1747 - accuracy: 0.9357 - val_loss: 0.2305 - val_accuracy: 0.9150\n"
          ]
        }
      ]
    },
    {
      "cell_type": "code",
      "source": [
        "# save model history\n",
        "# convert history to DataFrame:     \n",
        "df_history_raw_2_do = pd.DataFrame(history_raw_2_do.history) \n",
        "df_history_raw_2_do[\"epoch\"] = range(1,df_history_raw_2_do.shape[0]+1)\n",
        "\n",
        "# save to csv: \n",
        "hist_csv_file = model_path+'history_raw_2_do.csv'\n",
        "with open(hist_csv_file, mode='w') as f:\n",
        "    df_history_raw_2_do.to_csv(f)"
      ],
      "metadata": {
        "id": "6iyq-TqYO6aq"
      },
      "execution_count": null,
      "outputs": []
    },
    {
      "cell_type": "code",
      "source": [
        "plt.plot(\"epoch\", \"loss\", data = df_history_raw_2_do)\n",
        "plt.plot(\"epoch\", \"val_loss\", data = df_history_raw_2_do)\n",
        "plt.ylabel('loss')\n",
        "plt.xlabel('epoch')\n",
        "plt.legend(['train', 'val'], loc='upper left')\n",
        "plt.title(\"model: raw image \\n FC layers: 128 --> 64 \\n dropout \")\n",
        "plt.show()"
      ],
      "metadata": {
        "colab": {
          "base_uri": "https://localhost:8080/",
          "height": 325
        },
        "id": "k3RSVvBEO6aq",
        "outputId": "06089fff-d616-4124-adfb-2a34c4844b33"
      },
      "execution_count": null,
      "outputs": [
        {
          "output_type": "display_data",
          "data": {
            "text/plain": [
              "<Figure size 432x288 with 1 Axes>"
            ],
            "image/png": "[encoded data removed]"
          },
          "metadata": {
            "needs_background": "light"
          }
        }
      ]
    },
    {
      "cell_type": "code",
      "source": [
        "plt.plot(\"epoch\", \"accuracy\", data = df_history_raw_2_do)\n",
        "plt.plot(\"epoch\", \"val_accuracy\", data = df_history_raw_2_do)\n",
        "plt.ylabel('accuracy')\n",
        "plt.xlabel('epoch')\n",
        "plt.legend(['train', 'val'], loc='upper left')\n",
        "plt.title(\"model: raw image \\n FC layers: 128 --> 64 \\n dropout \")\n",
        "plt.show()"
      ],
      "metadata": {
        "colab": {
          "base_uri": "https://localhost:8080/",
          "height": 325
        },
        "id": "qzwXJATOO6aq",
        "outputId": "99fa9a00-bef6-48b5-8b27-5fb6b7def66b"
      },
      "execution_count": null,
      "outputs": [
        {
          "output_type": "display_data",
          "data": {
            "text/plain": [
              "<Figure size 432x288 with 1 Axes>"
            ],
            "image/png": "[encoded data removed]"
          },
          "metadata": {
            "needs_background": "light"
          }
        }
      ]
    },
    {
      "cell_type": "code",
      "source": [
        "keras.backend.clear_session()"
      ],
      "metadata": {
        "id": "CQvBloc0Ow4z"
      },
      "execution_count": null,
      "outputs": []
    },
    {
      "cell_type": "markdown",
      "source": [
        "## model_2_crop_64_do\n",
        "3.3M trainable parameters"
      ],
      "metadata": {
        "id": "yktXbCkAOw7O"
      }
    },
    {
      "cell_type": "code",
      "source": [
        "# moderate crop model (64x64) with dropout between FC layers\n",
        "model_2_crop_64_do = Sequential([\n",
        "    InputLayer(input_shape=(96,96,3)),\n",
        "    CenterCrop(64,64),     \n",
        "    Conv2D(32,(3,3), padding=\"same\"),\n",
        "    BatchNormalization(),\n",
        "    Activation(\"relu\"),\n",
        "\n",
        "    Conv2D(64,(3,3), padding=\"same\"),\n",
        "    BatchNormalization(),\n",
        "    Activation(\"relu\"),\n",
        "    Conv2D(64,(3,3), padding=\"same\"),\n",
        "    BatchNormalization(),\n",
        "    Activation(\"relu\"),\n",
        "    MaxPooling2D(pool_size=(2, 2)),\n",
        "\n",
        "    Conv2D(128,(3,3), padding=\"same\"),\n",
        "    BatchNormalization(),\n",
        "    Activation(\"relu\"),\n",
        "    Conv2D(128,(3,3), padding=\"same\"),\n",
        "    BatchNormalization(),\n",
        "    Activation(\"relu\"),\n",
        "    MaxPooling2D(pool_size=(2, 2)),\n",
        "    \n",
        "\n",
        "    Conv2D(256,(3,3), padding=\"same\"),\n",
        "    BatchNormalization(),\n",
        "    Activation(\"relu\"),\n",
        "    Conv2D(256,(3,3), padding=\"same\"),\n",
        "    BatchNormalization(),\n",
        "    Activation(\"relu\"),\n",
        "    MaxPooling2D(pool_size=(2, 2)),\n",
        "    \n",
        "    Flatten(),\n",
        "    Dense(128),\n",
        "    BatchNormalization(),\n",
        "    Activation(\"relu\"),\n",
        "    Dropout(0.5),\n",
        "\n",
        "    Dense(64),\n",
        "    BatchNormalization(),\n",
        "    Activation(\"relu\"),\n",
        "    Dropout(0.5),\n",
        "\n",
        "    Dense(1),\n",
        "    Activation(\"sigmoid\")\n",
        "])\n",
        "\n",
        "model_2_crop_64_do.compile(\n",
        "    loss='binary_crossentropy',\n",
        "    optimizer=tf.keras.optimizers.Adam(.001), \n",
        "    metrics=['accuracy'])\n"
      ],
      "metadata": {
        "id": "ZlYnnETMLT2s"
      },
      "execution_count": null,
      "outputs": []
    },
    {
      "cell_type": "code",
      "source": [
        "model_2_crop_64_do.summary()"
      ],
      "metadata": {
        "colab": {
          "base_uri": "https://localhost:8080/"
        },
        "outputId": "fcb51bc2-caf8-4cd0-8b39-8078c2ea64c5",
        "id": "kS6dXDRZLT2s"
      },
      "execution_count": null,
      "outputs": [
        {
          "output_type": "stream",
          "name": "stdout",
          "text": [
            "Model: \"sequential_6\"\n",
            "_________________________________________________________________\n",
            " Layer (type)                Output Shape              Param #   \n",
            "=================================================================\n",
            " center_crop_3 (CenterCrop)  (None, 64, 64, 3)         0         \n",
            "                                                                 \n",
            " conv2d_41 (Conv2D)          (None, 64, 64, 32)        896       \n",
            "                                                                 \n",
            " batch_normalization_50 (Bat  (None, 64, 64, 32)       128       \n",
            " chNormalization)                                                \n",
            "                                                                 \n",
            " activation_56 (Activation)  (None, 64, 64, 32)        0         \n",
            "                                                                 \n",
            " conv2d_42 (Conv2D)          (None, 64, 64, 64)        18496     \n",
            "                                                                 \n",
            " batch_normalization_51 (Bat  (None, 64, 64, 64)       256       \n",
            " chNormalization)                                                \n",
            "                                                                 \n",
            " activation_57 (Activation)  (None, 64, 64, 64)        0         \n",
            "                                                                 \n",
            " conv2d_43 (Conv2D)          (None, 64, 64, 64)        36928     \n",
            "                                                                 \n",
            " batch_normalization_52 (Bat  (None, 64, 64, 64)       256       \n",
            " chNormalization)                                                \n",
            "                                                                 \n",
            " activation_58 (Activation)  (None, 64, 64, 64)        0         \n",
            "                                                                 \n",
            " max_pooling2d_17 (MaxPoolin  (None, 32, 32, 64)       0         \n",
            " g2D)                                                            \n",
            "                                                                 \n",
            " conv2d_44 (Conv2D)          (None, 32, 32, 128)       73856     \n",
            "                                                                 \n",
            " batch_normalization_53 (Bat  (None, 32, 32, 128)      512       \n",
            " chNormalization)                                                \n",
            "                                                                 \n",
            " activation_59 (Activation)  (None, 32, 32, 128)       0         \n",
            "                                                                 \n",
            " conv2d_45 (Conv2D)          (None, 32, 32, 128)       147584    \n",
            "                                                                 \n",
            " batch_normalization_54 (Bat  (None, 32, 32, 128)      512       \n",
            " chNormalization)                                                \n",
            "                                                                 \n",
            " activation_60 (Activation)  (None, 32, 32, 128)       0         \n",
            "                                                                 \n",
            " max_pooling2d_18 (MaxPoolin  (None, 16, 16, 128)      0         \n",
            " g2D)                                                            \n",
            "                                                                 \n",
            " conv2d_46 (Conv2D)          (None, 16, 16, 256)       295168    \n",
            "                                                                 \n",
            " batch_normalization_55 (Bat  (None, 16, 16, 256)      1024      \n",
            " chNormalization)                                                \n",
            "                                                                 \n",
            " activation_61 (Activation)  (None, 16, 16, 256)       0         \n",
            "                                                                 \n",
            " conv2d_47 (Conv2D)          (None, 16, 16, 256)       590080    \n",
            "                                                                 \n",
            " batch_normalization_56 (Bat  (None, 16, 16, 256)      1024      \n",
            " chNormalization)                                                \n",
            "                                                                 \n",
            " activation_62 (Activation)  (None, 16, 16, 256)       0         \n",
            "                                                                 \n",
            " max_pooling2d_19 (MaxPoolin  (None, 8, 8, 256)        0         \n",
            " g2D)                                                            \n",
            "                                                                 \n",
            " flatten_6 (Flatten)         (None, 16384)             0         \n",
            "                                                                 \n",
            " dense_15 (Dense)            (None, 128)               2097280   \n",
            "                                                                 \n",
            " batch_normalization_57 (Bat  (None, 128)              512       \n",
            " chNormalization)                                                \n",
            "                                                                 \n",
            " activation_63 (Activation)  (None, 128)               0         \n",
            "                                                                 \n",
            " dropout_2 (Dropout)         (None, 128)               0         \n",
            "                                                                 \n",
            " dense_16 (Dense)            (None, 64)                8256      \n",
            "                                                                 \n",
            " batch_normalization_58 (Bat  (None, 64)               256       \n",
            " chNormalization)                                                \n",
            "                                                                 \n",
            " activation_64 (Activation)  (None, 64)                0         \n",
            "                                                                 \n",
            " dropout_3 (Dropout)         (None, 64)                0         \n",
            "                                                                 \n",
            " dense_17 (Dense)            (None, 1)                 65        \n",
            "                                                                 \n",
            " activation_65 (Activation)  (None, 1)                 0         \n",
            "                                                                 \n",
            "=================================================================\n",
            "Total params: 3,273,089\n",
            "Trainable params: 3,270,849\n",
            "Non-trainable params: 2,240\n",
            "_________________________________________________________________\n"
          ]
        }
      ]
    },
    {
      "cell_type": "code",
      "source": [
        "history_2_crop_64_do = model_2_crop_64_do.fit(\n",
        "    x=train_data,\n",
        "    epochs=5,\n",
        "    verbose=\"auto\",\n",
        "    validation_data=val_data,\n",
        "    validation_steps=None,\n",
        "    validation_freq=1,\n",
        "    max_queue_size=10,\n",
        "    workers=8\n",
        ")\n",
        "\n",
        "model_2_crop_64_do.save(model_path+\"model_2_crop_64_do\")"
      ],
      "metadata": {
        "colab": {
          "base_uri": "https://localhost:8080/"
        },
        "outputId": "5ab3da57-f88d-40bc-ffca-c01506bde128",
        "id": "jsvJojA6LT2s"
      },
      "execution_count": null,
      "outputs": [
        {
          "output_type": "stream",
          "name": "stdout",
          "text": [
            "Epoch 1/5\n",
            "2228/2228 [==============================] - 177s 78ms/step - loss: 0.3945 - accuracy: 0.8312 - val_loss: 0.4265 - val_accuracy: 0.8015\n",
            "Epoch 2/5\n",
            "2228/2228 [==============================] - 179s 80ms/step - loss: 0.3039 - accuracy: 0.8766 - val_loss: 0.5191 - val_accuracy: 0.8015\n",
            "Epoch 3/5\n",
            "2228/2228 [==============================] - 176s 79ms/step - loss: 0.2693 - accuracy: 0.8930 - val_loss: 0.3994 - val_accuracy: 0.8185\n",
            "Epoch 4/5\n",
            "2228/2228 [==============================] - 175s 79ms/step - loss: 0.2506 - accuracy: 0.9010 - val_loss: 0.9614 - val_accuracy: 0.7553\n",
            "Epoch 5/5\n",
            "2228/2228 [==============================] - 175s 79ms/step - loss: 0.2342 - accuracy: 0.9089 - val_loss: 0.3514 - val_accuracy: 0.8649\n"
          ]
        }
      ]
    },
    {
      "cell_type": "code",
      "source": [
        "# save model history\n",
        "# convert history to DataFrame:     \n",
        "df_history_2_crop_64_do = pd.DataFrame(history_2_crop_64_do.history) \n",
        "df_history_2_crop_64_do[\"epoch\"] = range(1,df_history_2_crop_64_do.shape[0]+1)\n",
        "\n",
        "# save to csv: \n",
        "hist_csv_file = model_path+'history_2_crop_64_do.csv'\n",
        "with open(hist_csv_file, mode='w') as f:\n",
        "    df_history_2_crop_64_do.to_csv(f)"
      ],
      "metadata": {
        "id": "WFOC0a9PLT2s"
      },
      "execution_count": null,
      "outputs": []
    },
    {
      "cell_type": "code",
      "source": [
        "plt.plot(\"epoch\", \"loss\", data = df_history_2_crop_64_do)\n",
        "plt.plot(\"epoch\", \"val_loss\", data = df_history_2_crop_64_do)\n",
        "plt.ylabel('loss')\n",
        "plt.xlabel('epoch')\n",
        "plt.legend(['train', 'val'], loc='upper left')\n",
        "plt.title(\"model: cropped 64x64 \\n FC layers: 128 --> 64 \\n dropout between FC layers\")\n",
        "plt.show()"
      ],
      "metadata": {
        "colab": {
          "base_uri": "https://localhost:8080/",
          "height": 325
        },
        "outputId": "5dded01a-77c6-4afc-9e33-e8a4cf364453",
        "id": "EluJBE_dLT2s"
      },
      "execution_count": null,
      "outputs": [
        {
          "output_type": "display_data",
          "data": {
            "text/plain": [
              "<Figure size 432x288 with 1 Axes>"
            ],
            "image/png": "[encoded data removed]"
          },
          "metadata": {
            "needs_background": "light"
          }
        }
      ]
    },
    {
      "cell_type": "code",
      "source": [
        "plt.plot(\"epoch\", \"accuracy\", data = df_history_2_crop_64_do)\n",
        "plt.plot(\"epoch\", \"val_accuracy\", data = df_history_2_crop_64_do)\n",
        "plt.ylabel('accuracy')\n",
        "plt.xlabel('epoch')\n",
        "plt.legend(['train', 'val'], loc='upper left')\n",
        "plt.title(\"model: cropped 64x64 \\n FC layers: 128 --> 64 \\n dropout between FC layers\")\n",
        "plt.show()"
      ],
      "metadata": {
        "colab": {
          "base_uri": "https://localhost:8080/",
          "height": 325
        },
        "outputId": "9f0dadd1-245a-4c1b-b0a7-cf91bf1f4b52",
        "id": "jpqbs5mhLT2s"
      },
      "execution_count": null,
      "outputs": [
        {
          "output_type": "display_data",
          "data": {
            "text/plain": [
              "<Figure size 432x288 with 1 Axes>"
            ],
            "image/png": "[encoded data removed]"
          },
          "metadata": {
            "needs_background": "light"
          }
        }
      ]
    },
    {
      "cell_type": "markdown",
      "source": [
        "## model_2_crop_64\n",
        "3.3M trainable parameters"
      ],
      "metadata": {
        "id": "moY2h1MNLTJo"
      }
    },
    {
      "cell_type": "code",
      "source": [
        "# moderate crop model (64x64)\n",
        "model_2_crop_64 = Sequential([\n",
        "    InputLayer(input_shape=(96,96,3)),\n",
        "    CenterCrop(64,64),     \n",
        "    Conv2D(32,(3,3), padding=\"same\"),\n",
        "    BatchNormalization(),\n",
        "    Activation(\"relu\"),\n",
        "\n",
        "    Conv2D(64,(3,3), padding=\"same\"),\n",
        "    BatchNormalization(),\n",
        "    Activation(\"relu\"),\n",
        "    Conv2D(64,(3,3), padding=\"same\"),\n",
        "    BatchNormalization(),\n",
        "    Activation(\"relu\"),\n",
        "    MaxPooling2D(pool_size=(2, 2)),\n",
        "\n",
        "    Conv2D(128,(3,3), padding=\"same\"),\n",
        "    BatchNormalization(),\n",
        "    Activation(\"relu\"),\n",
        "    Conv2D(128,(3,3), padding=\"same\"),\n",
        "    BatchNormalization(),\n",
        "    Activation(\"relu\"),\n",
        "    MaxPooling2D(pool_size=(2, 2)),\n",
        "    \n",
        "\n",
        "    Conv2D(256,(3,3), padding=\"same\"),\n",
        "    BatchNormalization(),\n",
        "    Activation(\"relu\"),\n",
        "    Conv2D(256,(3,3), padding=\"same\"),\n",
        "    BatchNormalization(),\n",
        "    Activation(\"relu\"),\n",
        "    MaxPooling2D(pool_size=(2, 2)),\n",
        "    \n",
        "    Flatten(),\n",
        "    Dense(128),\n",
        "    BatchNormalization(),\n",
        "    Activation(\"relu\"),\n",
        "    \n",
        "    Dense(64),\n",
        "    BatchNormalization(),\n",
        "    Activation(\"relu\"),\n",
        "\n",
        "    Dense(1),\n",
        "    Activation(\"sigmoid\")\n",
        "])\n",
        "\n",
        "model_2_crop_64.compile(\n",
        "    loss='binary_crossentropy',\n",
        "    optimizer=tf.keras.optimizers.Adam(.001), \n",
        "    metrics=['accuracy'])\n"
      ],
      "metadata": {
        "id": "RAA2x2qoUJ67"
      },
      "execution_count": null,
      "outputs": []
    },
    {
      "cell_type": "code",
      "source": [
        "model_2_crop_64.summary()"
      ],
      "metadata": {
        "colab": {
          "base_uri": "https://localhost:8080/"
        },
        "outputId": "a5833425-a364-4b8c-cc6b-f60cb3f92214",
        "id": "h32BMxkyUJ67"
      },
      "execution_count": null,
      "outputs": [
        {
          "output_type": "stream",
          "name": "stdout",
          "text": [
            "Model: \"sequential_4\"\n",
            "_________________________________________________________________\n",
            " Layer (type)                Output Shape              Param #   \n",
            "=================================================================\n",
            " center_crop_2 (CenterCrop)  (None, 64, 64, 3)         0         \n",
            "                                                                 \n",
            " conv2d_27 (Conv2D)          (None, 64, 64, 32)        896       \n",
            "                                                                 \n",
            " batch_normalization_32 (Bat  (None, 64, 64, 32)       128       \n",
            " chNormalization)                                                \n",
            "                                                                 \n",
            " activation_36 (Activation)  (None, 64, 64, 32)        0         \n",
            "                                                                 \n",
            " conv2d_28 (Conv2D)          (None, 64, 64, 64)        18496     \n",
            "                                                                 \n",
            " batch_normalization_33 (Bat  (None, 64, 64, 64)       256       \n",
            " chNormalization)                                                \n",
            "                                                                 \n",
            " activation_37 (Activation)  (None, 64, 64, 64)        0         \n",
            "                                                                 \n",
            " conv2d_29 (Conv2D)          (None, 64, 64, 64)        36928     \n",
            "                                                                 \n",
            " batch_normalization_34 (Bat  (None, 64, 64, 64)       256       \n",
            " chNormalization)                                                \n",
            "                                                                 \n",
            " activation_38 (Activation)  (None, 64, 64, 64)        0         \n",
            "                                                                 \n",
            " max_pooling2d_11 (MaxPoolin  (None, 32, 32, 64)       0         \n",
            " g2D)                                                            \n",
            "                                                                 \n",
            " conv2d_30 (Conv2D)          (None, 32, 32, 128)       73856     \n",
            "                                                                 \n",
            " batch_normalization_35 (Bat  (None, 32, 32, 128)      512       \n",
            " chNormalization)                                                \n",
            "                                                                 \n",
            " activation_39 (Activation)  (None, 32, 32, 128)       0         \n",
            "                                                                 \n",
            " conv2d_31 (Conv2D)          (None, 32, 32, 128)       147584    \n",
            "                                                                 \n",
            " batch_normalization_36 (Bat  (None, 32, 32, 128)      512       \n",
            " chNormalization)                                                \n",
            "                                                                 \n",
            " activation_40 (Activation)  (None, 32, 32, 128)       0         \n",
            "                                                                 \n",
            " max_pooling2d_12 (MaxPoolin  (None, 16, 16, 128)      0         \n",
            " g2D)                                                            \n",
            "                                                                 \n",
            " conv2d_32 (Conv2D)          (None, 16, 16, 256)       295168    \n",
            "                                                                 \n",
            " batch_normalization_37 (Bat  (None, 16, 16, 256)      1024      \n",
            " chNormalization)                                                \n",
            "                                                                 \n",
            " activation_41 (Activation)  (None, 16, 16, 256)       0         \n",
            "                                                                 \n",
            " conv2d_33 (Conv2D)          (None, 16, 16, 256)       590080    \n",
            "                                                                 \n",
            " batch_normalization_38 (Bat  (None, 16, 16, 256)      1024      \n",
            " chNormalization)                                                \n",
            "                                                                 \n",
            " activation_42 (Activation)  (None, 16, 16, 256)       0         \n",
            "                                                                 \n",
            " max_pooling2d_13 (MaxPoolin  (None, 8, 8, 256)        0         \n",
            " g2D)                                                            \n",
            "                                                                 \n",
            " flatten_4 (Flatten)         (None, 16384)             0         \n",
            "                                                                 \n",
            " dense_9 (Dense)             (None, 128)               2097280   \n",
            "                                                                 \n",
            " batch_normalization_39 (Bat  (None, 128)              512       \n",
            " chNormalization)                                                \n",
            "                                                                 \n",
            " activation_43 (Activation)  (None, 128)               0         \n",
            "                                                                 \n",
            " dense_10 (Dense)            (None, 64)                8256      \n",
            "                                                                 \n",
            " batch_normalization_40 (Bat  (None, 64)               256       \n",
            " chNormalization)                                                \n",
            "                                                                 \n",
            " activation_44 (Activation)  (None, 64)                0         \n",
            "                                                                 \n",
            " dense_11 (Dense)            (None, 1)                 65        \n",
            "                                                                 \n",
            " activation_45 (Activation)  (None, 1)                 0         \n",
            "                                                                 \n",
            "=================================================================\n",
            "Total params: 3,273,089\n",
            "Trainable params: 3,270,849\n",
            "Non-trainable params: 2,240\n",
            "_________________________________________________________________\n"
          ]
        }
      ]
    },
    {
      "cell_type": "code",
      "source": [
        "history_2_crop_64 = model_2_crop_64.fit(\n",
        "    x=train_data,\n",
        "    epochs=5,\n",
        "    verbose=\"auto\",\n",
        "    validation_data=val_data,\n",
        "    validation_steps=None,\n",
        "    validation_freq=1,\n",
        "    max_queue_size=10,\n",
        "    workers=8\n",
        ")\n",
        "\n",
        "model_2_crop_64.save(model_path+\"model_2_crop_64\")"
      ],
      "metadata": {
        "colab": {
          "base_uri": "https://localhost:8080/"
        },
        "outputId": "a8152180-1118-4d85-de88-8bc7eb2a3356",
        "id": "s9d9cG5OUJ67"
      },
      "execution_count": null,
      "outputs": [
        {
          "output_type": "stream",
          "name": "stdout",
          "text": [
            "Epoch 1/5\n",
            "2228/2228 [==============================] - 177s 79ms/step - loss: 0.3688 - accuracy: 0.8396 - val_loss: 1.7728 - val_accuracy: 0.6668\n",
            "Epoch 2/5\n",
            "2228/2228 [==============================] - 173s 78ms/step - loss: 0.2849 - accuracy: 0.8823 - val_loss: 0.6669 - val_accuracy: 0.7485\n",
            "Epoch 3/5\n",
            "2228/2228 [==============================] - 172s 77ms/step - loss: 0.2496 - accuracy: 0.8992 - val_loss: 0.2647 - val_accuracy: 0.8918\n",
            "Epoch 4/5\n",
            "2228/2228 [==============================] - 177s 79ms/step - loss: 0.2308 - accuracy: 0.9083 - val_loss: 0.4753 - val_accuracy: 0.8133\n",
            "Epoch 5/5\n",
            "2228/2228 [==============================] - 173s 78ms/step - loss: 0.2166 - accuracy: 0.9141 - val_loss: 0.3032 - val_accuracy: 0.8724\n"
          ]
        }
      ]
    },
    {
      "cell_type": "code",
      "source": [
        "# save model history\n",
        "# convert history to DataFrame:     \n",
        "df_history_2_crop_64 = pd.DataFrame(history_2_crop_64.history) \n",
        "df_history_2_crop_64[\"epoch\"] = range(1,df_history_2_crop_64.shape[0]+1)\n",
        "\n",
        "# save to csv: \n",
        "hist_csv_file = model_path+'history_2_crop_64.csv'\n",
        "with open(hist_csv_file, mode='w') as f:\n",
        "    df_history_2_crop_64.to_csv(f)"
      ],
      "metadata": {
        "id": "S38zoAmDUJ67"
      },
      "execution_count": null,
      "outputs": []
    },
    {
      "cell_type": "code",
      "source": [
        "plt.plot(\"epoch\", \"loss\", data = df_history_2_crop_64)\n",
        "plt.plot(\"epoch\", \"val_loss\", data = df_history_2_crop_64)\n",
        "plt.ylabel('loss')\n",
        "plt.xlabel('epoch')\n",
        "plt.legend(['train', 'val'], loc='upper left')\n",
        "plt.title(\"model: cropped 64x64 \\n FC layers: 128 --> 64 \")\n",
        "plt.show()"
      ],
      "metadata": {
        "colab": {
          "base_uri": "https://localhost:8080/",
          "height": 310
        },
        "outputId": "5d918cca-d6dc-44e9-83ae-eda8703df5e6",
        "id": "VPNylKbcUJ67"
      },
      "execution_count": null,
      "outputs": [
        {
          "output_type": "display_data",
          "data": {
            "text/plain": [
              "<Figure size 432x288 with 1 Axes>"
            ],
            "image/png": "[encoded data removed]"
          },
          "metadata": {
            "needs_background": "light"
          }
        }
      ]
    },
    {
      "cell_type": "code",
      "source": [
        "plt.plot(\"epoch\", \"accuracy\", data = df_history_2_crop_64)\n",
        "plt.plot(\"epoch\", \"val_accuracy\", data = df_history_2_crop_64)\n",
        "plt.ylabel('accuracy')\n",
        "plt.xlabel('epoch')\n",
        "plt.legend(['train', 'val'], loc='upper left')\n",
        "plt.title(\"model: cropped 64x64 \\n FC layers: 128 --> 64 \")\n",
        "plt.show()"
      ],
      "metadata": {
        "colab": {
          "base_uri": "https://localhost:8080/",
          "height": 310
        },
        "outputId": "2fc6cb67-ca98-4b61-8953-aa7f239a8023",
        "id": "u8M393vgUJ67"
      },
      "execution_count": null,
      "outputs": [
        {
          "output_type": "display_data",
          "data": {
            "text/plain": [
              "<Figure size 432x288 with 1 Axes>"
            ],
            "image/png": "[encoded data removed]"
          },
          "metadata": {
            "needs_background": "light"
          }
        }
      ]
    },
    {
      "cell_type": "code",
      "source": [],
      "metadata": {
        "id": "kuf5hKB8SKwh"
      },
      "execution_count": null,
      "outputs": []
    },
    {
      "cell_type": "markdown",
      "source": [
        "# Final model"
      ],
      "metadata": {
        "id": "D5J6_9tI967K"
      }
    },
    {
      "cell_type": "code",
      "source": [
        "# FC layers: 128 -> 64; dropout between FC layers\n",
        "final_model = Sequential([\n",
        "    Conv2D(32,(3,3), padding=\"same\", input_shape=(96,96,3)),\n",
        "    BatchNormalization(),\n",
        "    Activation(\"relu\"),\n",
        "    \n",
        "    Conv2D(64,(3,3), padding=\"same\"),\n",
        "    BatchNormalization(),\n",
        "    Activation(\"relu\"),\n",
        "    Conv2D(64,(3,3), padding=\"same\"),\n",
        "    BatchNormalization(),\n",
        "    Activation(\"relu\"),\n",
        "    MaxPooling2D(pool_size=(2, 2)),\n",
        "    \n",
        "    Conv2D(128,(3,3), padding=\"same\"),\n",
        "    BatchNormalization(),\n",
        "    Activation(\"relu\"),\n",
        "    Conv2D(128,(3,3), padding=\"same\"),\n",
        "    BatchNormalization(),\n",
        "    Activation(\"relu\"),\n",
        "    MaxPooling2D(pool_size=(2, 2)),\n",
        "    \n",
        "    Conv2D(256, (3,3), padding=\"same\"),\n",
        "    BatchNormalization(),\n",
        "    Activation(\"relu\"),\n",
        "    Conv2D(256, (3,3), padding=\"same\"),\n",
        "    BatchNormalization(),\n",
        "    Activation(\"relu\"),\n",
        "    MaxPooling2D(pool_size=(2, 2)),\n",
        "    \n",
        "    Flatten(),\n",
        "    Dense(128),\n",
        "    BatchNormalization(),\n",
        "    Activation(\"relu\"),\n",
        "    Dropout(0.5),\n",
        "    \n",
        "    Dense(64),\n",
        "    BatchNormalization(),\n",
        "    Activation(\"relu\"),\n",
        "    Dropout(0.5),\n",
        "\n",
        "    Dense(1),\n",
        "    Activation(\"sigmoid\")\n",
        "])\n",
        "\n",
        "final_model.compile(\n",
        "    loss='binary_crossentropy',\n",
        "    optimizer=tf.keras.optimizers.Adam(), \n",
        "    metrics=['accuracy']\n",
        ")\n",
        "\n",
        "final_model.summary()"
      ],
      "metadata": {
        "colab": {
          "base_uri": "https://localhost:8080/"
        },
        "id": "Gjwxoy9V6236",
        "outputId": "8ed37700-a883-45a3-fbc0-00c43f260a98"
      },
      "execution_count": null,
      "outputs": [
        {
          "output_type": "stream",
          "name": "stdout",
          "text": [
            "Model: \"sequential_7\"\n",
            "_________________________________________________________________\n",
            " Layer (type)                Output Shape              Param #   \n",
            "=================================================================\n",
            " conv2d_48 (Conv2D)          (None, 96, 96, 32)        896       \n",
            "                                                                 \n",
            " batch_normalization_59 (Bat  (None, 96, 96, 32)       128       \n",
            " chNormalization)                                                \n",
            "                                                                 \n",
            " activation_66 (Activation)  (None, 96, 96, 32)        0         \n",
            "                                                                 \n",
            " conv2d_49 (Conv2D)          (None, 96, 96, 64)        18496     \n",
            "                                                                 \n",
            " batch_normalization_60 (Bat  (None, 96, 96, 64)       256       \n",
            " chNormalization)                                                \n",
            "                                                                 \n",
            " activation_67 (Activation)  (None, 96, 96, 64)        0         \n",
            "                                                                 \n",
            " conv2d_50 (Conv2D)          (None, 96, 96, 64)        36928     \n",
            "                                                                 \n",
            " batch_normalization_61 (Bat  (None, 96, 96, 64)       256       \n",
            " chNormalization)                                                \n",
            "                                                                 \n",
            " activation_68 (Activation)  (None, 96, 96, 64)        0         \n",
            "                                                                 \n",
            " max_pooling2d_20 (MaxPoolin  (None, 48, 48, 64)       0         \n",
            " g2D)                                                            \n",
            "                                                                 \n",
            " conv2d_51 (Conv2D)          (None, 48, 48, 128)       73856     \n",
            "                                                                 \n",
            " batch_normalization_62 (Bat  (None, 48, 48, 128)      512       \n",
            " chNormalization)                                                \n",
            "                                                                 \n",
            " activation_69 (Activation)  (None, 48, 48, 128)       0         \n",
            "                                                                 \n",
            " conv2d_52 (Conv2D)          (None, 48, 48, 128)       147584    \n",
            "                                                                 \n",
            " batch_normalization_63 (Bat  (None, 48, 48, 128)      512       \n",
            " chNormalization)                                                \n",
            "                                                                 \n",
            " activation_70 (Activation)  (None, 48, 48, 128)       0         \n",
            "                                                                 \n",
            " max_pooling2d_21 (MaxPoolin  (None, 24, 24, 128)      0         \n",
            " g2D)                                                            \n",
            "                                                                 \n",
            " conv2d_53 (Conv2D)          (None, 24, 24, 256)       295168    \n",
            "                                                                 \n",
            " batch_normalization_64 (Bat  (None, 24, 24, 256)      1024      \n",
            " chNormalization)                                                \n",
            "                                                                 \n",
            " activation_71 (Activation)  (None, 24, 24, 256)       0         \n",
            "                                                                 \n",
            " conv2d_54 (Conv2D)          (None, 24, 24, 256)       590080    \n",
            "                                                                 \n",
            " batch_normalization_65 (Bat  (None, 24, 24, 256)      1024      \n",
            " chNormalization)                                                \n",
            "                                                                 \n",
            " activation_72 (Activation)  (None, 24, 24, 256)       0         \n",
            "                                                                 \n",
            " max_pooling2d_22 (MaxPoolin  (None, 12, 12, 256)      0         \n",
            " g2D)                                                            \n",
            "                                                                 \n",
            " flatten_7 (Flatten)         (None, 36864)             0         \n",
            "                                                                 \n",
            " dense_18 (Dense)            (None, 128)               4718720   \n",
            "                                                                 \n",
            " batch_normalization_66 (Bat  (None, 128)              512       \n",
            " chNormalization)                                                \n",
            "                                                                 \n",
            " activation_73 (Activation)  (None, 128)               0         \n",
            "                                                                 \n",
            " dropout_4 (Dropout)         (None, 128)               0         \n",
            "                                                                 \n",
            " dense_19 (Dense)            (None, 64)                8256      \n",
            "                                                                 \n",
            " batch_normalization_67 (Bat  (None, 64)               256       \n",
            " chNormalization)                                                \n",
            "                                                                 \n",
            " activation_74 (Activation)  (None, 64)                0         \n",
            "                                                                 \n",
            " dropout_5 (Dropout)         (None, 64)                0         \n",
            "                                                                 \n",
            " dense_20 (Dense)            (None, 1)                 65        \n",
            "                                                                 \n",
            " activation_75 (Activation)  (None, 1)                 0         \n",
            "                                                                 \n",
            "=================================================================\n",
            "Total params: 5,894,529\n",
            "Trainable params: 5,892,289\n",
            "Non-trainable params: 2,240\n",
            "_________________________________________________________________\n"
          ]
        }
      ]
    },
    {
      "cell_type": "code",
      "source": [
        "learner = ktrain.get_learner(\n",
        "    model=final_model,\n",
        "    train_data=train_data,\n",
        "    val_data=val_data,\n",
        "    workers=8,\n",
        "    batch_size=32\n",
        ")"
      ],
      "metadata": {
        "id": "wKypdYWzb3Ee"
      },
      "execution_count": null,
      "outputs": []
    },
    {
      "cell_type": "code",
      "source": [
        "learner.lr_find()"
      ],
      "metadata": {
        "colab": {
          "base_uri": "https://localhost:8080/"
        },
        "id": "FgIEgXEeb3HW",
        "outputId": "0d9674f8-55c5-4bd8-e454-5b36cd99fb30"
      },
      "execution_count": null,
      "outputs": [
        {
          "output_type": "stream",
          "name": "stdout",
          "text": [
            "simulating training for different learning rates... this may take a few moments...\n",
            "Epoch 1/1024\n",
            "4455/4455 [==============================] - 106s 23ms/step - loss: 0.9564 - accuracy: 0.6688\n",
            "\n",
            "\n",
            "done.\n",
            "Please invoke the Learner.lr_plot() method to visually inspect the loss plot to help identify the maximal learning rate associated with falling loss.\n"
          ]
        }
      ]
    },
    {
      "cell_type": "code",
      "source": [
        "learner.lr_plot()"
      ],
      "metadata": {
        "colab": {
          "base_uri": "https://localhost:8080/",
          "height": 283
        },
        "id": "LW7U0u0sb3J-",
        "outputId": "a3722b7c-f801-4597-defd-98a9b07ce268"
      },
      "execution_count": null,
      "outputs": [
        {
          "output_type": "display_data",
          "data": {
            "text/plain": [
              "<Figure size 432x288 with 1 Axes>"
            ],
            "image/png": "[encoded data removed]"
          },
          "metadata": {
            "needs_background": "light"
          }
        }
      ]
    },
    {
      "cell_type": "code",
      "source": [
        "final_history = learner.autofit(\n",
        "    lr=1e-1,\n",
        "    epochs = 40,\n",
        "    early_stopping=5,\n",
        "    reduce_on_plateau=3\n",
        ")"
      ],
      "metadata": {
        "colab": {
          "base_uri": "https://localhost:8080/"
        },
        "id": "M2i7TtmEb3MT",
        "outputId": "50567683-f3aa-4d3d-bd73-882cab76513e"
      },
      "execution_count": null,
      "outputs": [
        {
          "output_type": "stream",
          "name": "stdout",
          "text": [
            "\n",
            "\n",
            "begin training using triangular learning rate policy with max lr of 0.1...\n",
            "Epoch 1/40\n",
            "4456/4456 [==============================] - 260s 58ms/step - loss: 0.4260 - accuracy: 0.8177 - val_loss: 0.2977 - val_accuracy: 0.8715\n",
            "Epoch 2/40\n",
            "4456/4456 [==============================] - 248s 56ms/step - loss: 0.3593 - accuracy: 0.8537 - val_loss: 0.2330 - val_accuracy: 0.9062\n",
            "Epoch 3/40\n",
            "4456/4456 [==============================] - 247s 55ms/step - loss: 0.3280 - accuracy: 0.8681 - val_loss: 0.2115 - val_accuracy: 0.9164\n",
            "Epoch 4/40\n",
            "4456/4456 [==============================] - 245s 55ms/step - loss: 0.3085 - accuracy: 0.8738 - val_loss: 0.1989 - val_accuracy: 0.9252\n",
            "Epoch 5/40\n",
            "4456/4456 [==============================] - 246s 55ms/step - loss: 0.3015 - accuracy: 0.8759 - val_loss: 0.1874 - val_accuracy: 0.9276\n",
            "Epoch 6/40\n",
            "4456/4456 [==============================] - 239s 54ms/step - loss: 0.2933 - accuracy: 0.8825 - val_loss: 0.1784 - val_accuracy: 0.9330\n",
            "Epoch 7/40\n",
            "4456/4456 [==============================] - 238s 53ms/step - loss: 0.2814 - accuracy: 0.8866 - val_loss: 0.1725 - val_accuracy: 0.9352\n",
            "Epoch 8/40\n",
            "4456/4456 [==============================] - 238s 53ms/step - loss: 0.2663 - accuracy: 0.8913 - val_loss: 0.1626 - val_accuracy: 0.9397\n",
            "Epoch 9/40\n",
            "4456/4456 [==============================] - 241s 54ms/step - loss: 0.2560 - accuracy: 0.8970 - val_loss: 0.1584 - val_accuracy: 0.9425\n",
            "Epoch 10/40\n",
            "4456/4456 [==============================] - 241s 54ms/step - loss: 0.2444 - accuracy: 0.9085 - val_loss: 0.1557 - val_accuracy: 0.9440\n",
            "Epoch 11/40\n",
            "4456/4456 [==============================] - 243s 54ms/step - loss: 0.2370 - accuracy: 0.9113 - val_loss: 0.1444 - val_accuracy: 0.9478\n",
            "Epoch 12/40\n",
            "4456/4456 [==============================] - 243s 54ms/step - loss: 0.2314 - accuracy: 0.9150 - val_loss: 0.1471 - val_accuracy: 0.9474\n",
            "Epoch 13/40\n",
            "4456/4456 [==============================] - 242s 54ms/step - loss: 0.2270 - accuracy: 0.9171 - val_loss: 0.1417 - val_accuracy: 0.9498\n",
            "Epoch 14/40\n",
            "4456/4456 [==============================] - 243s 55ms/step - loss: 0.2294 - accuracy: 0.9162 - val_loss: 0.1364 - val_accuracy: 0.9516\n",
            "Epoch 15/40\n",
            "4456/4456 [==============================] - 242s 54ms/step - loss: 0.2289 - accuracy: 0.9180 - val_loss: 0.1367 - val_accuracy: 0.9530\n",
            "Epoch 16/40\n",
            "4456/4456 [==============================] - 256s 57ms/step - loss: 0.2267 - accuracy: 0.9183 - val_loss: 0.1380 - val_accuracy: 0.9520\n",
            "Epoch 17/40\n",
            "4456/4456 [==============================] - 242s 54ms/step - loss: 0.2232 - accuracy: 0.9203 - val_loss: 0.1356 - val_accuracy: 0.9528\n",
            "Epoch 18/40\n",
            "4456/4456 [==============================] - 256s 57ms/step - loss: 0.2173 - accuracy: 0.9233 - val_loss: 0.1374 - val_accuracy: 0.9527\n",
            "Epoch 19/40\n",
            "4456/4456 [==============================] - 256s 57ms/step - loss: 0.2164 - accuracy: 0.9232 - val_loss: 0.1311 - val_accuracy: 0.9568\n",
            "Epoch 20/40\n",
            "4456/4456 [==============================] - 244s 55ms/step - loss: 0.2130 - accuracy: 0.9247 - val_loss: 0.1299 - val_accuracy: 0.9570\n",
            "Epoch 21/40\n",
            "4456/4456 [==============================] - 244s 55ms/step - loss: 0.2096 - accuracy: 0.9256 - val_loss: 0.1319 - val_accuracy: 0.9565\n",
            "Epoch 22/40\n",
            "4456/4456 [==============================] - 243s 55ms/step - loss: 0.2088 - accuracy: 0.9259 - val_loss: 0.1323 - val_accuracy: 0.9563\n",
            "Epoch 23/40\n",
            "4456/4456 [==============================] - 244s 55ms/step - loss: 0.2064 - accuracy: 0.9266 - val_loss: 0.1282 - val_accuracy: 0.9572\n",
            "Epoch 24/40\n",
            "4456/4456 [==============================] - 243s 55ms/step - loss: 0.2028 - accuracy: 0.9287 - val_loss: 0.1239 - val_accuracy: 0.9579\n",
            "Epoch 25/40\n",
            "4456/4456 [==============================] - 243s 54ms/step - loss: 0.2037 - accuracy: 0.9285 - val_loss: 0.1263 - val_accuracy: 0.9592\n",
            "Epoch 26/40\n",
            "4456/4456 [==============================] - 243s 54ms/step - loss: 0.2012 - accuracy: 0.9295 - val_loss: 0.1183 - val_accuracy: 0.9602\n",
            "Epoch 27/40\n",
            "4456/4456 [==============================] - 243s 55ms/step - loss: 0.1968 - accuracy: 0.9308 - val_loss: 0.1198 - val_accuracy: 0.9596\n",
            "Epoch 28/40\n",
            "4456/4456 [==============================] - 243s 54ms/step - loss: 0.1975 - accuracy: 0.9314 - val_loss: 0.1187 - val_accuracy: 0.9603\n",
            "Epoch 29/40\n",
            "4456/4456 [==============================] - ETA: 0s - loss: 0.1946 - accuracy: 0.9324\n",
            "Epoch 00029: Reducing Max LR on Plateau: new max lr will be 0.05 (if not early_stopping).\n",
            "4456/4456 [==============================] - 244s 55ms/step - loss: 0.1946 - accuracy: 0.9324 - val_loss: 0.1190 - val_accuracy: 0.9593\n",
            "Epoch 30/40\n",
            "4456/4456 [==============================] - 244s 55ms/step - loss: 0.1768 - accuracy: 0.9385 - val_loss: 0.1146 - val_accuracy: 0.9627\n",
            "Epoch 31/40\n",
            "4456/4456 [==============================] - 244s 55ms/step - loss: 0.1745 - accuracy: 0.9406 - val_loss: 0.1177 - val_accuracy: 0.9631\n",
            "Epoch 32/40\n",
            "4456/4456 [==============================] - 243s 55ms/step - loss: 0.1712 - accuracy: 0.9411 - val_loss: 0.1148 - val_accuracy: 0.9633\n",
            "Epoch 33/40\n",
            "4456/4456 [==============================] - 243s 55ms/step - loss: 0.1714 - accuracy: 0.9418 - val_loss: 0.1134 - val_accuracy: 0.9635\n",
            "Epoch 34/40\n",
            "4456/4456 [==============================] - 243s 55ms/step - loss: 0.1680 - accuracy: 0.9423 - val_loss: 0.1124 - val_accuracy: 0.9643\n",
            "Epoch 35/40\n",
            "4456/4456 [==============================] - 243s 55ms/step - loss: 0.1684 - accuracy: 0.9428 - val_loss: 0.1132 - val_accuracy: 0.9641\n",
            "Epoch 36/40\n",
            "4456/4456 [==============================] - 244s 55ms/step - loss: 0.1690 - accuracy: 0.9421 - val_loss: 0.1100 - val_accuracy: 0.9641\n",
            "Epoch 37/40\n",
            "4456/4456 [==============================] - 244s 55ms/step - loss: 0.1673 - accuracy: 0.9427 - val_loss: 0.1099 - val_accuracy: 0.9649\n",
            "Epoch 38/40\n",
            "4456/4456 [==============================] - 243s 54ms/step - loss: 0.1624 - accuracy: 0.9445 - val_loss: 0.1076 - val_accuracy: 0.9657\n",
            "Epoch 39/40\n",
            "4456/4456 [==============================] - 243s 54ms/step - loss: 0.1631 - accuracy: 0.9444 - val_loss: 0.1116 - val_accuracy: 0.9651\n",
            "Epoch 40/40\n",
            "4456/4456 [==============================] - 242s 54ms/step - loss: 0.1635 - accuracy: 0.9439 - val_loss: 0.1080 - val_accuracy: 0.9641\n",
            "Weights from best epoch have been loaded into model.\n"
          ]
        }
      ]
    },
    {
      "cell_type": "code",
      "source": [
        "learner.plot(\"loss\")"
      ],
      "metadata": {
        "colab": {
          "base_uri": "https://localhost:8080/",
          "height": 295
        },
        "id": "4E0_Kdv3dTyK",
        "outputId": "f9ca0c5d-3038-4b34-eeec-073febc71c51"
      },
      "execution_count": null,
      "outputs": [
        {
          "output_type": "display_data",
          "data": {
            "text/plain": [
              "<Figure size 432x288 with 1 Axes>"
            ],
            "image/png": "[encoded data removed]"
          },
          "metadata": {
            "needs_background": "light"
          }
        }
      ]
    },
    {
      "cell_type": "code",
      "source": [
        "learner.plot(\"accuracy\")"
      ],
      "metadata": {
        "colab": {
          "base_uri": "https://localhost:8080/",
          "height": 295
        },
        "id": "1BlrZDXpd1l2",
        "outputId": "fcbbf5bd-92b0-42af-c56f-1a1064bf870a"
      },
      "execution_count": null,
      "outputs": [
        {
          "output_type": "display_data",
          "data": {
            "text/plain": [
              "<Figure size 432x288 with 1 Axes>"
            ],
            "image/png": "[encoded data removed]"
          },
          "metadata": {
            "needs_background": "light"
          }
        }
      ]
    },
    {
      "cell_type": "code",
      "source": [
        "learner.save_model(model_path+'final_model')"
      ],
      "metadata": {
        "id": "XsDRg6QXdTzv"
      },
      "execution_count": null,
      "outputs": []
    },
    {
      "cell_type": "code",
      "source": [
        "df_final_history = pd.DataFrame()\n",
        "df_final_history[\"loss\"]=final_history.history[\"loss\"]\n",
        "df_final_history[\"val_loss\"]=final_history.history[\"val_loss\"]\n",
        "df_final_history[\"accuracy\"]=final_history.history[\"accuracy\"]\n",
        "df_final_history[\"val_accuracy\"]=final_history.history[\"val_accuracy\"]\n",
        "df_final_history[\"epoch\"] = range(1,df_final_history.shape[0]+1)\n",
        "df_final_history.head()"
      ],
      "metadata": {
        "colab": {
          "base_uri": "https://localhost:8080/",
          "height": 206
        },
        "id": "jnCnt9Oxb3Oe",
        "outputId": "de04cb88-6b9e-4227-f8eb-968ceffc2b9b"
      },
      "execution_count": null,
      "outputs": [
        {
          "output_type": "execute_result",
          "data": {
            "text/plain": [
              "       loss  val_loss  accuracy  val_accuracy  epoch\n",
              "0  0.425954  0.297704  0.817656      0.871514      1\n",
              "1  0.359279  0.232996  0.853662      0.906161      2\n",
              "2  0.327960  0.211489  0.868060      0.916372      3\n",
              "3  0.308534  0.198945  0.873783      0.925153      4\n",
              "4  0.301501  0.187432  0.875866      0.927594      5"
            ],
            "text/html": [
              "\n",
              "  <div id=\"df-0742605f-a344-4a59-b911-1afdb593eb0d\">\n",
              "    <div class=\"colab-df-container\">\n",
              "      <div>\n",
              "<style scoped>\n",
              "    .dataframe tbody tr th:only-of-type {\n",
              "        vertical-align: middle;\n",
              "    }\n",
              "\n",
              "    .dataframe tbody tr th {\n",
              "        vertical-align: top;\n",
              "    }\n",
              "\n",
              "    .dataframe thead th {\n",
              "        text-align: right;\n",
              "    }\n",
              "</style>\n",
              "<table border=\"1\" class=\"dataframe\">\n",
              "  <thead>\n",
              "    <tr style=\"text-align: right;\">\n",
              "      <th></th>\n",
              "      <th>loss</th>\n",
              "      <th>val_loss</th>\n",
              "      <th>accuracy</th>\n",
              "      <th>val_accuracy</th>\n",
              "      <th>epoch</th>\n",
              "    </tr>\n",
              "  </thead>\n",
              "  <tbody>\n",
              "    <tr>\n",
              "      <th>0</th>\n",
              "      <td>0.425954</td>\n",
              "      <td>0.297704</td>\n",
              "      <td>0.817656</td>\n",
              "      <td>0.871514</td>\n",
              "      <td>1</td>\n",
              "    </tr>\n",
              "    <tr>\n",
              "      <th>1</th>\n",
              "      <td>0.359279</td>\n",
              "      <td>0.232996</td>\n",
              "      <td>0.853662</td>\n",
              "      <td>0.906161</td>\n",
              "      <td>2</td>\n",
              "    </tr>\n",
              "    <tr>\n",
              "      <th>2</th>\n",
              "      <td>0.327960</td>\n",
              "      <td>0.211489</td>\n",
              "      <td>0.868060</td>\n",
              "      <td>0.916372</td>\n",
              "      <td>3</td>\n",
              "    </tr>\n",
              "    <tr>\n",
              "      <th>3</th>\n",
              "      <td>0.308534</td>\n",
              "      <td>0.198945</td>\n",
              "      <td>0.873783</td>\n",
              "      <td>0.925153</td>\n",
              "      <td>4</td>\n",
              "    </tr>\n",
              "    <tr>\n",
              "      <th>4</th>\n",
              "      <td>0.301501</td>\n",
              "      <td>0.187432</td>\n",
              "      <td>0.875866</td>\n",
              "      <td>0.927594</td>\n",
              "      <td>5</td>\n",
              "    </tr>\n",
              "  </tbody>\n",
              "</table>\n",
              "</div>\n",
              "      <button class=\"colab-df-convert\" onclick=\"convertToInteractive('df-0742605f-a344-4a59-b911-1afdb593eb0d')\"\n",
              "              title=\"Convert this dataframe to an interactive table.\"\n",
              "              style=\"display:none;\">\n",
              "        \n",
              "  <svg xmlns=\"http://www.w3.org/2000/svg\" height=\"24px\"viewBox=\"0 0 24 24\"\n",
              "       width=\"24px\">\n",
              "    <path d=\"M0 0h24v24H0V0z\" fill=\"none\"/>\n",
              "    <path d=\"M18.56 5.44l.94 2.06.94-2.06 2.06-.94-2.06-.94-.94-2.06-.94 2.06-2.06.94zm-11 1L8.5 8.5l.94-2.06 2.06-.94-2.06-.94L8.5 2.5l-.94 2.06-2.06.94zm10 10l.94 2.06.94-2.06 2.06-.94-2.06-.94-.94-2.06-.94 2.06-2.06.94z\"/><path d=\"M17.41 7.96l-1.37-1.37c-.4-.4-.92-.59-1.43-.59-.52 0-1.04.2-1.43.59L10.3 9.45l-7.72 7.72c-.78.78-.78 2.05 0 2.83L4 21.41c.39.39.9.59 1.41.59.51 0 1.02-.2 1.41-.59l7.78-7.78 2.81-2.81c.8-.78.8-2.07 0-2.86zM5.41 20L4 18.59l7.72-7.72 1.47 1.35L5.41 20z\"/>\n",
              "  </svg>\n",
              "      </button>\n",
              "      \n",
              "  <style>\n",
              "    .colab-df-container {\n",
              "      display:flex;\n",
              "      flex-wrap:wrap;\n",
              "      gap: 12px;\n",
              "    }\n",
              "\n",
              "    .colab-df-convert {\n",
              "      background-color: #E8F0FE;\n",
              "      border: none;\n",
              "      border-radius: 50%;\n",
              "      cursor: pointer;\n",
              "      display: none;\n",
              "      fill: #1967D2;\n",
              "      height: 32px;\n",
              "      padding: 0 0 0 0;\n",
              "      width: 32px;\n",
              "    }\n",
              "\n",
              "    .colab-df-convert:hover {\n",
              "      background-color: #E2EBFA;\n",
              "      box-shadow: 0px 1px 2px rgba(60, 64, 67, 0.3), 0px 1px 3px 1px rgba(60, 64, 67, 0.15);\n",
              "      fill: #174EA6;\n",
              "    }\n",
              "\n",
              "    [theme=dark] .colab-df-convert {\n",
              "      background-color: #3B4455;\n",
              "      fill: #D2E3FC;\n",
              "    }\n",
              "\n",
              "    [theme=dark] .colab-df-convert:hover {\n",
              "      background-color: #434B5C;\n",
              "      box-shadow: 0px 1px 3px 1px rgba(0, 0, 0, 0.15);\n",
              "      filter: drop-shadow(0px 1px 2px rgba(0, 0, 0, 0.3));\n",
              "      fill: #FFFFFF;\n",
              "    }\n",
              "  </style>\n",
              "\n",
              "      <script>\n",
              "        const buttonEl =\n",
              "          document.querySelector('#df-0742605f-a344-4a59-b911-1afdb593eb0d button.colab-df-convert');\n",
              "        buttonEl.style.display =\n",
              "          google.colab.kernel.accessAllowed ? 'block' : 'none';\n",
              "\n",
              "        async function convertToInteractive(key) {\n",
              "          const element = document.querySelector('#df-0742605f-a344-4a59-b911-1afdb593eb0d');\n",
              "          const dataTable =\n",
              "            await google.colab.kernel.invokeFunction('convertToInteractive',\n",
              "                                                     [key], {});\n",
              "          if (!dataTable) return;\n",
              "\n",
              "          const docLinkHtml = 'Like what you see? Visit the ' +\n",
              "            '<a target=\"_blank\" href=https://colab.research.google.com/notebooks/data_table.ipynb>data table notebook</a>'\n",
              "            + ' to learn more about interactive tables.';\n",
              "          element.innerHTML = '';\n",
              "          dataTable['output_type'] = 'display_data';\n",
              "          await google.colab.output.renderOutput(dataTable, element);\n",
              "          const docLink = document.createElement('div');\n",
              "          docLink.innerHTML = docLinkHtml;\n",
              "          element.appendChild(docLink);\n",
              "        }\n",
              "      </script>\n",
              "    </div>\n",
              "  </div>\n",
              "  "
            ]
          },
          "metadata": {},
          "execution_count": 86
        }
      ]
    },
    {
      "cell_type": "code",
      "source": [
        "# save to csv: \n",
        "hist_csv_file = model_path+'final_history.csv'\n",
        "with open(hist_csv_file, mode='w') as f:\n",
        "    df_final_history.to_csv(f)"
      ],
      "metadata": {
        "id": "Mn9Z-IDeb3Qc"
      },
      "execution_count": null,
      "outputs": []
    },
    {
      "cell_type": "markdown",
      "source": [
        "# Generate test predictions and save as .csv"
      ],
      "metadata": {
        "id": "Nox20M11UNLq"
      }
    },
    {
      "cell_type": "code",
      "source": [
        "learner = ktrain.get_learner(\n",
        "    model=final_model, \n",
        "    train_data=train_data,\n",
        "    val_data=val_data,\n",
        "    workers=8,\n",
        "    batch_size=32\n",
        "    )"
      ],
      "metadata": {
        "id": "t71IiGkywXpB"
      },
      "execution_count": null,
      "outputs": []
    },
    {
      "cell_type": "code",
      "source": [
        "preds = learner.predict(test_data)"
      ],
      "metadata": {
        "id": "BdhW9nzE-P8l"
      },
      "execution_count": null,
      "outputs": []
    },
    {
      "cell_type": "code",
      "source": [
        "preds[:5]"
      ],
      "metadata": {
        "colab": {
          "base_uri": "https://localhost:8080/"
        },
        "id": "voyCcYoz-P-c",
        "outputId": "01af03d9-febb-4655-c0b5-e4a37eabb6dd"
      },
      "execution_count": null,
      "outputs": [
        {
          "output_type": "execute_result",
          "data": {
            "text/plain": [
              "array([[0.01457799],\n",
              "       [0.00523104],\n",
              "       [0.9899951 ],\n",
              "       [0.43776897],\n",
              "       [1.        ]], dtype=float32)"
            ]
          },
          "metadata": {},
          "execution_count": 25
        }
      ]
    },
    {
      "cell_type": "code",
      "source": [
        "# Save predictions as submission.csv\n",
        "df_submission = df_test.copy()\n",
        "df_submission[\"id\"] = df_submission[\"id\"].str[:-4]\n",
        "df_submission[\"label\"] = preds\n",
        "\n",
        "submission_filepath = model_path+'submission.csv'\n",
        "with open(submission_filepath, mode='w') as f:\n",
        "    df_submission.to_csv(f, index=False)"
      ],
      "metadata": {
        "id": "sbJk42hiSU9t"
      },
      "execution_count": null,
      "outputs": []
    }
  ]
}