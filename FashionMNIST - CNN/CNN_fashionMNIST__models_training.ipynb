{
  "nbformat": 4,
  "nbformat_minor": 0,
  "metadata": {
    "colab": {
      "provenance": []
    },
    "kernelspec": {
      "name": "python3",
      "display_name": "Python 3"
    },
    "language_info": {
      "name": "python"
    },
    "accelerator": "GPU",
    "gpuClass": "standard"
  },
  "cells": [
    {
      "cell_type": "markdown",
      "source": [
        "# About this notebook:\n",
        "\n",
        "This notebook contains code used to build, train, and save models which would make the \"report\" notebook more difficult to read.\n",
        "\n",
        "Make sure to update `PROJECT_DIR` with your desired location if you want to reproduce and save these models"
      ],
      "metadata": {
        "id": "556g0JdRjmai"
      }
    },
    {
      "cell_type": "code",
      "source": [
        "# directory for saving models and training histories\n",
        "PROJECT_DIR = \"FILEPATH\""
      ],
      "metadata": {
        "id": "yycpdgg5gP88"
      },
      "execution_count": null,
      "outputs": []
    },
    {
      "cell_type": "markdown",
      "source": [
        "# Dependencies"
      ],
      "metadata": {
        "id": "t8NHTiVlS7E0"
      }
    },
    {
      "cell_type": "code",
      "source": [
        "%%capture\n",
        "!pip install ktrain\n",
        "!pip install -q -U keras-tuner"
      ],
      "metadata": {
        "id": "auBBQZRJL1V_"
      },
      "execution_count": null,
      "outputs": []
    },
    {
      "cell_type": "code",
      "execution_count": null,
      "metadata": {
        "id": "Ll-HNRUGGX-N"
      },
      "outputs": [],
      "source": [
        "import matplotlib.pyplot as plt\n",
        "import numpy as np \n",
        "import pandas as pd \n",
        "import tensorflow as tf\n",
        "from tensorflow.keras import models, layers\n",
        "import keras_tuner as kt\n",
        "import ktrain\n",
        "import seaborn as sns\n",
        "from sklearn.model_selection import train_test_split\n",
        "from sklearn.metrics import confusion_matrix, classification_report\n",
        "\n",
        "sns.set_style(\"darkgrid\")\n",
        "%matplotlib inline"
      ]
    },
    {
      "cell_type": "markdown",
      "source": [
        "---\n",
        "# Dataset and task description\n",
        "\n",
        "For this project, I will build and tune CNN classification models for the Fashion-MNIST dataset. The Fashion-MNIST dataset was created to replace the famous &mdash; but dated &mdash; MNIST handwritten digit dataset as a benchmark for image classification models.  \n",
        "\n",
        "The Fashion-MNIST dataset is comprised of 60,000 training images and 10,000 test images. All images are 28x28 pixels with a single \"grayscale\" color channel.  Images are evenly distributed between 10 labels:  T-shirts, trousers, pullovers, dresses, coats, sandals, shirts, sneakers, bags, and ankle boots. This classification task is designed to be difficult/impossible to achieve near-perfect test accuracy, but it is still a “real-world” dataset rather than an arbitrarily difficult synthetic dataset.\n",
        "\n",
        "My primary goal in this project is to gain experience using hyperparameter tuning techniques to optimize models for a specific task.  In particular, I will refine models based on VGG-Net and ResNet architectures.  \n",
        "\n",
        "My model tuning will consider:\n",
        "* architectural hyperparameters (blocks, layers, filters)\n",
        "* optimization hyperparameters (learning rate, learning rate scheduling)\n",
        "* training data augmentation\n",
        "\n",
        "> *Fashion-MNIST: a Novel Image Dataset for Benchmarking Machine Learning Algorithms.* Han Xiao, Kashif Rasul, Roland Vollgraf. arXiv:1708.07747 https://github.com/zalandoresearch/fashion-mnist"
      ],
      "metadata": {
        "id": "oiT4IApDS9Tr"
      }
    },
    {
      "cell_type": "code",
      "source": [
        "#load Fashion-MNIST from TensorFlow\n",
        "fashion_mnist = tf.keras.datasets.fashion_mnist\n",
        "(train_images, train_labels), (X_test, y_test) = fashion_mnist.load_data()"
      ],
      "metadata": {
        "id": "v3pXLnZMHNvC"
      },
      "execution_count": null,
      "outputs": []
    },
    {
      "cell_type": "markdown",
      "source": [
        "---\n",
        "# EDA"
      ],
      "metadata": {
        "id": "lW_HkqnHZaW6"
      }
    },
    {
      "cell_type": "code",
      "source": [
        "train_images.shape"
      ],
      "metadata": {
        "colab": {
          "base_uri": "https://localhost:8080/"
        },
        "id": "CoslH7gMHTvE",
        "outputId": "72272156-7acd-46ee-cec3-0cb35bf7b4da"
      },
      "execution_count": null,
      "outputs": [
        {
          "output_type": "execute_result",
          "data": {
            "text/plain": [
              "(60000, 28, 28)"
            ]
          },
          "metadata": {},
          "execution_count": 4
        }
      ]
    },
    {
      "cell_type": "code",
      "source": [
        "# display compact table of training label value counts\n",
        "label_values, label_counts = np.unique(train_labels, return_counts=True)\n",
        "pd.DataFrame({\"labels\":label_values, \"counts\":label_counts}).T.style.hide_columns()"
      ],
      "metadata": {
        "id": "_tnigf7jHV5L",
        "colab": {
          "base_uri": "https://localhost:8080/",
          "height": 80
        },
        "outputId": "dc828f97-d545-4d24-b09b-1fd815a79521"
      },
      "execution_count": null,
      "outputs": [
        {
          "output_type": "execute_result",
          "data": {
            "text/plain": [
              "<pandas.io.formats.style.Styler at 0x7f6af6fe5a50>"
            ],
            "text/html": [
              "<style type=\"text/css\">\n",
              "</style>\n",
              "<table id=\"T_1a8f2_\" class=\"dataframe\">\n",
              "  <thead>\n",
              "  </thead>\n",
              "  <tbody>\n",
              "    <tr>\n",
              "      <th id=\"T_1a8f2_level0_row0\" class=\"row_heading level0 row0\" >labels</th>\n",
              "      <td id=\"T_1a8f2_row0_col0\" class=\"data row0 col0\" >0</td>\n",
              "      <td id=\"T_1a8f2_row0_col1\" class=\"data row0 col1\" >1</td>\n",
              "      <td id=\"T_1a8f2_row0_col2\" class=\"data row0 col2\" >2</td>\n",
              "      <td id=\"T_1a8f2_row0_col3\" class=\"data row0 col3\" >3</td>\n",
              "      <td id=\"T_1a8f2_row0_col4\" class=\"data row0 col4\" >4</td>\n",
              "      <td id=\"T_1a8f2_row0_col5\" class=\"data row0 col5\" >5</td>\n",
              "      <td id=\"T_1a8f2_row0_col6\" class=\"data row0 col6\" >6</td>\n",
              "      <td id=\"T_1a8f2_row0_col7\" class=\"data row0 col7\" >7</td>\n",
              "      <td id=\"T_1a8f2_row0_col8\" class=\"data row0 col8\" >8</td>\n",
              "      <td id=\"T_1a8f2_row0_col9\" class=\"data row0 col9\" >9</td>\n",
              "    </tr>\n",
              "    <tr>\n",
              "      <th id=\"T_1a8f2_level0_row1\" class=\"row_heading level0 row1\" >counts</th>\n",
              "      <td id=\"T_1a8f2_row1_col0\" class=\"data row1 col0\" >6000</td>\n",
              "      <td id=\"T_1a8f2_row1_col1\" class=\"data row1 col1\" >6000</td>\n",
              "      <td id=\"T_1a8f2_row1_col2\" class=\"data row1 col2\" >6000</td>\n",
              "      <td id=\"T_1a8f2_row1_col3\" class=\"data row1 col3\" >6000</td>\n",
              "      <td id=\"T_1a8f2_row1_col4\" class=\"data row1 col4\" >6000</td>\n",
              "      <td id=\"T_1a8f2_row1_col5\" class=\"data row1 col5\" >6000</td>\n",
              "      <td id=\"T_1a8f2_row1_col6\" class=\"data row1 col6\" >6000</td>\n",
              "      <td id=\"T_1a8f2_row1_col7\" class=\"data row1 col7\" >6000</td>\n",
              "      <td id=\"T_1a8f2_row1_col8\" class=\"data row1 col8\" >6000</td>\n",
              "      <td id=\"T_1a8f2_row1_col9\" class=\"data row1 col9\" >6000</td>\n",
              "    </tr>\n",
              "  </tbody>\n",
              "</table>\n"
            ]
          },
          "metadata": {},
          "execution_count": 5
        }
      ]
    },
    {
      "cell_type": "markdown",
      "source": [
        "As demonstrated in the cells above, the 60,000 training are perfectly balanced with 6000 samples for each of the 10 labels.  No labels are missing.\n",
        "\n",
        "The images are already in the 2-dimensional 28x28 pixel shape that is ideal for our CNN models, so we don't need to reshape them."
      ],
      "metadata": {
        "id": "qKKo-OLcUUJT"
      }
    },
    {
      "cell_type": "code",
      "source": [
        "# show pixel value distribution\n",
        "pixel_values, pixel_counts = np.unique(train_images, return_counts=True)\n",
        "sns.histplot(x=pixel_values, weights=pixel_counts, stat=\"percent\", bins=16)\n",
        "plt.title(\"Pixel value distribution \\n(training data)\")\n",
        "plt.xlabel(\"Pixel value\")\n",
        "plt.show()"
      ],
      "metadata": {
        "id": "GUESUOPyZVuJ",
        "colab": {
          "base_uri": "https://localhost:8080/",
          "height": 310
        },
        "outputId": "d4fa5d29-a84e-4ca7-cdec-074c0e9649b1"
      },
      "execution_count": null,
      "outputs": [
        {
          "output_type": "display_data",
          "data": {
            "text/plain": [
              "<Figure size 432x288 with 1 Axes>"
            ],
            "image/png": "[encoded data removed]"
          },
          "metadata": {
            "needs_background": "light"
          }
        }
      ]
    },
    {
      "cell_type": "markdown",
      "source": [
        "All pixel values are integers in the range [0-255].  No pixel values are missing or in the wrong format, so no data cleaning is necessarily.  \n",
        "\n",
        "Almost half of the pixels are 0 (or very close to it) which corresponds to black \"empty\" pixels.\n",
        "\n",
        "I will rescale the pixel values from [0,255] to [0,1] since it may help the models converge faster during training."
      ],
      "metadata": {
        "id": "oMt6D5SXjizj"
      }
    },
    {
      "cell_type": "code",
      "source": [
        "# normalize pixel values \n",
        "train_images = train_images/255\n",
        "X_test = X_test/255"
      ],
      "metadata": {
        "id": "eT4WHA3xo7wJ"
      },
      "execution_count": null,
      "outputs": []
    },
    {
      "cell_type": "markdown",
      "source": [
        "## Label visualizations"
      ],
      "metadata": {
        "id": "6Gue5tn6dXBo"
      }
    },
    {
      "cell_type": "code",
      "source": [
        "# dict for mapping label number to name\n",
        "label_lookup = {0:\"T-shirt\",1: 'Trouser',2: 'Pullover',3: 'Dress',4: 'Coat',5: 'Sandal',6: 'Shirt',7: 'Sneaker',8: 'Bag',9: 'Ankle boot'}"
      ],
      "metadata": {
        "id": "zYhZE1FLddFb"
      },
      "execution_count": null,
      "outputs": []
    },
    {
      "cell_type": "code",
      "source": [
        "def show_example_images(imgs,labels):\n",
        "    items = []\n",
        "    mean_items = [] \n",
        "\n",
        "    for i in range(10):\n",
        "        subset_dims=imgs[labels==i].shape\n",
        "\n",
        "        item = imgs[labels==i][np.random.randint(0,subset_dims[0])]\n",
        "        items.append(item)\n",
        "\n",
        "        mean_item = np.mean(imgs[labels==i], axis=0)\n",
        "        mean_items.append(mean_item)\n",
        "\n",
        "    fig, axs = plt.subplots(nrows=4,ncols=5, sharey=\"row\", sharex=\"col\", figsize=(12,10))\n",
        "    for i, img in enumerate(items[:5]): # row 1\n",
        "        axs[0,i].imshow(img); axs[0,i].set_title(label_lookup[i]); axs[0,i].grid(None)\n",
        "    for i, img in enumerate(mean_items[:5]): # row 2\n",
        "        axs[1,i].imshow(img); axs[1,i].set_title(label_lookup[i]); axs[1,i].grid(None)\n",
        "    for i, img in enumerate(items[5:]): # row 3\n",
        "        axs[2,i].imshow(img); axs[2,i].set_title(label_lookup[i+5]); axs[2,i].grid(None)\n",
        "    for i, img in enumerate(mean_items[5:]): # row 4\n",
        "        axs[3,i].imshow(img); axs[3,i].set_title(label_lookup[i+5]); axs[3,i].grid(None)\n",
        "    fig.axes[0].set_ylabel(\"Example\"); fig.axes[0].set_yticks([])\n",
        "    fig.axes[5].set_ylabel(\"Average\"); fig.axes[5].set_yticks([])\n",
        "    fig.axes[10].set_ylabel(\"Example\"); fig.axes[10].set_yticks([])\n",
        "    fig.axes[15].set_ylabel(\"Average\"); fig.axes[15].set_yticks([])\n",
        "    for x in range(5):\n",
        "        fig.axes[x].set_xticks([])\n",
        "    # plt.savefig(\"image_grid.png\", bbox_inches='tight') # save this plot\n",
        "    plt.show()\n",
        "\n",
        "show_example_images(train_images, train_labels)"
      ],
      "metadata": {
        "colab": {
          "base_uri": "https://localhost:8080/",
          "height": 588
        },
        "id": "9YINB0lBdqYM",
        "outputId": "68ed0f1d-85d1-4fec-fe04-4a8187083a21"
      },
      "execution_count": null,
      "outputs": [
        {
          "output_type": "display_data",
          "data": {
            "text/plain": [
              "<Figure size 864x720 with 20 Axes>"
            ],
            "image/png": "[encoded data removed]"
          },
          "metadata": {}
        }
      ]
    },
    {
      "cell_type": "markdown",
      "source": [
        "The previous graphic shows an example item from each of the 10 labels as well as the \"average item\" for each label.\n",
        "\n",
        "From this plot, we can see that the **average shirt**, **average coat**, and **average pullover** look very similar.  Additionally, the **average dress** shows very light sleeves, which suggest that there may be a great deal of variation in the silhouette of that label's arms.  These observations suggest that our model may struggle to correctly distinguish between these labels.\n",
        "\n",
        "Perhaps surprisingly, the averages of the 3 footwear categories are not very similar."
      ],
      "metadata": {
        "id": "7oAD_LpNhEPd"
      }
    },
    {
      "cell_type": "markdown",
      "source": [
        "## Preparing train and validation sets\n",
        "\n",
        "I will split the training images into training and validation subsets in a stratified manner in order to preserve the balance between labels."
      ],
      "metadata": {
        "id": "yAjMuDF84e06"
      }
    },
    {
      "cell_type": "code",
      "source": [
        "# split the training data into training and validation sets (with balanced labels)\n",
        "X_train, X_val, y_train, y_val = train_test_split(train_images, train_labels, test_size=0.2, stratify=train_labels)"
      ],
      "metadata": {
        "id": "bhnx_7Cr5XEz"
      },
      "execution_count": null,
      "outputs": []
    },
    {
      "cell_type": "markdown",
      "source": [
        "Note: Keras `ImageDataGenerator` objects severely slowed down model training; therefore, I will perform data augmentation from within the models using Keras image augmentation layers."
      ],
      "metadata": {
        "id": "CR7BIiBCiLn3"
      }
    },
    {
      "cell_type": "markdown",
      "source": [
        "---\n",
        "# Models"
      ],
      "metadata": {
        "id": "0KASu7sI717S"
      }
    },
    {
      "cell_type": "markdown",
      "source": [
        "## VGG-Net builder"
      ],
      "metadata": {
        "id": "y-MDQrpy6j1w"
      }
    },
    {
      "cell_type": "code",
      "source": [
        "def vgg_conv_block(x, filters, drop_channel, bn, conv_layers):\n",
        "    for _ in range(conv_layers):\n",
        "        x = layers.Conv2D(filters=filters, kernel_size=(3,3), padding=\"same\")(x)\n",
        "        if bn:\n",
        "            x = layers.BatchNormalization()(x)\n",
        "        x = layers.Activation(\"relu\")(x)\n",
        "        if drop_channel:\n",
        "            x = layers.SpatialDropout2D(drop_channel)(x)\n",
        "    x = layers.MaxPool2D((2,2))(x)\n",
        "    return x\n",
        "\n",
        "def fc_layers(x, fc_size_list, drop_neuron, bn):\n",
        "    x = layers.Flatten()(x)\n",
        "    if drop_neuron:\n",
        "        x=layers.Dropout(drop_neuron)(x)\n",
        "    for fc in fc_size_list:\n",
        "        x = layers.Dense(fc)(x)\n",
        "        if bn:\n",
        "            x = layers.BatchNormalization()(x)\n",
        "        x = layers.Activation(\"relu\")(x)\n",
        "        if drop_neuron:\n",
        "            x=layers.Dropout(drop_neuron)(x)\n",
        "    \n",
        "    x = layers.Dense(10, activation=\"softmax\", kernel_initializer=tf.keras.initializers.he_uniform)(x)\n",
        "    return x\n",
        "\n",
        "def get_vgg_model(\n",
        "    conv_blocks, # each block doubles the number of filters and halves the dimensions of the feature maps\n",
        "    fc_size_list, # list of units for a FC layer \n",
        "    name, #model name\n",
        "    conv_layers=2,  # layers to appear in each conv_block\n",
        "    bn=True, # apply batch normalization after convolution layers?\n",
        "    starting_filters=32, # filters for the first conv_block\n",
        "    drop_channel=False, # if float value, include SpatialDropout2D layer before MaxPool \n",
        "    drop_neuron=False, # if float value, include Dropout layer before Dense layers\n",
        "    data_aug=False # apply data augmentation layers during training?\n",
        "    ):\n",
        "\n",
        "    filters = starting_filters\n",
        "    img_input = layers.Input(shape=(28,28,1), name=\"img_input\")\n",
        "    x = img_input\n",
        "\n",
        "    if data_aug:\n",
        "        x = layers.RandomFlip(mode=\"horizontal\")(x)\n",
        "        x = layers.RandomZoom(0.06, fill_mode=\"constant\", fill_value=0.0, interpolation=\"nearest\" )(x)\n",
        "        x = layers.RandomTranslation(0.06, 0.06, fill_mode=\"constant\", fill_value=0.0, interpolation=\"nearest\")(x)\n",
        "\n",
        "    for _ in range(conv_blocks):\n",
        "        x = vgg_conv_block(x, filters=filters, drop_channel=drop_channel, bn=bn, conv_layers=conv_layers)\n",
        "        filters *= 2\n",
        "    \n",
        "    x = fc_layers(x, fc_size_list=fc_size_list, drop_neuron=drop_neuron, bn=bn)\n",
        "\n",
        "    model = models.Model(img_input, x, name=name)\n",
        "    return model\n",
        "\n"
      ],
      "metadata": {
        "id": "DalGszbE6sp0"
      },
      "execution_count": null,
      "outputs": []
    },
    {
      "cell_type": "markdown",
      "source": [
        "\n",
        "## ResNet builder\n",
        "\n"
      ],
      "metadata": {
        "id": "cdNDjAFDeO6P"
      }
    },
    {
      "cell_type": "code",
      "source": [
        "\n",
        "def residual_block(x, filters, res_block_layers, drop_channel=False):\n",
        "    x_ = x #initial input, saved for skip connection\n",
        "    \n",
        "    for layer in range(res_block_layers-1):\n",
        "        x = layers.Conv2D(filters=filters, kernel_size=(3,3), padding=\"same\")(x)\n",
        "        x = layers.BatchNormalization()(x)\n",
        "        x = layers.Activation(\"relu\")(x)\n",
        "        if drop_channel:\n",
        "            x = layers.SpatialDropout2D(drop_channel)(x)\n",
        "\n",
        "    x = layers.Conv2D(filters=filters, kernel_size=(3,3), padding=\"same\")(x)\n",
        "    x = layers.BatchNormalization()(x)\n",
        "\n",
        "    x = layers.Add()([x_, x])\n",
        "    x = layers.Activation(\"relu\")(x)\n",
        "    if drop_channel:\n",
        "        x = layers.SpatialDropout2D(drop_channel)(x)\n",
        "\n",
        "    return x\n",
        "\n",
        "def resnet_downsample_block(x, filters):\n",
        "    x_ = x #initial input, saved for skip connection\n",
        "\n",
        "    x = layers.Conv2D(filters=filters, strides=(2,2), kernel_size=(3,3), padding=\"same\")(x)\n",
        "    x = layers.BatchNormalization()(x)\n",
        "    x = layers.Activation(\"relu\")(x)\n",
        "\n",
        "    x = layers.Conv2D(filters=filters, strides=(1,1), kernel_size=(3,3), padding=\"same\")(x)\n",
        "    x = layers.BatchNormalization()(x)\n",
        "\n",
        "    x_ = layers.Conv2D(filters=filters, strides=(2,2), kernel_size=(1,1), padding=\"valid\")(x_)\n",
        "    x_ = layers.BatchNormalization()(x_)\n",
        "\n",
        "    x = layers.Add()([x_, x])\n",
        "    x = layers.Activation(\"relu\")(x)\n",
        "\n",
        "    return x\n",
        "\n",
        "def get_resnet_model(\n",
        "    downsample_blocks, # each downsampling block doubles the number of filters and halves the dimensions of the feature maps\n",
        "    name, # model name\n",
        "    starting_filters=32, # filters in first block\n",
        "    res_block_layers=2, # layers in each residual block\n",
        "    drop_channel=False, # if float, SpatialDropout2D between residual block layers.\n",
        "    data_aug=False # apply data augmentation layers during training?\n",
        "    ):\n",
        "    filters = starting_filters\n",
        "    img_input = layers.Input(shape=(28,28,1), name=\"img_input\")\n",
        "    x = img_input\n",
        "\n",
        "    if data_aug:\n",
        "        x = layers.RandomFlip(mode=\"horizontal\")(x)\n",
        "        x = layers.RandomZoom(0.06, fill_mode=\"constant\", fill_value=0.0, interpolation=\"nearest\" )(x)\n",
        "        x = layers.RandomTranslation(0.06, 0.06, fill_mode=\"constant\", fill_value=0.0, interpolation=\"nearest\")(x)\n",
        "\n",
        "\n",
        "    for block in range(downsample_blocks):\n",
        "        x = residual_block(x, filters=filters, res_block_layers=res_block_layers, drop_channel=drop_channel)\n",
        "        filters *= 2\n",
        "        x = resnet_downsample_block(x, filters=filters)\n",
        "    \n",
        "    x = layers.GlobalAveragePooling2D()(x)\n",
        "    x = layers.Dense(10, activation=\"softmax\", kernel_initializer=tf.keras.initializers.he_uniform)(x)\n",
        "\n",
        "    model = models.Model(img_input, x, name=name)\n",
        "    return model"
      ],
      "metadata": {
        "id": "2zR8Tf9aeOPv"
      },
      "execution_count": null,
      "outputs": []
    },
    {
      "cell_type": "markdown",
      "source": [
        "---\n",
        "# Hyperparameter tuning with Keras-tuner\n"
      ],
      "metadata": {
        "id": "4PypJghge7pu"
      }
    },
    {
      "cell_type": "markdown",
      "source": [
        "## VGG-Net hyperparameter search\n",
        "VGG-Net hyperparameter search space includes:\n",
        "* `conv_blocks` - [2, 3, 4]\n",
        "* `fc_size_list[i]` - [32, 64, 96, 128]\n",
        "* `conv_layers` - [2, 3, 4]\n",
        "* `bn` - [True, False]\n",
        "* `starting_filters` - [16, 22, 28, 34, 40, 46, 52, 58, 64]\n",
        "* `drop_channel` - [0, 0.1, 0.2, 0.3, 0.4]\n",
        "* `drop_neuron` - [0, 0.1, 0.2, 0.3, 0.4, 0.5]\n",
        "* `learning_rate` - [1e-2, 1e-3, 1e-4, 1e-5]\n"
      ],
      "metadata": {
        "id": "PZVuL29Stt0T"
      }
    },
    {
      "cell_type": "code",
      "source": [
        "# Keras-tuner will use this function to build VGG variants with specified hyperparameters\n",
        "def vgg_builder(hp):\n",
        "    model = get_vgg_model(\n",
        "        conv_blocks=hp.Int(\"blocks\", min_value=2, max_value=4,step=1), \n",
        "        fc_size_list=[hp.Int(\"fc_1\",min_value=32, max_value=128, step=32),\n",
        "                      hp.Int(\"fc_2\",min_value=32, max_value=128, step=32)], \n",
        "        name=\"vgg_hp_tuning_candidate\", \n",
        "        conv_layers=hp.Int(\"conv_block_layers\", min_value=2, max_value=4, step=1), \n",
        "        bn=hp.Boolean(\"bn\", default=True), \n",
        "        starting_filters=hp.Int(\"starting_filters\", min_value=16, max_value=64,step=6) , \n",
        "        drop_channel=hp.Float(\"drop_channel\", min_value=0.0, max_value=0.4, step = 0.1, default=0.0), \n",
        "        drop_neuron=hp.Float(\"drop_neuron\", min_value=0.0, max_value=0.5, step = 0.1, default=0.0))\n",
        "    \n",
        "    model.compile(    \n",
        "        optimizer=tf.keras.optimizers.Adam(learning_rate=hp.Choice(\"lr\", values=[1e-2, 1e-3, 1e-4, 1e-5])),\n",
        "        loss=tf.keras.losses.SparseCategoricalCrossentropy(),\n",
        "        metrics=[\"accuracy\"])\n",
        "    \n",
        "    return model"
      ],
      "metadata": {
        "id": "bU8kM7yTe68S"
      },
      "execution_count": null,
      "outputs": []
    },
    {
      "cell_type": "code",
      "source": [
        "#Keras-tuner object that will conduct the hyperparameter search\n",
        "vgg_tuner = kt.Hyperband(vgg_builder,\n",
        "                     objective='val_accuracy',\n",
        "                     max_epochs=20,\n",
        "                     factor=3,\n",
        "                     seed=1,\n",
        "                     directory=PROJECT_DIR,\n",
        "                     project_name='cnn_fashion')\n",
        "\n",
        "vgg_tuner.search(x=(X_train, y_train), validation_data=(X_val, y_val), \n",
        "    epochs=40,\n",
        "    batch_size=32\n",
        ")"
      ],
      "metadata": {
        "colab": {
          "base_uri": "https://localhost:8080/"
        },
        "id": "6D10gz8ae6_m",
        "outputId": "e85af32f-4146-45ce-f6ae-933ef50b3a1c"
      },
      "execution_count": null,
      "outputs": [
        {
          "output_type": "stream",
          "name": "stdout",
          "text": [
            "Trial 30 Complete [00h 10m 15s]\n",
            "val_accuracy: 0.9181666374206543\n",
            "\n",
            "Best val_accuracy So Far: 0.9331666827201843\n",
            "Total elapsed time: 01h 56m 14s\n"
          ]
        }
      ]
    },
    {
      "cell_type": "markdown",
      "source": [
        "## ResNet hyperparameter search\n",
        "ResNet hyperparameter search space includes:\n",
        "* `downsample_blocks` - [2, 3]\n",
        "* `starting_filters` - [32, 48, 64]\n",
        "* `res_block_layers` - [2, 3, 4, 5, 6]\n",
        "* `drop_channel` - [0, 0.1, 0.2, 0.3, 0.4]\n",
        "* `learning_rate` - [1e-3, 1e-4, 1e-5]"
      ],
      "metadata": {
        "id": "hViDavGkCV4-"
      }
    },
    {
      "cell_type": "code",
      "source": [
        "# Keras-tuner will use this function to build ResNet variants with specified hyperparameters\n",
        "def resnet_builder(hp):\n",
        "    model = get_resnet_model(\n",
        "        downsample_blocks = hp.Choice(\"downsample_blocks\", values=[2,3]), \n",
        "        name = \"resnet_hyperband_candidate\",\n",
        "        starting_filters=hp.Choice(\"starting_filters\", [32,48,64]), \n",
        "        res_block_layers=hp.Int(\"res_block_layers\", min_value=2, max_value=6, step=1),\n",
        "        drop_channel=hp.Float(\"drop_channel\", min_value=0.0, max_value=0.4, step = 0.1)\n",
        "    )\n",
        "\n",
        "    model.compile(    \n",
        "        optimizer=tf.keras.optimizers.Adam(learning_rate=hp.Choice(\"lr\", values=[1e-3, 1e-4, 1e-5])),\n",
        "        loss=tf.keras.losses.SparseCategoricalCrossentropy(),\n",
        "        metrics=[\"accuracy\"])\n",
        "    \n",
        "    return model"
      ],
      "metadata": {
        "id": "HSD5gCFECV9Z"
      },
      "execution_count": null,
      "outputs": []
    },
    {
      "cell_type": "code",
      "source": [
        "#Keras-tuner object that will conduct the hyperparameter search\n",
        "resnet_tuner = kt.Hyperband(resnet_builder,\n",
        "                     objective='val_accuracy',\n",
        "                     max_epochs=20,\n",
        "                     factor=3,\n",
        "                     seed=1,\n",
        "                     directory=PROJECT_DIR,\n",
        "                     project_name='cnn_fashion_resnet')\n",
        "\n",
        "early_stop = tf.keras.callbacks.EarlyStopping(monitor='val_loss', patience=5)\n",
        "resnet_tuner.search(x=(X_train, y_train), validation_data=(X_val, y_val), \n",
        "    epochs=40,\n",
        "    batch_size=32,\n",
        "    callbacks=[early_stop]\n",
        ")"
      ],
      "metadata": {
        "colab": {
          "base_uri": "https://localhost:8080/"
        },
        "id": "1omu3wQ3CWCV",
        "outputId": "021d9031-7a71-40cf-a185-dd8f2f1f65cc"
      },
      "execution_count": null,
      "outputs": [
        {
          "output_type": "stream",
          "name": "stdout",
          "text": [
            "Trial 30 Complete [00h 17m 24s]\n",
            "val_accuracy: 0.9369166493415833\n",
            "\n",
            "Best val_accuracy So Far: 0.9392499923706055\n",
            "Total elapsed time: 03h 21m 58s\n"
          ]
        }
      ]
    },
    {
      "cell_type": "markdown",
      "source": [
        "## VGG-Net hyperparameter tuning results:\n",
        "### Top-3 trials after 20 training epochs\n",
        "\n",
        "| best val_accuracy | conv_blocks | fc_size_list | conv_layers | bn | starting_filters | drop_channel | drop_neuron | learning_rate |\n",
        "| --- | --- | --- | --- | --- | --- | --- | --- | --- |\n",
        "| 0.9332 | 3  | [64, 64]  | 3  | True | 64  | 0.1  | 0.3  | .001  |\n",
        "| 0.9278 | 2 | [64, 96]  | 2 | True  | 22  | 0.2  | 0 | .001  |\n",
        "| 0.9273 | 2  | [96, 64]  | 3  | True  | 34  | 0  | 0.3  | .01  |\n",
        "\n",
        "Each of the top-3 trials utilized batch normalization.  The success of batch normalization isn't a surprise on its own, but I find it interesting that it was useful even with channel- *and* neuron-level dropout.\n",
        "\n",
        "None of the most successful models used 4 conv_blocks or 4 conv_layers.  All 3 models utilized the \"medium\" fc_layer options of 64 and/or 96 units per layer\n",
        "\n",
        "Note: This hyperparameter search algorithm used an efficient strategy to cover as much of the search space as possible, but it did NOT exhaustively search all combinations of hyperparameters."
      ],
      "metadata": {
        "id": "WjOytYn7HzSQ"
      }
    },
    {
      "cell_type": "code",
      "source": [
        "#load vgg tuner results from directory and display top-3 trials\n",
        "vgg_tuner = kt.Hyperband(vgg_builder,\n",
        "                     objective='val_accuracy',\n",
        "                     overwrite=False, #set overwrite=False when loading previously saved trials from a directory\n",
        "                     max_epochs=20,\n",
        "                     factor=3,\n",
        "                     seed=1,\n",
        "                     directory=PROJECT_DIR,\n",
        "                     project_name='cnn_fashion')\n",
        "\n",
        "vgg_tuner.results_summary(3)"
      ],
      "metadata": {
        "id": "qPAhrJc_CWKs",
        "colab": {
          "base_uri": "https://localhost:8080/"
        },
        "outputId": "b455e0c6-d012-4e9f-b6e8-c7aaf1e52abb"
      },
      "execution_count": null,
      "outputs": [
        {
          "output_type": "stream",
          "name": "stdout",
          "text": [
            "Results summary\n",
            "Results in /content/drive/MyDrive/!Data/fashion/cnn_fashion\n",
            "Showing 3 best trials\n",
            "<keras_tuner.engine.objective.Objective object at 0x7fcf27583750>\n",
            "Trial summary\n",
            "Hyperparameters:\n",
            "blocks: 3\n",
            "fc_1: 64\n",
            "fc_2: 64\n",
            "conv_block_layers: 3\n",
            "bn: True\n",
            "starting_filters: 64\n",
            "drop_channel: 0.1\n",
            "drop_neuron: 0.30000000000000004\n",
            "lr: 0.001\n",
            "tuner/epochs: 20\n",
            "tuner/initial_epoch: 7\n",
            "tuner/bracket: 2\n",
            "tuner/round: 2\n",
            "tuner/trial_id: 0014\n",
            "Score: 0.9331666827201843\n",
            "Trial summary\n",
            "Hyperparameters:\n",
            "blocks: 2\n",
            "fc_1: 64\n",
            "fc_2: 96\n",
            "conv_block_layers: 2\n",
            "bn: True\n",
            "starting_filters: 22\n",
            "drop_channel: 0.2\n",
            "drop_neuron: 0.0\n",
            "lr: 0.001\n",
            "tuner/epochs: 20\n",
            "tuner/initial_epoch: 7\n",
            "tuner/bracket: 2\n",
            "tuner/round: 2\n",
            "tuner/trial_id: 0013\n",
            "Score: 0.9278333187103271\n",
            "Trial summary\n",
            "Hyperparameters:\n",
            "blocks: 2\n",
            "fc_1: 96\n",
            "fc_2: 64\n",
            "conv_block_layers: 3\n",
            "bn: True\n",
            "starting_filters: 34\n",
            "drop_channel: 0.0\n",
            "drop_neuron: 0.30000000000000004\n",
            "lr: 0.01\n",
            "tuner/epochs: 20\n",
            "tuner/initial_epoch: 7\n",
            "tuner/bracket: 1\n",
            "tuner/round: 1\n",
            "tuner/trial_id: 0023\n",
            "Score: 0.9273333549499512\n"
          ]
        }
      ]
    },
    {
      "cell_type": "markdown",
      "source": [
        "## Retrain and compare Top-3 VGG-Net models"
      ],
      "metadata": {
        "id": "oWf-j1wpzg42"
      }
    },
    {
      "cell_type": "code",
      "source": [
        "vgg_1 = get_vgg_model(\n",
        "    conv_blocks=3, \n",
        "    fc_size_list=[64,64], \n",
        "    name=\"vgg_1\", \n",
        "    conv_layers=3,\n",
        "    starting_filters=64,\n",
        "    drop_channel=0.1,\n",
        "    drop_neuron=0.3\n",
        ")\n",
        "\n",
        "vgg_1.compile(\n",
        "    optimizer=tf.keras.optimizers.Adam(learning_rate=0.001),\n",
        "    loss=tf.keras.losses.SparseCategoricalCrossentropy(),\n",
        "    metrics=[\"accuracy\"]\n",
        ")\n",
        "\n",
        "early_stop = tf.keras.callbacks.EarlyStopping(monitor='val_accuracy', patience=5)\n",
        "history_vgg_1 = vgg_1.fit( x=X_train, y=y_train, validation_data=(X_val, y_val), \n",
        "    epochs=50,\n",
        "    batch_size=32,\n",
        "    callbacks=[early_stop]\n",
        ")"
      ],
      "metadata": {
        "id": "NUBe1Dtv6DJy"
      },
      "execution_count": null,
      "outputs": []
    },
    {
      "cell_type": "code",
      "source": [
        "vgg_2 = get_vgg_model(\n",
        "    conv_blocks=2, \n",
        "    fc_size_list=[64,96], \n",
        "    name=\"vgg_2\", \n",
        "    conv_layers=2,\n",
        "    starting_filters=22,\n",
        "    drop_channel=0.2,\n",
        "    drop_neuron=False\n",
        ")\n",
        "\n",
        "vgg_2.compile(\n",
        "    optimizer=tf.keras.optimizers.Adam(learning_rate=0.001),\n",
        "    loss=tf.keras.losses.SparseCategoricalCrossentropy(),\n",
        "    metrics=[\"accuracy\"]\n",
        ")\n",
        "\n",
        "history_vgg_2 = vgg_2.fit( x=X_train, y=y_train, validation_data=(X_val, y_val), \n",
        "    epochs=50,\n",
        "    batch_size=32,\n",
        "    callbacks=[early_stop]\n",
        ")"
      ],
      "metadata": {
        "id": "h3wS40PG7Cnj"
      },
      "execution_count": null,
      "outputs": []
    },
    {
      "cell_type": "code",
      "source": [
        "vgg_3 = get_vgg_model(\n",
        "    conv_blocks=2, \n",
        "    fc_size_list=[96,64], \n",
        "    name=\"vgg_3\", \n",
        "    conv_layers=3,\n",
        "    starting_filters=34,\n",
        "    drop_channel=False,\n",
        "    drop_neuron=0.3\n",
        ")\n",
        "\n",
        "vgg_3.compile(\n",
        "    optimizer=tf.keras.optimizers.Adam(learning_rate=0.01),\n",
        "    loss=tf.keras.losses.SparseCategoricalCrossentropy(),\n",
        "    metrics=[\"accuracy\"]\n",
        ")\n",
        "\n",
        "history_vgg_3 = vgg_3.fit( x=X_train, y=y_train, validation_data=(X_val, y_val), \n",
        "    epochs=50,\n",
        "    batch_size=32,\n",
        "    callbacks=[early_stop]\n",
        ")"
      ],
      "metadata": {
        "id": "rOPGtGWQ7CqE"
      },
      "execution_count": null,
      "outputs": []
    },
    {
      "cell_type": "markdown",
      "source": [
        "# Plot comparison of the top-3 VGG-Net models"
      ],
      "metadata": {
        "id": "rBGZuMea70tF"
      }
    },
    {
      "cell_type": "code",
      "source": [
        "# save model historys\n",
        "# convert history to DataFrame:     \n",
        "df_vgg_1= pd.DataFrame(history_vgg_1.history) \n",
        "df_vgg_1[\"epoch\"] = range(1,df_vgg_1.shape[0]+1)\n",
        "\n",
        "# save to csv: \n",
        "hist_csv_file = PROJECT_DIR+\"history_vgg_1.csv\"\n",
        "with open(hist_csv_file, mode='w') as f:\n",
        "    df_vgg_1.to_csv(f)\n",
        "\n",
        "df_vgg_2= pd.DataFrame(history_vgg_2.history) \n",
        "df_vgg_2[\"epoch\"] = range(1,df_vgg_2.shape[0]+1)\n",
        "\n",
        "# save to csv: \n",
        "hist_csv_file = PROJECT_DIR+\"history_vgg_2.csv\"\n",
        "with open(hist_csv_file, mode='w') as f:\n",
        "    df_vgg_2.to_csv(f)\n",
        "\n",
        "df_vgg_3= pd.DataFrame(history_vgg_3.history) \n",
        "df_vgg_3[\"epoch\"] = range(1,df_vgg_3.shape[0]+1)\n",
        "\n",
        "# save to csv: \n",
        "hist_csv_file = PROJECT_DIR+\"history_vgg_3.csv\"\n",
        "with open(hist_csv_file, mode='w') as f:\n",
        "    df_vgg_3.to_csv(f)"
      ],
      "metadata": {
        "id": "1JLr-_K_77Eb"
      },
      "execution_count": null,
      "outputs": []
    },
    {
      "cell_type": "code",
      "source": [
        "# pad shortest VGGNet histories\n",
        "df_vgg_2 = df_vgg_2.append([df_vgg_2[df_vgg_2.index==df_vgg_2.shape[0]-1]]*7, ignore_index=True)\n",
        "df_vgg_2[\"epoch\"] = range(1,df_vgg_2.shape[0]+1)\n",
        "\n",
        "df_vgg_3 = df_vgg_3.append([df_vgg_3[df_vgg_3.index==df_vgg_3.shape[0]-1]]*6, ignore_index=True)\n",
        "df_vgg_3[\"epoch\"] = range(1,df_vgg_3.shape[0]+1)"
      ],
      "metadata": {
        "id": "zfipc5Ezz5wm"
      },
      "execution_count": null,
      "outputs": []
    },
    {
      "cell_type": "code",
      "source": [
        "# plot top-3 VGG-Nets\n",
        "fig,ax = plt.subplots(nrows=1,ncols=2,figsize=(10,5))\n",
        "ax[0].plot(\"epoch\", \"val_loss\", data=df_vgg_1, label=\"vgg_1\")\n",
        "ax[0].plot(\"epoch\", \"val_loss\", data=df_vgg_2, label=\"vgg_2\")\n",
        "ax[0].plot(\"epoch\", \"val_loss\", data=df_vgg_3, label=\"vgg_3\")\n",
        "fig.axes[0].set_ylabel('loss')\n",
        "fig.axes[0].set_xlabel('epoch')\n",
        "ax[0].legend(loc='upper right')\n",
        "\n",
        "ax[1].plot(\"epoch\", \"val_accuracy\", data=df_vgg_1, label=\"vgg_1\")\n",
        "ax[1].plot(\"epoch\", \"val_accuracy\", data=df_vgg_2, label=\"vgg_2\")\n",
        "ax[1].plot(\"epoch\", \"val_accuracy\", data=df_vgg_3, label=\"vgg_3\")\n",
        "fig.axes[1].set_ylabel('accuracy')\n",
        "fig.axes[1].set_xlabel('epoch')\n",
        "ax[1].legend(loc='lower right')\n",
        "\n",
        "plt.suptitle(\"Top-3 VGG-Nets (retrained)\")\n",
        "\n",
        "plt.show()\n"
      ],
      "metadata": {
        "colab": {
          "base_uri": "https://localhost:8080/",
          "height": 370
        },
        "id": "qsO6uULmSsfa",
        "outputId": "c8e85f4d-e993-4a50-8ea7-b6b41217ecbe"
      },
      "execution_count": null,
      "outputs": [
        {
          "output_type": "display_data",
          "data": {
            "text/plain": [
              "<Figure size 720x360 with 2 Axes>"
            ],
            "image/png": "[encoded data removed]"
          },
          "metadata": {
            "needs_background": "light"
          }
        }
      ]
    },
    {
      "cell_type": "code",
      "source": [],
      "metadata": {
        "id": "xIZBP_xqz5y0"
      },
      "execution_count": null,
      "outputs": []
    },
    {
      "cell_type": "markdown",
      "source": [
        "## ResNet hyperparameter tuning results:\n",
        "### Top-3 trials after 20 training epochs\n",
        "\n",
        "| best val_accuracy | downsample_blocks | starting_filters | res_block_layers | drop_channel | learning_rate |\n",
        "| --- | --- | --- | --- | --- | --- |\n",
        "| 0.9392 | 3  | 48 | 3  | 0| .001 |\n",
        "| 0.9374| 3 | 32  | 3| 0.2  | .001  |\n",
        "| 0.9369 | 3  | 32  | 3  | 0.1  | .0001  |\n",
        "\n",
        "There top performing models have fairly homogenous hyperparameters compared to the VGG-Net trials.  Perhaps that shouldn't be surprising given the smaller search space for the ResNet models.\n",
        "\n",
        "All 3 of the best models have the same number of blocks and layers, which lends confidence that those hyperparameters are well suited for this specific task.  The top 3 models had extremely similar scores, so their relative ranking may be due to random chance."
      ],
      "metadata": {
        "id": "k90l-P7V8EG4"
      }
    },
    {
      "cell_type": "code",
      "source": [
        "#load resnet results from directory\n",
        "resnet_tuner = kt.Hyperband(resnet_builder,\n",
        "                     objective='val_accuracy',\n",
        "                     overwrite=False, #set overwrite=False when loading previously saved trials from a directory\n",
        "                     max_epochs=20,\n",
        "                     factor=3,\n",
        "                     seed=1,\n",
        "                     directory=PROJECT_DIR,\n",
        "                     project_name='cnn_fashion_resnet')\n",
        "\n",
        "resnet_tuner.results_summary(3)"
      ],
      "metadata": {
        "colab": {
          "base_uri": "https://localhost:8080/"
        },
        "id": "QWTvMUU-H4xv",
        "outputId": "83085718-3966-4c5e-914f-ef6b83474221"
      },
      "execution_count": null,
      "outputs": [
        {
          "output_type": "stream",
          "name": "stdout",
          "text": [
            "Results summary\n",
            "Results in /content/drive/MyDrive/!Data/fashion/cnn_fashion_resnet\n",
            "Showing 3 best trials\n",
            "<keras_tuner.engine.objective.Objective object at 0x7fcf2a031bd0>\n",
            "Trial summary\n",
            "Hyperparameters:\n",
            "downsample_blocks: 3\n",
            "starting_filters: 48\n",
            "res_block_layers: 3\n",
            "drop_channel: 0.0\n",
            "lr: 0.001\n",
            "tuner/epochs: 20\n",
            "tuner/initial_epoch: 7\n",
            "tuner/bracket: 2\n",
            "tuner/round: 2\n",
            "tuner/trial_id: 0012\n",
            "Score: 0.9392499923706055\n",
            "Trial summary\n",
            "Hyperparameters:\n",
            "downsample_blocks: 3\n",
            "starting_filters: 32\n",
            "res_block_layers: 3\n",
            "drop_channel: 0.2\n",
            "lr: 0.001\n",
            "tuner/epochs: 20\n",
            "tuner/initial_epoch: 0\n",
            "tuner/bracket: 0\n",
            "tuner/round: 0\n",
            "Score: 0.937416672706604\n",
            "Trial summary\n",
            "Hyperparameters:\n",
            "downsample_blocks: 3\n",
            "starting_filters: 32\n",
            "res_block_layers: 3\n",
            "drop_channel: 0.1\n",
            "lr: 0.0001\n",
            "tuner/epochs: 20\n",
            "tuner/initial_epoch: 0\n",
            "tuner/bracket: 0\n",
            "tuner/round: 0\n",
            "Score: 0.9369166493415833\n"
          ]
        }
      ]
    },
    {
      "cell_type": "markdown",
      "source": [
        "## Retrain and compare Top-3 ResNet models"
      ],
      "metadata": {
        "id": "eW26e6qW-YS3"
      }
    },
    {
      "cell_type": "code",
      "source": [
        "resnet_1 = get_resnet_model(\n",
        "    downsample_blocks = 3, \n",
        "    name = \"resnet_1\",\n",
        "    starting_filters=48, \n",
        "    res_block_layers=3,\n",
        "    drop_channel=False)\n",
        "\n",
        "resnet_1.compile(\n",
        "    optimizer=tf.keras.optimizers.Adam(learning_rate=0.001),\n",
        "    loss=tf.keras.losses.SparseCategoricalCrossentropy(),\n",
        "    metrics=[\"accuracy\"])\n",
        "\n",
        "history_resnet_1 = resnet_1.fit(x=X_train, y=y_train, validation_data=(X_val, y_val), \n",
        "    epochs=50,\n",
        "    batch_size=32,\n",
        "    callbacks=[early_stop])"
      ],
      "metadata": {
        "id": "xHbvNQXK-ZNi"
      },
      "execution_count": null,
      "outputs": []
    },
    {
      "cell_type": "code",
      "source": [
        "resnet_2 = get_resnet_model(\n",
        "    downsample_blocks = 3, \n",
        "    name = \"resnet_2\",\n",
        "    starting_filters=32, \n",
        "    res_block_layers=3,\n",
        "    drop_channel=0.2)\n",
        "\n",
        "resnet_2.compile(\n",
        "    optimizer=tf.keras.optimizers.Adam(learning_rate=0.001),\n",
        "    loss=tf.keras.losses.SparseCategoricalCrossentropy(),\n",
        "    metrics=[\"accuracy\"])\n",
        "\n",
        "history_resnet_2 = resnet_2.fit(x=X_train, y=y_train, validation_data=(X_val, y_val), \n",
        "    epochs=50,\n",
        "    batch_size=32,\n",
        "    callbacks=[early_stop])"
      ],
      "metadata": {
        "id": "_7v5bk-F-ZP6"
      },
      "execution_count": null,
      "outputs": []
    },
    {
      "cell_type": "code",
      "source": [
        "resnet_3 = get_resnet_model(\n",
        "    downsample_blocks = 3, \n",
        "    name = \"resnet_3\",\n",
        "    starting_filters=32, \n",
        "    res_block_layers=3,\n",
        "    drop_channel=0.1)\n",
        "\n",
        "resnet_3.compile(\n",
        "    optimizer=tf.keras.optimizers.Adam(learning_rate=0.0001),\n",
        "    loss=tf.keras.losses.SparseCategoricalCrossentropy(),\n",
        "    metrics=[\"accuracy\"])\n",
        "\n",
        "history_resnet_3 = resnet_3.fit(x=X_train, y=y_train, validation_data=(X_val, y_val), \n",
        "    epochs=50,\n",
        "    batch_size=32,\n",
        "    callbacks=[early_stop])"
      ],
      "metadata": {
        "id": "mU5Lfwyr-ZSS"
      },
      "execution_count": null,
      "outputs": []
    },
    {
      "cell_type": "code",
      "source": [
        "# save model historys\n",
        "# convert history to DataFrame:     \n",
        "df_resnet_1= pd.DataFrame(history_resnet_1.history) \n",
        "df_resnet_1[\"epoch\"] = range(1,df_resnet_1.shape[0]+1)\n",
        "\n",
        "# save to csv: \n",
        "hist_csv_file = PROJECT_DIR+\"history_resnet_1.csv\"\n",
        "with open(hist_csv_file, mode='w') as f:\n",
        "    df_resnet_1.to_csv(f)\n",
        "\n",
        "df_resnet_2= pd.DataFrame(history_resnet_2.history) \n",
        "df_resnet_2[\"epoch\"] = range(1,df_resnet_2.shape[0]+1)\n",
        "\n",
        "# save to csv: \n",
        "hist_csv_file = PROJECT_DIR+\"history_resnet_2.csv\"\n",
        "with open(hist_csv_file, mode='w') as f:\n",
        "    df_resnet_2.to_csv(f)\n",
        "\n",
        "df_resnet_3= pd.DataFrame(history_resnet_3.history) \n",
        "df_resnet_3[\"epoch\"] = range(1,df_resnet_3.shape[0]+1)\n",
        "\n",
        "# save to csv: \n",
        "hist_csv_file = PROJECT_DIR+\"history_resnet_3.csv\"\n",
        "with open(hist_csv_file, mode='w') as f:\n",
        "    df_resnet_3.to_csv(f)"
      ],
      "metadata": {
        "id": "WsWQbGi4GY4_"
      },
      "execution_count": null,
      "outputs": []
    },
    {
      "cell_type": "code",
      "source": [
        "# pad shortest ResNet histories\n",
        "df_resnet_1 = df_resnet_1.append([df_resnet_1[df_resnet_1.index==df_resnet_1.shape[0]-1]]*4, ignore_index=True)\n",
        "df_resnet_1[\"epoch\"] = range(1,df_resnet_1.shape[0]+1)\n",
        "\n",
        "df_resnet_2 = df_resnet_2.append([df_resnet_2[df_resnet_2.index==df_resnet_2.shape[0]-1]], ignore_index=True)\n",
        "df_resnet_2[\"epoch\"] = range(1,df_resnet_2.shape[0]+1)"
      ],
      "metadata": {
        "id": "BTajpJTYNsk3"
      },
      "execution_count": null,
      "outputs": []
    },
    {
      "cell_type": "code",
      "source": [
        "# plot top-3 vgg nets\n",
        "fig,ax = plt.subplots(nrows=1,ncols=2,figsize=(10,5))\n",
        "ax[0].plot(\"epoch\", \"val_loss\", data=df_resnet_1, label=\"resnet_1\")\n",
        "ax[0].plot(\"epoch\", \"val_loss\", data=df_resnet_2, label=\"resnet_2\")\n",
        "ax[0].plot(\"epoch\", \"val_loss\", data=df_resnet_3, label=\"resnet_3\")\n",
        "fig.axes[0].set_ylabel('loss')\n",
        "fig.axes[0].set_xlabel('epoch')\n",
        "ax[0].legend(loc='upper right')\n",
        "\n",
        "ax[1].plot(\"epoch\", \"val_accuracy\", data=df_resnet_1, label=\"resnet_1\")\n",
        "ax[1].plot(\"epoch\", \"val_accuracy\", data=df_resnet_2, label=\"resnet_2\")\n",
        "ax[1].plot(\"epoch\", \"val_accuracy\", data=df_resnet_3, label=\"resnet_3\")\n",
        "fig.axes[1].set_ylabel('accuracy')\n",
        "fig.axes[1].set_xlabel('epoch')\n",
        "ax[1].legend(loc='lower right')\n",
        "\n",
        "plt.suptitle(\"Top-3 ResNets (retrained)\")\n",
        "\n",
        "plt.show()\n"
      ],
      "metadata": {
        "colab": {
          "base_uri": "https://localhost:8080/",
          "height": 370
        },
        "id": "lUTqnHoiNspp",
        "outputId": "93bfa02f-c321-4d80-e3f2-b576c64a786e"
      },
      "execution_count": null,
      "outputs": [
        {
          "output_type": "display_data",
          "data": {
            "text/plain": [
              "<Figure size 720x360 with 2 Axes>"
            ],
            "image/png": "[encoded data removed]"
          },
          "metadata": {
            "needs_background": "light"
          }
        }
      ]
    },
    {
      "cell_type": "markdown",
      "source": [
        "# Retrain best VGG-Net with augmented data \n",
        "\n",
        "\n",
        "\n"
      ],
      "metadata": {
        "id": "feYVfBUDH41c"
      }
    },
    {
      "cell_type": "code",
      "source": [
        "tf.keras.backend.clear_session()"
      ],
      "metadata": {
        "id": "ar5lewEdaWDZ"
      },
      "execution_count": null,
      "outputs": []
    },
    {
      "cell_type": "code",
      "source": [
        "vgg_1_aug = get_vgg_model(\n",
        "    conv_blocks=3, \n",
        "    fc_size_list=[64,64], \n",
        "    name=\"vgg_1_aug\", \n",
        "    conv_layers=3,\n",
        "    starting_filters=64,\n",
        "    drop_channel=0.1,\n",
        "    drop_neuron=0.3,\n",
        "    data_aug=True\n",
        ")\n",
        "\n",
        "vgg_1_aug.compile(\n",
        "    optimizer=tf.keras.optimizers.Adam(learning_rate=0.001),\n",
        "    loss=tf.keras.losses.SparseCategoricalCrossentropy(),\n",
        "    metrics=[\"accuracy\"]\n",
        ")\n",
        "\n",
        "history_vgg_1_aug = vgg_1_aug.fit( x=X_train, y=y_train, validation_data=(X_val, y_val), \n",
        "    epochs=50,\n",
        "    batch_size=32,\n",
        "    callbacks=[early_stop]\n",
        ")"
      ],
      "metadata": {
        "id": "C4O4UVU2XK1J"
      },
      "execution_count": null,
      "outputs": []
    },
    {
      "cell_type": "code",
      "source": [
        "# convert history to DataFrame:     \n",
        "df_vgg_1_aug= pd.DataFrame(history_vgg_1_aug.history) \n",
        "df_vgg_1_aug[\"epoch\"] = range(1,df_vgg_1_aug.shape[0]+1)\n",
        "\n",
        "# save to csv: \n",
        "hist_csv_file = PROJECT_DIR+\"history_vgg_1_aug.csv\"\n",
        "with open(hist_csv_file, mode='w') as f:\n",
        "    df_vgg_1_aug.to_csv(f)"
      ],
      "metadata": {
        "id": "WwL6lfCkXoDN"
      },
      "execution_count": null,
      "outputs": []
    },
    {
      "cell_type": "code",
      "source": [
        "fig,ax = plt.subplots(nrows=1,ncols=2,figsize=(10,5))\n",
        "ax[0].plot(\"epoch\", \"loss\", data=df_vgg_1_aug, label=\"loss\")\n",
        "ax[0].plot(\"epoch\", \"val_loss\", data=df_vgg_1_aug, label=\"val_loss\")\n",
        "fig.axes[0].set_ylabel('loss')\n",
        "fig.axes[0].set_xlabel('epoch')\n",
        "ax[0].legend(loc='upper right')\n",
        "\n",
        "ax[1].plot(\"epoch\", \"accuracy\", data=df_vgg_1_aug, label=\"accuracy\")\n",
        "ax[1].plot(\"epoch\", \"val_accuracy\", data=df_vgg_1_aug, label=\"val_accuracy\")\n",
        "fig.axes[1].set_ylabel('accuracy')\n",
        "fig.axes[1].set_xlabel('epoch')\n",
        "ax[1].legend(loc='lower right')\n",
        "\n",
        "plt.suptitle(\"VGG-Net 1 (data augmentation)\")\n",
        "\n",
        "plt.show()"
      ],
      "metadata": {
        "colab": {
          "base_uri": "https://localhost:8080/",
          "height": 370
        },
        "id": "G0FDZh2qbYT7",
        "outputId": "22935b4d-892c-469e-9ba2-97d316c9d24d"
      },
      "execution_count": null,
      "outputs": [
        {
          "output_type": "display_data",
          "data": {
            "text/plain": [
              "<Figure size 720x360 with 2 Axes>"
            ],
            "image/png": "[encoded data removed]"
          },
          "metadata": {
            "needs_background": "light"
          }
        }
      ]
    },
    {
      "cell_type": "markdown",
      "source": [
        "# Retrain most promising ResNet model with augmented data\n",
        "\n",
        "I'll go with resnet_2 instead of resnet_1 because both models had similar performance, but resnet_1's training was less stable and its training epochs took a little longer."
      ],
      "metadata": {
        "id": "cxDPf35yWzph"
      }
    },
    {
      "cell_type": "code",
      "source": [
        "resnet_2_aug = get_resnet_model(\n",
        "    downsample_blocks = 3, \n",
        "    name = \"resnet_2_aug\",\n",
        "    starting_filters=32, \n",
        "    res_block_layers=3,\n",
        "    drop_channel=0.2,\n",
        "    data_aug=True)\n",
        "\n",
        "resnet_2_aug.compile(\n",
        "    optimizer=tf.keras.optimizers.Adam(learning_rate=0.001),\n",
        "    loss=tf.keras.losses.SparseCategoricalCrossentropy(),\n",
        "    metrics=[\"accuracy\"])\n",
        "\n",
        "history_resnet_2_aug = resnet_2_aug.fit(x=X_train, y=y_train, validation_data=(X_val, y_val), \n",
        "    epochs=50,\n",
        "    batch_size=32,\n",
        "    callbacks=[early_stop])"
      ],
      "metadata": {
        "id": "bO5CDEwzWF1V"
      },
      "execution_count": null,
      "outputs": []
    },
    {
      "cell_type": "code",
      "source": [
        "# convert history to DataFrame:     \n",
        "df_resnet_2_aug= pd.DataFrame(history_resnet_2_aug.history) \n",
        "df_resnet_2_aug[\"epoch\"] = range(1,df_resnet_2_aug.shape[0]+1)\n",
        "\n",
        "# save to csv: \n",
        "hist_csv_file = PROJECT_DIR+\"history_resnet_2_aug.csv\"\n",
        "with open(hist_csv_file, mode='w') as f:\n",
        "    df_resnet_2_aug.to_csv(f)"
      ],
      "metadata": {
        "id": "zUKHdVVmWyag"
      },
      "execution_count": null,
      "outputs": []
    },
    {
      "cell_type": "code",
      "source": [
        "fig,ax = plt.subplots(nrows=1,ncols=2,figsize=(10,5))\n",
        "ax[0].plot(\"epoch\", \"loss\", data=df_resnet_2_aug, label=\"loss\")\n",
        "ax[0].plot(\"epoch\", \"val_loss\", data=df_resnet_2_aug, label=\"val_loss\")\n",
        "fig.axes[0].set_ylabel('loss')\n",
        "fig.axes[0].set_xlabel('epoch')\n",
        "ax[0].legend(loc='upper right')\n",
        "\n",
        "ax[1].plot(\"epoch\", \"accuracy\", data=df_resnet_2_aug, label=\"accuracy\")\n",
        "ax[1].plot(\"epoch\", \"val_accuracy\", data=df_resnet_2_aug, label=\"val_accuracy\")\n",
        "fig.axes[1].set_ylabel('accuracy')\n",
        "fig.axes[1].set_xlabel('epoch')\n",
        "ax[1].legend(loc='lower right')\n",
        "\n",
        "plt.suptitle(\"ResNet 2 (data augmentation)\")\n",
        "\n",
        "plt.show()"
      ],
      "metadata": {
        "colab": {
          "base_uri": "https://localhost:8080/",
          "height": 370
        },
        "id": "uYoqT9dtWyc5",
        "outputId": "6eca71f9-ca15-4916-d4d8-1c2096f51b99"
      },
      "execution_count": null,
      "outputs": [
        {
          "output_type": "display_data",
          "data": {
            "text/plain": [
              "<Figure size 720x360 with 2 Axes>"
            ],
            "image/png": "[encoded data removed]"
          },
          "metadata": {
            "needs_background": "light"
          }
        }
      ]
    },
    {
      "cell_type": "markdown",
      "source": [
        "\n",
        "## Retrain VGG-Net with augmented data + learning rate scheduling \n",
        "Triangular learning rate schedule.  Learning rate is halved on plateau (3 epochs without improvement)"
      ],
      "metadata": {
        "id": "joEkYSy1Wyfj"
      }
    },
    {
      "cell_type": "code",
      "source": [
        "vgg_final = get_vgg_model(\n",
        "    conv_blocks=3, \n",
        "    fc_size_list=[64,64], \n",
        "    name=\"vgg_final\", \n",
        "    conv_layers=3,\n",
        "    starting_filters=64,\n",
        "    drop_channel=0.1,\n",
        "    drop_neuron=0.3,\n",
        "    data_aug=True\n",
        ")\n",
        "\n",
        "vgg_final.compile(\n",
        "    optimizer=tf.keras.optimizers.Adam(learning_rate=0.001),\n",
        "    loss=tf.keras.losses.SparseCategoricalCrossentropy(),\n",
        "    metrics=[\"accuracy\"]\n",
        ")\n",
        "\n",
        "vgg_learner = ktrain.get_learner(\n",
        "    vgg_final,\n",
        "    train_data=(X_train, y_train), \n",
        "    val_data=(X_val, y_val), \n",
        "    batch_size=32\n",
        ")\n",
        "\n",
        "history_vgg_final = vgg_learner.autofit(\n",
        "    lr=.001,\n",
        "    epochs=100,\n",
        "    early_stopping=10,\n",
        "    reduce_on_plateau=3,\n",
        "    monitor=\"val_accuracy\"\n",
        ")"
      ],
      "metadata": {
        "colab": {
          "base_uri": "https://localhost:8080/"
        },
        "id": "wrPblX3gf1Oz",
        "outputId": "dbacd33b-f573-4caa-87c2-47b2813926c0"
      },
      "execution_count": null,
      "outputs": [
        {
          "output_type": "stream",
          "name": "stdout",
          "text": [
            "\n",
            "\n",
            "begin training using triangular learning rate policy with max lr of 0.001...\n",
            "Epoch 1/100\n",
            "1500/1500 [==============================] - 27s 17ms/step - loss: 1.0315 - accuracy: 0.6432 - val_loss: 0.4260 - val_accuracy: 0.8383\n",
            "Epoch 2/100\n",
            "1500/1500 [==============================] - 25s 17ms/step - loss: 0.5595 - accuracy: 0.8030 - val_loss: 0.3211 - val_accuracy: 0.8788\n",
            "Epoch 3/100\n",
            "1500/1500 [==============================] - 22s 15ms/step - loss: 0.4623 - accuracy: 0.8402 - val_loss: 0.2814 - val_accuracy: 0.8953\n",
            "Epoch 4/100\n",
            "1500/1500 [==============================] - 22s 15ms/step - loss: 0.4125 - accuracy: 0.8575 - val_loss: 0.2553 - val_accuracy: 0.9054\n",
            "Epoch 5/100\n",
            "1500/1500 [==============================] - 22s 15ms/step - loss: 0.3799 - accuracy: 0.8703 - val_loss: 0.2412 - val_accuracy: 0.9119\n",
            "Epoch 6/100\n",
            "1500/1500 [==============================] - 27s 18ms/step - loss: 0.3607 - accuracy: 0.8751 - val_loss: 0.2348 - val_accuracy: 0.9115\n",
            "Epoch 7/100\n",
            "1500/1500 [==============================] - 22s 15ms/step - loss: 0.3349 - accuracy: 0.8854 - val_loss: 0.2189 - val_accuracy: 0.9189\n",
            "Epoch 8/100\n",
            "1500/1500 [==============================] - 23s 16ms/step - loss: 0.3194 - accuracy: 0.8909 - val_loss: 0.2112 - val_accuracy: 0.9195\n",
            "Epoch 9/100\n",
            "1500/1500 [==============================] - 22s 15ms/step - loss: 0.3063 - accuracy: 0.8949 - val_loss: 0.2072 - val_accuracy: 0.9230\n",
            "Epoch 10/100\n",
            "1500/1500 [==============================] - 23s 15ms/step - loss: 0.2963 - accuracy: 0.8979 - val_loss: 0.1985 - val_accuracy: 0.9239\n",
            "Epoch 11/100\n",
            "1500/1500 [==============================] - 23s 15ms/step - loss: 0.2859 - accuracy: 0.9027 - val_loss: 0.1981 - val_accuracy: 0.9262\n",
            "Epoch 12/100\n",
            "1500/1500 [==============================] - 22s 15ms/step - loss: 0.2759 - accuracy: 0.9052 - val_loss: 0.1929 - val_accuracy: 0.9291\n",
            "Epoch 13/100\n",
            "1500/1500 [==============================] - 23s 16ms/step - loss: 0.2668 - accuracy: 0.9110 - val_loss: 0.1899 - val_accuracy: 0.9306\n",
            "Epoch 14/100\n",
            "1500/1500 [==============================] - 23s 16ms/step - loss: 0.2596 - accuracy: 0.9117 - val_loss: 0.1821 - val_accuracy: 0.9315\n",
            "Epoch 15/100\n",
            "1500/1500 [==============================] - 22s 15ms/step - loss: 0.2528 - accuracy: 0.9137 - val_loss: 0.1803 - val_accuracy: 0.9320\n",
            "Epoch 16/100\n",
            "1500/1500 [==============================] - 23s 15ms/step - loss: 0.2506 - accuracy: 0.9140 - val_loss: 0.1774 - val_accuracy: 0.9356\n",
            "Epoch 17/100\n",
            "1500/1500 [==============================] - 25s 17ms/step - loss: 0.2452 - accuracy: 0.9162 - val_loss: 0.1747 - val_accuracy: 0.9350\n",
            "Epoch 18/100\n",
            "1500/1500 [==============================] - 22s 15ms/step - loss: 0.2356 - accuracy: 0.9203 - val_loss: 0.1738 - val_accuracy: 0.9347\n",
            "Epoch 19/100\n",
            "1500/1500 [==============================] - 22s 14ms/step - loss: 0.2309 - accuracy: 0.9190 - val_loss: 0.1689 - val_accuracy: 0.9378\n",
            "Epoch 20/100\n",
            "1500/1500 [==============================] - 22s 15ms/step - loss: 0.2251 - accuracy: 0.9230 - val_loss: 0.1694 - val_accuracy: 0.9360\n",
            "Epoch 21/100\n",
            "1500/1500 [==============================] - 22s 15ms/step - loss: 0.2227 - accuracy: 0.9233 - val_loss: 0.1624 - val_accuracy: 0.9398\n",
            "Epoch 22/100\n",
            "1500/1500 [==============================] - 23s 15ms/step - loss: 0.2210 - accuracy: 0.9235 - val_loss: 0.1625 - val_accuracy: 0.9394\n",
            "Epoch 23/100\n",
            "1500/1500 [==============================] - 22s 15ms/step - loss: 0.2166 - accuracy: 0.9263 - val_loss: 0.1599 - val_accuracy: 0.9415\n",
            "Epoch 24/100\n",
            "1500/1500 [==============================] - 22s 15ms/step - loss: 0.2120 - accuracy: 0.9274 - val_loss: 0.1603 - val_accuracy: 0.9401\n",
            "Epoch 25/100\n",
            "1500/1500 [==============================] - 22s 15ms/step - loss: 0.2082 - accuracy: 0.9296 - val_loss: 0.1632 - val_accuracy: 0.9394\n",
            "Epoch 26/100\n",
            "1500/1500 [==============================] - 23s 15ms/step - loss: 0.1999 - accuracy: 0.9310 - val_loss: 0.1572 - val_accuracy: 0.9419\n",
            "Epoch 27/100\n",
            "1500/1500 [==============================] - 22s 15ms/step - loss: 0.2005 - accuracy: 0.9313 - val_loss: 0.1579 - val_accuracy: 0.9407\n",
            "Epoch 28/100\n",
            "1500/1500 [==============================] - 22s 15ms/step - loss: 0.1958 - accuracy: 0.9330 - val_loss: 0.1552 - val_accuracy: 0.9417\n",
            "Epoch 29/100\n",
            "1500/1500 [==============================] - 23s 16ms/step - loss: 0.1970 - accuracy: 0.9316 - val_loss: 0.1541 - val_accuracy: 0.9437\n",
            "Epoch 30/100\n",
            "1500/1500 [==============================] - 22s 15ms/step - loss: 0.1944 - accuracy: 0.9340 - val_loss: 0.1523 - val_accuracy: 0.9442\n",
            "Epoch 31/100\n",
            "1500/1500 [==============================] - 24s 16ms/step - loss: 0.1913 - accuracy: 0.9341 - val_loss: 0.1507 - val_accuracy: 0.9435\n",
            "Epoch 32/100\n",
            "1500/1500 [==============================] - 22s 15ms/step - loss: 0.1907 - accuracy: 0.9360 - val_loss: 0.1527 - val_accuracy: 0.9427\n",
            "Epoch 33/100\n",
            "1499/1500 [============================>.] - ETA: 0s - loss: 0.1876 - accuracy: 0.9358\n",
            "Epoch 00033: Reducing Max LR on Plateau: new max lr will be 0.0005 (if not early_stopping).\n",
            "1500/1500 [==============================] - 22s 15ms/step - loss: 0.1876 - accuracy: 0.9358 - val_loss: 0.1530 - val_accuracy: 0.9440\n",
            "Epoch 34/100\n",
            "1500/1500 [==============================] - 24s 16ms/step - loss: 0.1711 - accuracy: 0.9413 - val_loss: 0.1501 - val_accuracy: 0.9447\n",
            "Epoch 35/100\n",
            "1500/1500 [==============================] - 23s 16ms/step - loss: 0.1668 - accuracy: 0.9436 - val_loss: 0.1494 - val_accuracy: 0.9446\n",
            "Epoch 36/100\n",
            "1500/1500 [==============================] - 22s 15ms/step - loss: 0.1616 - accuracy: 0.9441 - val_loss: 0.1458 - val_accuracy: 0.9472\n",
            "Epoch 37/100\n",
            "1500/1500 [==============================] - 22s 15ms/step - loss: 0.1601 - accuracy: 0.9448 - val_loss: 0.1474 - val_accuracy: 0.9454\n",
            "Epoch 38/100\n",
            "1500/1500 [==============================] - 24s 16ms/step - loss: 0.1570 - accuracy: 0.9476 - val_loss: 0.1455 - val_accuracy: 0.9471\n",
            "Epoch 39/100\n",
            "1500/1500 [==============================] - 22s 15ms/step - loss: 0.1574 - accuracy: 0.9464 - val_loss: 0.1419 - val_accuracy: 0.9477\n",
            "Epoch 40/100\n",
            "1500/1500 [==============================] - 25s 17ms/step - loss: 0.1548 - accuracy: 0.9469 - val_loss: 0.1422 - val_accuracy: 0.9482\n",
            "Epoch 41/100\n",
            "1500/1500 [==============================] - 29s 19ms/step - loss: 0.1511 - accuracy: 0.9477 - val_loss: 0.1427 - val_accuracy: 0.9482\n",
            "Epoch 42/100\n",
            "1500/1500 [==============================] - 28s 19ms/step - loss: 0.1490 - accuracy: 0.9474 - val_loss: 0.1427 - val_accuracy: 0.9482\n",
            "Epoch 43/100\n",
            "1500/1500 [==============================] - ETA: 0s - loss: 0.1524 - accuracy: 0.9472\n",
            "Epoch 00043: Reducing Max LR on Plateau: new max lr will be 0.00025 (if not early_stopping).\n",
            "1500/1500 [==============================] - 27s 18ms/step - loss: 0.1524 - accuracy: 0.9472 - val_loss: 0.1415 - val_accuracy: 0.9477\n",
            "Epoch 44/100\n",
            "1500/1500 [==============================] - 27s 18ms/step - loss: 0.1424 - accuracy: 0.9516 - val_loss: 0.1423 - val_accuracy: 0.9478\n",
            "Epoch 45/100\n",
            "1500/1500 [==============================] - 27s 18ms/step - loss: 0.1382 - accuracy: 0.9525 - val_loss: 0.1435 - val_accuracy: 0.9473\n",
            "Epoch 46/100\n",
            "1500/1500 [==============================] - ETA: 0s - loss: 0.1402 - accuracy: 0.9526\n",
            "Epoch 00046: Reducing Max LR on Plateau: new max lr will be 0.000125 (if not early_stopping).\n",
            "1500/1500 [==============================] - 27s 18ms/step - loss: 0.1402 - accuracy: 0.9526 - val_loss: 0.1415 - val_accuracy: 0.9480\n",
            "Epoch 47/100\n",
            "1500/1500 [==============================] - 29s 19ms/step - loss: 0.1319 - accuracy: 0.9550 - val_loss: 0.1416 - val_accuracy: 0.9488\n",
            "Epoch 48/100\n",
            "1500/1500 [==============================] - 28s 19ms/step - loss: 0.1352 - accuracy: 0.9538 - val_loss: 0.1393 - val_accuracy: 0.9490\n",
            "Epoch 49/100\n",
            "1500/1500 [==============================] - 24s 16ms/step - loss: 0.1310 - accuracy: 0.9557 - val_loss: 0.1422 - val_accuracy: 0.9486\n",
            "Epoch 50/100\n",
            "1500/1500 [==============================] - 22s 15ms/step - loss: 0.1286 - accuracy: 0.9559 - val_loss: 0.1423 - val_accuracy: 0.9491\n",
            "Epoch 51/100\n",
            "1500/1500 [==============================] - 22s 15ms/step - loss: 0.1267 - accuracy: 0.9571 - val_loss: 0.1411 - val_accuracy: 0.9490\n",
            "Epoch 52/100\n",
            "1500/1500 [==============================] - 24s 16ms/step - loss: 0.1262 - accuracy: 0.9562 - val_loss: 0.1420 - val_accuracy: 0.9490\n",
            "Epoch 53/100\n",
            "1500/1500 [==============================] - 24s 16ms/step - loss: 0.1260 - accuracy: 0.9555 - val_loss: 0.1427 - val_accuracy: 0.9497\n",
            "Epoch 54/100\n",
            "1500/1500 [==============================] - 22s 15ms/step - loss: 0.1268 - accuracy: 0.9563 - val_loss: 0.1403 - val_accuracy: 0.9495\n",
            "Epoch 55/100\n",
            "1500/1500 [==============================] - 24s 16ms/step - loss: 0.1271 - accuracy: 0.9571 - val_loss: 0.1432 - val_accuracy: 0.9503\n",
            "Epoch 56/100\n",
            "1500/1500 [==============================] - 23s 16ms/step - loss: 0.1254 - accuracy: 0.9574 - val_loss: 0.1412 - val_accuracy: 0.9503\n",
            "Epoch 57/100\n",
            "1500/1500 [==============================] - 24s 16ms/step - loss: 0.1255 - accuracy: 0.9579 - val_loss: 0.1428 - val_accuracy: 0.9501\n",
            "Epoch 58/100\n",
            "1500/1500 [==============================] - ETA: 0s - loss: 0.1205 - accuracy: 0.9584\n",
            "Epoch 00058: Reducing Max LR on Plateau: new max lr will be 6.25e-05 (if not early_stopping).\n",
            "1500/1500 [==============================] - 24s 16ms/step - loss: 0.1205 - accuracy: 0.9584 - val_loss: 0.1431 - val_accuracy: 0.9496\n",
            "Epoch 59/100\n",
            "1500/1500 [==============================] - 24s 16ms/step - loss: 0.1201 - accuracy: 0.9585 - val_loss: 0.1427 - val_accuracy: 0.9501\n",
            "Epoch 60/100\n",
            "1500/1500 [==============================] - 24s 16ms/step - loss: 0.1164 - accuracy: 0.9597 - val_loss: 0.1429 - val_accuracy: 0.9493\n",
            "Epoch 61/100\n",
            "1499/1500 [============================>.] - ETA: 0s - loss: 0.1197 - accuracy: 0.9594\n",
            "Epoch 00061: Reducing Max LR on Plateau: new max lr will be 3.125e-05 (if not early_stopping).\n",
            "1500/1500 [==============================] - 24s 16ms/step - loss: 0.1197 - accuracy: 0.9594 - val_loss: 0.1441 - val_accuracy: 0.9499\n",
            "Epoch 62/100\n",
            "1500/1500 [==============================] - 24s 16ms/step - loss: 0.1167 - accuracy: 0.9600 - val_loss: 0.1436 - val_accuracy: 0.9499\n",
            "Epoch 63/100\n",
            "1500/1500 [==============================] - 24s 16ms/step - loss: 0.1178 - accuracy: 0.9600 - val_loss: 0.1433 - val_accuracy: 0.9507\n",
            "Epoch 64/100\n",
            "1500/1500 [==============================] - 24s 16ms/step - loss: 0.1175 - accuracy: 0.9599 - val_loss: 0.1431 - val_accuracy: 0.9503\n",
            "Epoch 65/100\n",
            "1500/1500 [==============================] - 24s 16ms/step - loss: 0.1151 - accuracy: 0.9609 - val_loss: 0.1439 - val_accuracy: 0.9500\n",
            "Epoch 66/100\n",
            "1500/1500 [==============================] - ETA: 0s - loss: 0.1144 - accuracy: 0.9605\n",
            "Epoch 00066: Reducing Max LR on Plateau: new max lr will be 1.5625e-05 (if not early_stopping).\n",
            "1500/1500 [==============================] - 22s 15ms/step - loss: 0.1144 - accuracy: 0.9605 - val_loss: 0.1439 - val_accuracy: 0.9498\n",
            "Epoch 67/100\n",
            "1500/1500 [==============================] - 23s 15ms/step - loss: 0.1170 - accuracy: 0.9610 - val_loss: 0.1446 - val_accuracy: 0.9501\n",
            "Epoch 68/100\n",
            "1500/1500 [==============================] - 22s 15ms/step - loss: 0.1134 - accuracy: 0.9615 - val_loss: 0.1436 - val_accuracy: 0.9503\n",
            "Epoch 69/100\n",
            "1500/1500 [==============================] - 24s 16ms/step - loss: 0.1134 - accuracy: 0.9609 - val_loss: 0.1436 - val_accuracy: 0.9514\n",
            "Epoch 70/100\n",
            "1500/1500 [==============================] - 24s 16ms/step - loss: 0.1129 - accuracy: 0.9611 - val_loss: 0.1427 - val_accuracy: 0.9513\n",
            "Epoch 71/100\n",
            "1500/1500 [==============================] - 24s 16ms/step - loss: 0.1131 - accuracy: 0.9603 - val_loss: 0.1432 - val_accuracy: 0.9503\n",
            "Epoch 72/100\n",
            "1499/1500 [============================>.] - ETA: 0s - loss: 0.1126 - accuracy: 0.9615\n",
            "Epoch 00072: Reducing Max LR on Plateau: new max lr will be 7.8125e-06 (if not early_stopping).\n",
            "1500/1500 [==============================] - 23s 15ms/step - loss: 0.1125 - accuracy: 0.9616 - val_loss: 0.1436 - val_accuracy: 0.9509\n",
            "Epoch 73/100\n",
            "1500/1500 [==============================] - 24s 16ms/step - loss: 0.1145 - accuracy: 0.9614 - val_loss: 0.1438 - val_accuracy: 0.9512\n",
            "Epoch 74/100\n",
            "1500/1500 [==============================] - 22s 15ms/step - loss: 0.1134 - accuracy: 0.9611 - val_loss: 0.1441 - val_accuracy: 0.9506\n",
            "Epoch 75/100\n",
            "1499/1500 [============================>.] - ETA: 0s - loss: 0.1132 - accuracy: 0.9616\n",
            "Epoch 00075: Reducing Max LR on Plateau: new max lr will be 3.90625e-06 (if not early_stopping).\n",
            "1500/1500 [==============================] - 23s 15ms/step - loss: 0.1132 - accuracy: 0.9616 - val_loss: 0.1444 - val_accuracy: 0.9503\n",
            "Epoch 76/100\n",
            "1500/1500 [==============================] - 22s 15ms/step - loss: 0.1122 - accuracy: 0.9613 - val_loss: 0.1429 - val_accuracy: 0.9512\n",
            "Epoch 77/100\n",
            "1500/1500 [==============================] - 23s 15ms/step - loss: 0.1142 - accuracy: 0.9612 - val_loss: 0.1444 - val_accuracy: 0.9503\n",
            "Epoch 78/100\n",
            "1500/1500 [==============================] - ETA: 0s - loss: 0.1127 - accuracy: 0.9614\n",
            "Epoch 00078: Reducing Max LR on Plateau: new max lr will be 1.953125e-06 (if not early_stopping).\n",
            "1500/1500 [==============================] - 23s 15ms/step - loss: 0.1127 - accuracy: 0.9614 - val_loss: 0.1444 - val_accuracy: 0.9509\n",
            "Epoch 79/100\n",
            "1498/1500 [============================>.] - ETA: 0s - loss: 0.1125 - accuracy: 0.9621Restoring model weights from the end of the best epoch: 69.\n",
            "1500/1500 [==============================] - 23s 15ms/step - loss: 0.1126 - accuracy: 0.9621 - val_loss: 0.1440 - val_accuracy: 0.9507\n",
            "Epoch 79: early stopping\n",
            "Weights from best epoch have been loaded into model.\n"
          ]
        }
      ]
    },
    {
      "cell_type": "code",
      "source": [
        "df_vgg_final = pd.DataFrame()\n",
        "df_vgg_final[\"loss\"]=history_vgg_final.history[\"loss\"]\n",
        "df_vgg_final[\"val_loss\"]=history_vgg_final.history[\"val_loss\"]\n",
        "df_vgg_final[\"accuracy\"]=history_vgg_final.history[\"accuracy\"]\n",
        "df_vgg_final[\"val_accuracy\"]=history_vgg_final.history[\"val_accuracy\"]\n",
        "df_vgg_final[\"epoch\"] = range(1,df_vgg_final.shape[0]+1)\n",
        "\n",
        "# save to csv: \n",
        "hist_csv_file = PROJECT_DIR+\"history_vgg_final.csv\"\n",
        "with open(hist_csv_file, mode='w') as f:\n",
        "    df_vgg_final.to_csv(f)"
      ],
      "metadata": {
        "id": "_Hv_8ucGf1Q_"
      },
      "execution_count": null,
      "outputs": []
    },
    {
      "cell_type": "code",
      "source": [
        "vgg_learner.save_model(PROJECT_DIR+\"vgg\")"
      ],
      "metadata": {
        "id": "N6nEddoOf1TJ"
      },
      "execution_count": null,
      "outputs": []
    },
    {
      "cell_type": "code",
      "source": [
        "vgg_learner.plot(\"loss\")"
      ],
      "metadata": {
        "colab": {
          "base_uri": "https://localhost:8080/",
          "height": 295
        },
        "id": "uzNiDwOof1VX",
        "outputId": "9637c33c-1f2a-4900-f2d0-3f676239c354"
      },
      "execution_count": null,
      "outputs": [
        {
          "output_type": "display_data",
          "data": {
            "text/plain": [
              "<Figure size 432x288 with 1 Axes>"
            ],
            "image/png": "[encoded data removed]"
          },
          "metadata": {
            "needs_background": "light"
          }
        }
      ]
    },
    {
      "cell_type": "code",
      "source": [
        "vgg_learner.plot(\"accuracy\")"
      ],
      "metadata": {
        "colab": {
          "base_uri": "https://localhost:8080/",
          "height": 295
        },
        "id": "v-dferkRf1Xa",
        "outputId": "1214c23d-946d-4325-8b93-cf56936e4a29"
      },
      "execution_count": null,
      "outputs": [
        {
          "output_type": "display_data",
          "data": {
            "text/plain": [
              "<Figure size 432x288 with 1 Axes>"
            ],
            "image/png": "[encoded data removed]"
          },
          "metadata": {
            "needs_background": "light"
          }
        }
      ]
    },
    {
      "cell_type": "code",
      "source": [
        "vgg_learner.evaluate(test_data=(X_test, tf.keras.utils.to_categorical(y_test)), \n",
        "                                class_names=[\"T-shirt\", 'Trouser','Pullover','Dress','Coat','Sandal','Shirt','Sneaker','Bag','Boot'])"
      ],
      "metadata": {
        "colab": {
          "base_uri": "https://localhost:8080/"
        },
        "id": "VPSlKB6WfFNF",
        "outputId": "9106d1e9-a5ae-48a5-aa77-fc623551c541"
      },
      "execution_count": null,
      "outputs": [
        {
          "output_type": "stream",
          "name": "stdout",
          "text": [
            "              precision    recall  f1-score   support\n",
            "\n",
            "     T-shirt       0.90      0.91      0.91      1000\n",
            "     Trouser       1.00      0.99      1.00      1000\n",
            "    Pullover       0.93      0.93      0.93      1000\n",
            "       Dress       0.95      0.95      0.95      1000\n",
            "        Coat       0.92      0.94      0.93      1000\n",
            "      Sandal       0.99      0.99      0.99      1000\n",
            "       Shirt       0.86      0.82      0.84      1000\n",
            "     Sneaker       0.96      0.98      0.97      1000\n",
            "         Bag       0.99      0.99      0.99      1000\n",
            "        Boot       0.99      0.96      0.97      1000\n",
            "\n",
            "    accuracy                           0.95     10000\n",
            "   macro avg       0.95      0.95      0.95     10000\n",
            "weighted avg       0.95      0.95      0.95     10000\n",
            "\n"
          ]
        },
        {
          "output_type": "execute_result",
          "data": {
            "text/plain": [
              "array([[913,   0,  15,  11,   2,   0,  56,   0,   3,   0],\n",
              "       [  0, 995,   0,   4,   0,   0,   0,   0,   1,   0],\n",
              "       [ 15,   1, 931,   9,  22,   0,  22,   0,   0,   0],\n",
              "       [  5,   2,   6, 950,  17,   0,  19,   0,   1,   0],\n",
              "       [  0,   0,  14,  14, 938,   0,  34,   0,   0,   0],\n",
              "       [  0,   0,   0,   0,   0, 990,   0,   9,   0,   1],\n",
              "       [ 81,   0,  35,  16,  45,   0, 820,   0,   3,   0],\n",
              "       [  0,   0,   0,   0,   0,   3,   0, 984,   0,  13],\n",
              "       [  2,   1,   1,   0,   1,   0,   1,   0, 994,   0],\n",
              "       [  0,   0,   0,   0,   0,   8,   0,  28,   1, 963]])"
            ]
          },
          "metadata": {},
          "execution_count": 110
        }
      ]
    },
    {
      "cell_type": "markdown",
      "source": [
        "\n",
        "## Retrain ResNet with augmented data + learning rate scheduling \n",
        "Triangular learning rate schedule.  Learning rate is halved on plateau (3 epochs without improvement)"
      ],
      "metadata": {
        "id": "__a1SYG9_7uv"
      }
    },
    {
      "cell_type": "code",
      "source": [
        "resnet_final = get_resnet_model(\n",
        "    downsample_blocks = 3, \n",
        "    name = \"resnet_2_final\",\n",
        "    starting_filters=32, \n",
        "    res_block_layers=3,\n",
        "    drop_channel=0.2,\n",
        "    data_aug=True)\n",
        "\n",
        "resnet_final.compile(\n",
        "    optimizer=tf.keras.optimizers.Adam(learning_rate=0.001),\n",
        "    loss=tf.keras.losses.SparseCategoricalCrossentropy(),\n",
        "    metrics=[\"accuracy\"])\n",
        "\n",
        "resnet_learner = ktrain.get_learner(\n",
        "    resnet_final,\n",
        "    train_data=(X_train, y_train), \n",
        "    val_data=(X_val, y_val), \n",
        "    batch_size=32\n",
        ")\n",
        "\n",
        "history_resnet_final = resnet_learner.autofit(\n",
        "    lr=.001,\n",
        "    epochs=100,\n",
        "    early_stopping=10,\n",
        "    reduce_on_plateau=3,\n",
        "    monitor=\"val_accuracy\"\n",
        ")\n"
      ],
      "metadata": {
        "colab": {
          "base_uri": "https://localhost:8080/"
        },
        "id": "7GisVgOQeSzI",
        "outputId": "a3638315-a6f5-43a8-e681-aef9836e3f6a"
      },
      "execution_count": null,
      "outputs": [
        {
          "output_type": "stream",
          "name": "stdout",
          "text": [
            "\n",
            "\n",
            "begin training using triangular learning rate policy with max lr of 0.001...\n",
            "Epoch 1/100\n",
            "1500/1500 [==============================] - 32s 20ms/step - loss: 0.8199 - accuracy: 0.6918 - val_loss: 0.3963 - val_accuracy: 0.8454\n",
            "Epoch 2/100\n",
            "1500/1500 [==============================] - 32s 21ms/step - loss: 0.4726 - accuracy: 0.8215 - val_loss: 0.3282 - val_accuracy: 0.8790\n",
            "Epoch 3/100\n",
            "1500/1500 [==============================] - 28s 19ms/step - loss: 0.4053 - accuracy: 0.8505 - val_loss: 0.2822 - val_accuracy: 0.8966\n",
            "Epoch 4/100\n",
            "1500/1500 [==============================] - 28s 19ms/step - loss: 0.3589 - accuracy: 0.8664 - val_loss: 0.2604 - val_accuracy: 0.9018\n",
            "Epoch 5/100\n",
            "1500/1500 [==============================] - 27s 18ms/step - loss: 0.3281 - accuracy: 0.8798 - val_loss: 0.2478 - val_accuracy: 0.9087\n",
            "Epoch 6/100\n",
            "1500/1500 [==============================] - 29s 20ms/step - loss: 0.3093 - accuracy: 0.8855 - val_loss: 0.2335 - val_accuracy: 0.9133\n",
            "Epoch 7/100\n",
            "1500/1500 [==============================] - 26s 18ms/step - loss: 0.2879 - accuracy: 0.8945 - val_loss: 0.2197 - val_accuracy: 0.9170\n",
            "Epoch 8/100\n",
            "1500/1500 [==============================] - 27s 18ms/step - loss: 0.2786 - accuracy: 0.8966 - val_loss: 0.2175 - val_accuracy: 0.9173\n",
            "Epoch 9/100\n",
            "1500/1500 [==============================] - 24s 16ms/step - loss: 0.2699 - accuracy: 0.9017 - val_loss: 0.2106 - val_accuracy: 0.9199\n",
            "Epoch 10/100\n",
            "1500/1500 [==============================] - 28s 19ms/step - loss: 0.2614 - accuracy: 0.9034 - val_loss: 0.2100 - val_accuracy: 0.9219\n",
            "Epoch 11/100\n",
            "1500/1500 [==============================] - 28s 19ms/step - loss: 0.2489 - accuracy: 0.9074 - val_loss: 0.2026 - val_accuracy: 0.9234\n",
            "Epoch 12/100\n",
            "1500/1500 [==============================] - 27s 18ms/step - loss: 0.2471 - accuracy: 0.9095 - val_loss: 0.1986 - val_accuracy: 0.9244\n",
            "Epoch 13/100\n",
            "1500/1500 [==============================] - 28s 19ms/step - loss: 0.2391 - accuracy: 0.9119 - val_loss: 0.1931 - val_accuracy: 0.9259\n",
            "Epoch 14/100\n",
            "1500/1500 [==============================] - 33s 22ms/step - loss: 0.2321 - accuracy: 0.9133 - val_loss: 0.1915 - val_accuracy: 0.9271\n",
            "Epoch 15/100\n",
            "1500/1500 [==============================] - 26s 17ms/step - loss: 0.2243 - accuracy: 0.9179 - val_loss: 0.1860 - val_accuracy: 0.9296\n",
            "Epoch 16/100\n",
            "1500/1500 [==============================] - 27s 18ms/step - loss: 0.2211 - accuracy: 0.9187 - val_loss: 0.1867 - val_accuracy: 0.9306\n",
            "Epoch 17/100\n",
            "1500/1500 [==============================] - 24s 16ms/step - loss: 0.2180 - accuracy: 0.9205 - val_loss: 0.1833 - val_accuracy: 0.9312\n",
            "Epoch 18/100\n",
            "1500/1500 [==============================] - 25s 17ms/step - loss: 0.2131 - accuracy: 0.9222 - val_loss: 0.1808 - val_accuracy: 0.9323\n",
            "Epoch 19/100\n",
            "1500/1500 [==============================] - 25s 17ms/step - loss: 0.2108 - accuracy: 0.9223 - val_loss: 0.1792 - val_accuracy: 0.9316\n",
            "Epoch 20/100\n",
            "1500/1500 [==============================] - 26s 17ms/step - loss: 0.2079 - accuracy: 0.9231 - val_loss: 0.1738 - val_accuracy: 0.9358\n",
            "Epoch 21/100\n",
            "1500/1500 [==============================] - 25s 16ms/step - loss: 0.2015 - accuracy: 0.9257 - val_loss: 0.1754 - val_accuracy: 0.9364\n",
            "Epoch 22/100\n",
            "1500/1500 [==============================] - 24s 16ms/step - loss: 0.1994 - accuracy: 0.9269 - val_loss: 0.1723 - val_accuracy: 0.9349\n",
            "Epoch 23/100\n",
            "1500/1500 [==============================] - 25s 17ms/step - loss: 0.1965 - accuracy: 0.9275 - val_loss: 0.1691 - val_accuracy: 0.9371\n",
            "Epoch 24/100\n",
            "1500/1500 [==============================] - 24s 16ms/step - loss: 0.1950 - accuracy: 0.9268 - val_loss: 0.1696 - val_accuracy: 0.9360\n",
            "Epoch 25/100\n",
            "1500/1500 [==============================] - 25s 17ms/step - loss: 0.1911 - accuracy: 0.9291 - val_loss: 0.1743 - val_accuracy: 0.9336\n",
            "Epoch 26/100\n",
            "1500/1500 [==============================] - 25s 17ms/step - loss: 0.1890 - accuracy: 0.9305 - val_loss: 0.1644 - val_accuracy: 0.9382\n",
            "Epoch 27/100\n",
            "1500/1500 [==============================] - 25s 17ms/step - loss: 0.1838 - accuracy: 0.9323 - val_loss: 0.1659 - val_accuracy: 0.9387\n",
            "Epoch 28/100\n",
            "1500/1500 [==============================] - 24s 16ms/step - loss: 0.1822 - accuracy: 0.9319 - val_loss: 0.1630 - val_accuracy: 0.9387\n",
            "Epoch 29/100\n",
            "1500/1500 [==============================] - 25s 17ms/step - loss: 0.1820 - accuracy: 0.9318 - val_loss: 0.1676 - val_accuracy: 0.9386\n",
            "Epoch 30/100\n",
            "1500/1500 [==============================] - 24s 16ms/step - loss: 0.1788 - accuracy: 0.9337 - val_loss: 0.1636 - val_accuracy: 0.9399\n",
            "Epoch 31/100\n",
            "1500/1500 [==============================] - 24s 16ms/step - loss: 0.1748 - accuracy: 0.9359 - val_loss: 0.1615 - val_accuracy: 0.9398\n",
            "Epoch 32/100\n",
            "1500/1500 [==============================] - 24s 16ms/step - loss: 0.1728 - accuracy: 0.9360 - val_loss: 0.1608 - val_accuracy: 0.9404\n",
            "Epoch 33/100\n",
            "1500/1500 [==============================] - 24s 16ms/step - loss: 0.1743 - accuracy: 0.9352 - val_loss: 0.1604 - val_accuracy: 0.9407\n",
            "Epoch 34/100\n",
            "1500/1500 [==============================] - 24s 16ms/step - loss: 0.1677 - accuracy: 0.9376 - val_loss: 0.1599 - val_accuracy: 0.9402\n",
            "Epoch 35/100\n",
            "1500/1500 [==============================] - 24s 16ms/step - loss: 0.1668 - accuracy: 0.9383 - val_loss: 0.1613 - val_accuracy: 0.9386\n",
            "Epoch 36/100\n",
            "1500/1500 [==============================] - 24s 16ms/step - loss: 0.1660 - accuracy: 0.9390 - val_loss: 0.1572 - val_accuracy: 0.9413\n",
            "Epoch 37/100\n",
            "1500/1500 [==============================] - 25s 16ms/step - loss: 0.1639 - accuracy: 0.9393 - val_loss: 0.1597 - val_accuracy: 0.9393\n",
            "Epoch 38/100\n",
            "1500/1500 [==============================] - 25s 16ms/step - loss: 0.1617 - accuracy: 0.9390 - val_loss: 0.1598 - val_accuracy: 0.9402\n",
            "Epoch 39/100\n",
            "1500/1500 [==============================] - 24s 16ms/step - loss: 0.1590 - accuracy: 0.9418 - val_loss: 0.1561 - val_accuracy: 0.9425\n",
            "Epoch 40/100\n",
            "1500/1500 [==============================] - 24s 16ms/step - loss: 0.1557 - accuracy: 0.9424 - val_loss: 0.1547 - val_accuracy: 0.9434\n",
            "Epoch 41/100\n",
            "1500/1500 [==============================] - 25s 16ms/step - loss: 0.1549 - accuracy: 0.9431 - val_loss: 0.1613 - val_accuracy: 0.9407\n",
            "Epoch 42/100\n",
            "1500/1500 [==============================] - 24s 16ms/step - loss: 0.1544 - accuracy: 0.9423 - val_loss: 0.1573 - val_accuracy: 0.9439\n",
            "Epoch 43/100\n",
            "1500/1500 [==============================] - 25s 17ms/step - loss: 0.1527 - accuracy: 0.9443 - val_loss: 0.1544 - val_accuracy: 0.9436\n",
            "Epoch 44/100\n",
            "1500/1500 [==============================] - 24s 16ms/step - loss: 0.1509 - accuracy: 0.9442 - val_loss: 0.1595 - val_accuracy: 0.9408\n",
            "Epoch 45/100\n",
            "1497/1500 [============================>.] - ETA: 0s - loss: 0.1501 - accuracy: 0.9460\n",
            "Epoch 00045: Reducing Max LR on Plateau: new max lr will be 0.0005 (if not early_stopping).\n",
            "1500/1500 [==============================] - 24s 16ms/step - loss: 0.1502 - accuracy: 0.9460 - val_loss: 0.1565 - val_accuracy: 0.9421\n",
            "Epoch 46/100\n",
            "1500/1500 [==============================] - 25s 16ms/step - loss: 0.1367 - accuracy: 0.9501 - val_loss: 0.1518 - val_accuracy: 0.9449\n",
            "Epoch 47/100\n",
            "1500/1500 [==============================] - 25s 17ms/step - loss: 0.1352 - accuracy: 0.9513 - val_loss: 0.1503 - val_accuracy: 0.9467\n",
            "Epoch 48/100\n",
            "1500/1500 [==============================] - 25s 17ms/step - loss: 0.1301 - accuracy: 0.9520 - val_loss: 0.1512 - val_accuracy: 0.9457\n",
            "Epoch 49/100\n",
            "1500/1500 [==============================] - 25s 16ms/step - loss: 0.1296 - accuracy: 0.9527 - val_loss: 0.1517 - val_accuracy: 0.9459\n",
            "Epoch 50/100\n",
            "1500/1500 [==============================] - 24s 16ms/step - loss: 0.1289 - accuracy: 0.9529 - val_loss: 0.1514 - val_accuracy: 0.9475\n",
            "Epoch 51/100\n",
            "1500/1500 [==============================] - 25s 16ms/step - loss: 0.1227 - accuracy: 0.9548 - val_loss: 0.1509 - val_accuracy: 0.9478\n",
            "Epoch 52/100\n",
            "1500/1500 [==============================] - 25s 17ms/step - loss: 0.1250 - accuracy: 0.9535 - val_loss: 0.1531 - val_accuracy: 0.9476\n",
            "Epoch 53/100\n",
            "1500/1500 [==============================] - 24s 16ms/step - loss: 0.1246 - accuracy: 0.9539 - val_loss: 0.1529 - val_accuracy: 0.9459\n",
            "Epoch 54/100\n",
            "1500/1500 [==============================] - ETA: 0s - loss: 0.1195 - accuracy: 0.9568\n",
            "Epoch 00054: Reducing Max LR on Plateau: new max lr will be 0.00025 (if not early_stopping).\n",
            "1500/1500 [==============================] - 25s 16ms/step - loss: 0.1195 - accuracy: 0.9568 - val_loss: 0.1520 - val_accuracy: 0.9478\n",
            "Epoch 55/100\n",
            "1500/1500 [==============================] - 25s 16ms/step - loss: 0.1161 - accuracy: 0.9570 - val_loss: 0.1506 - val_accuracy: 0.9477\n",
            "Epoch 56/100\n",
            "1500/1500 [==============================] - 25s 17ms/step - loss: 0.1138 - accuracy: 0.9583 - val_loss: 0.1513 - val_accuracy: 0.9478\n",
            "Epoch 57/100\n",
            "1500/1500 [==============================] - 25s 16ms/step - loss: 0.1126 - accuracy: 0.9589 - val_loss: 0.1512 - val_accuracy: 0.9482\n",
            "Epoch 58/100\n",
            "1500/1500 [==============================] - 24s 16ms/step - loss: 0.1096 - accuracy: 0.9602 - val_loss: 0.1498 - val_accuracy: 0.9497\n",
            "Epoch 59/100\n",
            "1500/1500 [==============================] - 25s 17ms/step - loss: 0.1087 - accuracy: 0.9598 - val_loss: 0.1544 - val_accuracy: 0.9481\n",
            "Epoch 60/100\n",
            "1500/1500 [==============================] - 30s 20ms/step - loss: 0.1049 - accuracy: 0.9610 - val_loss: 0.1514 - val_accuracy: 0.9492\n",
            "Epoch 61/100\n",
            "1500/1500 [==============================] - ETA: 0s - loss: 0.1052 - accuracy: 0.9612\n",
            "Epoch 00061: Reducing Max LR on Plateau: new max lr will be 0.000125 (if not early_stopping).\n",
            "1500/1500 [==============================] - 26s 17ms/step - loss: 0.1052 - accuracy: 0.9612 - val_loss: 0.1535 - val_accuracy: 0.9481\n",
            "Epoch 62/100\n",
            "1500/1500 [==============================] - 25s 16ms/step - loss: 0.1044 - accuracy: 0.9616 - val_loss: 0.1528 - val_accuracy: 0.9485\n",
            "Epoch 63/100\n",
            "1500/1500 [==============================] - 24s 16ms/step - loss: 0.1024 - accuracy: 0.9622 - val_loss: 0.1518 - val_accuracy: 0.9500\n",
            "Epoch 64/100\n",
            "1500/1500 [==============================] - 25s 16ms/step - loss: 0.1007 - accuracy: 0.9625 - val_loss: 0.1515 - val_accuracy: 0.9499\n",
            "Epoch 65/100\n",
            "1500/1500 [==============================] - 26s 17ms/step - loss: 0.1017 - accuracy: 0.9612 - val_loss: 0.1528 - val_accuracy: 0.9489\n",
            "Epoch 66/100\n",
            "1499/1500 [============================>.] - ETA: 0s - loss: 0.1016 - accuracy: 0.9628\n",
            "Epoch 00066: Reducing Max LR on Plateau: new max lr will be 6.25e-05 (if not early_stopping).\n",
            "1500/1500 [==============================] - 32s 22ms/step - loss: 0.1017 - accuracy: 0.9628 - val_loss: 0.1533 - val_accuracy: 0.9488\n",
            "Epoch 67/100\n",
            "1500/1500 [==============================] - 32s 21ms/step - loss: 0.0972 - accuracy: 0.9643 - val_loss: 0.1518 - val_accuracy: 0.9493\n",
            "Epoch 68/100\n",
            "1500/1500 [==============================] - 30s 20ms/step - loss: 0.0966 - accuracy: 0.9641 - val_loss: 0.1523 - val_accuracy: 0.9499\n",
            "Epoch 69/100\n",
            "1498/1500 [============================>.] - ETA: 0s - loss: 0.0980 - accuracy: 0.9639\n",
            "Epoch 00069: Reducing Max LR on Plateau: new max lr will be 3.125e-05 (if not early_stopping).\n",
            "1500/1500 [==============================] - 30s 20ms/step - loss: 0.0979 - accuracy: 0.9640 - val_loss: 0.1543 - val_accuracy: 0.9492\n",
            "Epoch 70/100\n",
            "1500/1500 [==============================] - 29s 19ms/step - loss: 0.0974 - accuracy: 0.9644 - val_loss: 0.1528 - val_accuracy: 0.9488\n",
            "Epoch 71/100\n",
            "1500/1500 [==============================] - 24s 16ms/step - loss: 0.0959 - accuracy: 0.9648 - val_loss: 0.1542 - val_accuracy: 0.9492\n",
            "Epoch 72/100\n",
            "1498/1500 [============================>.] - ETA: 0s - loss: 0.0974 - accuracy: 0.9640\n",
            "Epoch 00072: Reducing Max LR on Plateau: new max lr will be 1.5625e-05 (if not early_stopping).\n",
            "1500/1500 [==============================] - 24s 16ms/step - loss: 0.0974 - accuracy: 0.9640 - val_loss: 0.1541 - val_accuracy: 0.9492\n",
            "Epoch 73/100\n",
            "1497/1500 [============================>.] - ETA: 0s - loss: 0.0954 - accuracy: 0.9655Restoring model weights from the end of the best epoch: 63.\n",
            "1500/1500 [==============================] - 24s 16ms/step - loss: 0.0955 - accuracy: 0.9654 - val_loss: 0.1533 - val_accuracy: 0.9498\n",
            "Epoch 73: early stopping\n",
            "Weights from best epoch have been loaded into model.\n"
          ]
        }
      ]
    },
    {
      "cell_type": "code",
      "source": [
        "df_resnet_final = pd.DataFrame()\n",
        "df_resnet_final[\"loss\"]=history_resnet_final.history[\"loss\"]\n",
        "df_resnet_final[\"val_loss\"]=history_resnet_final.history[\"val_loss\"]\n",
        "df_resnet_final[\"accuracy\"]=history_resnet_final.history[\"accuracy\"]\n",
        "df_resnet_final[\"val_accuracy\"]=history_resnet_final.history[\"val_accuracy\"]\n",
        "df_resnet_final[\"epoch\"] = range(1,df_resnet_final.shape[0]+1)\n",
        "\n",
        "# save to csv: \n",
        "hist_csv_file = PROJECT_DIR+\"history_resnet_final.csv\"\n",
        "with open(hist_csv_file, mode='w') as f:\n",
        "    df_resnet_final.to_csv(f)"
      ],
      "metadata": {
        "id": "iMxn6FPlfB4V"
      },
      "execution_count": null,
      "outputs": []
    },
    {
      "cell_type": "code",
      "source": [
        "resnet_learner.plot(\"accuracy\")"
      ],
      "metadata": {
        "colab": {
          "base_uri": "https://localhost:8080/",
          "height": 295
        },
        "id": "fOvGuBn9fpEe",
        "outputId": "56a1dd01-4534-4d33-aea0-e17200f6b586"
      },
      "execution_count": null,
      "outputs": [
        {
          "output_type": "display_data",
          "data": {
            "text/plain": [
              "<Figure size 432x288 with 1 Axes>"
            ],
            "image/png": "[encoded data removed]"
          },
          "metadata": {
            "needs_background": "light"
          }
        }
      ]
    },
    {
      "cell_type": "code",
      "source": [
        "resnet_learner.evaluate(test_data=(X_test, tf.keras.utils.to_categorical(y_test)), \n",
        "                        class_names=[\"T-shirt\", 'Trouser','Pullover','Dress','Coat','Sandal','Shirt','Sneaker','Bag','Boot']\n",
        "                        )"
      ],
      "metadata": {
        "colab": {
          "base_uri": "https://localhost:8080/"
        },
        "id": "zklnJ88ifpGh",
        "outputId": "776a363a-5351-41b0-e941-389ed67533a6"
      },
      "execution_count": null,
      "outputs": [
        {
          "output_type": "stream",
          "name": "stdout",
          "text": [
            "              precision    recall  f1-score   support\n",
            "\n",
            "     T-shirt       0.90      0.91      0.90      1000\n",
            "     Trouser       1.00      0.99      1.00      1000\n",
            "    Pullover       0.93      0.93      0.93      1000\n",
            "       Dress       0.94      0.95      0.95      1000\n",
            "        Coat       0.90      0.94      0.92      1000\n",
            "      Sandal       0.99      0.99      0.99      1000\n",
            "       Shirt       0.86      0.82      0.84      1000\n",
            "     Sneaker       0.98      0.98      0.98      1000\n",
            "         Bag       0.99      0.99      0.99      1000\n",
            "        Boot       0.98      0.98      0.98      1000\n",
            "\n",
            "    accuracy                           0.95     10000\n",
            "   macro avg       0.95      0.95      0.95     10000\n",
            "weighted avg       0.95      0.95      0.95     10000\n",
            "\n"
          ]
        },
        {
          "output_type": "execute_result",
          "data": {
            "text/plain": [
              "array([[905,   0,  13,  13,   0,   1,  65,   0,   3,   0],\n",
              "       [  0, 993,   0,   3,   2,   0,   1,   0,   1,   0],\n",
              "       [ 10,   0, 925,  10,  30,   0,  25,   0,   0,   0],\n",
              "       [  7,   1,   8, 955,  18,   0,  11,   0,   0,   0],\n",
              "       [  0,   0,  16,  11, 941,   0,  32,   0,   0,   0],\n",
              "       [  0,   0,   0,   0,   0, 994,   0,   4,   0,   2],\n",
              "       [ 76,   0,  35,  19,  47,   0, 820,   0,   3,   0],\n",
              "       [  0,   0,   0,   0,   0,   6,   0, 979,   0,  15],\n",
              "       [  3,   1,   0,   1,   2,   1,   1,   0, 991,   0],\n",
              "       [  0,   0,   1,   0,   0,   5,   0,  18,   0, 976]])"
            ]
          },
          "metadata": {},
          "execution_count": 109
        }
      ]
    },
    {
      "cell_type": "code",
      "source": [
        "resnet_learner.save_model(PROJECT_DIR+\"resnet\")"
      ],
      "metadata": {
        "id": "4emUEV98osb4"
      },
      "execution_count": null,
      "outputs": []
    }
  ]
}